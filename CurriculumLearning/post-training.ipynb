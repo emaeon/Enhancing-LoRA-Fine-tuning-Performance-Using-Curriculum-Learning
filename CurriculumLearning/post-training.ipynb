{
 "cells": [
  {
   "cell_type": "markdown",
   "metadata": {},
   "source": [
    "# 1. IMPORT"
   ]
  },
  {
   "cell_type": "code",
   "execution_count": 1,
   "metadata": {},
   "outputs": [],
   "source": [
    "#필요한 모듈을 import 합니다.\n",
    "from numba import cuda\n",
    "\n",
    "#이후 초기화 작업을 진행해줍니다.\n",
    "device = cuda.get_current_device()\n",
    "device.reset()"
   ]
  },
  {
   "cell_type": "code",
   "execution_count": 2,
   "metadata": {},
   "outputs": [],
   "source": [
    "import torch, gc\n",
    "gc.collect()\n",
    "torch.cuda.empty_cache()"
   ]
  },
  {
   "cell_type": "code",
   "execution_count": 3,
   "metadata": {},
   "outputs": [],
   "source": [
    "from pytorchtools import EarlyStopping"
   ]
  },
  {
   "cell_type": "code",
   "execution_count": 4,
   "metadata": {},
   "outputs": [
    {
     "name": "stderr",
     "output_type": "stream",
     "text": [
      "/usr/local/lib/python3.8/dist-packages/pandas/core/computation/expressions.py:20: UserWarning: Pandas requires version '2.7.3' or newer of 'numexpr' (version '2.7.0' currently installed).\n",
      "  from pandas.core.computation.check import NUMEXPR_INSTALLED\n"
     ]
    }
   ],
   "source": [
    "import pandas as pd\n",
    "import numpy as np\n",
    "from sklearn.metrics import accuracy_score, f1_score\n",
    "from sklearn.preprocessing import LabelEncoder\n",
    "import random\n",
    "import os\n",
    "\n",
    "import torch\n",
    "from torch import nn\n",
    "import torch.nn.functional as F\n",
    "from torch.utils.data import Dataset, DataLoader\n",
    "from tqdm import tqdm\n",
    "from torch.optim import AdamW\n",
    "\n",
    "import matplotlib as mpl\n",
    "import matplotlib.pyplot as plt\n",
    "\n",
    "from transformers import logging\n",
    "logging.set_verbosity_error()\n",
    "import warnings\n",
    "warnings.filterwarnings(action='ignore')\n"
   ]
  },
  {
   "cell_type": "code",
   "execution_count": 5,
   "metadata": {},
   "outputs": [
    {
     "data": {
      "text/plain": [
       "device(type='cuda')"
      ]
     },
     "execution_count": 5,
     "metadata": {},
     "output_type": "execute_result"
    }
   ],
   "source": [
    "device = torch.device('cuda')if torch.cuda.is_available() else torch.device('cpu')\n",
    "device"
   ]
  },
  {
   "cell_type": "code",
   "execution_count": 6,
   "metadata": {},
   "outputs": [
    {
     "name": "stdout",
     "output_type": "stream",
     "text": [
      "Device: cuda\n",
      "Current cuda device: 0\n",
      "Count of using GPUs: 2\n"
     ]
    }
   ],
   "source": [
    "print('Device:', device)\n",
    "print('Current cuda device:', torch.cuda.current_device())\n",
    "print('Count of using GPUs:', torch.cuda.device_count())"
   ]
  },
  {
   "cell_type": "markdown",
   "metadata": {},
   "source": [
    "# 하이퍼파라미터 설정"
   ]
  },
  {
   "cell_type": "code",
   "execution_count": 7,
   "metadata": {},
   "outputs": [],
   "source": [
    "class config():\n",
    "    def __init__(self):\n",
    "        \n",
    "        self.source_len=128\n",
    "        self.epochs = 10\n",
    "        self.learning_rate=0.000005\n",
    "        self.batch_size=16\n",
    "        self.shuffle = True\n",
    "        self.seed=600\n",
    "        self.num_labels=10\n",
    "        self.data_path= '/home/work/CL/dataset/healthcare/healthcare5000.pickle'\n",
    "        self.model_path = 'klue/roberta-large'\n",
    "        # self.modelsave_path = r'C:\\Users\\user\\OneDrive - KookminUNIV\\바탕 화면\\추가사전학습\\Fine_tuning'\n",
    "        # self.loss_path = r'C:\\Users\\user\\OneDrive - KookminUNIV\\바탕 화면\\추가사전학습\\Fine_tuning'\n",
    "cfg = config()"
   ]
  },
  {
   "cell_type": "markdown",
   "metadata": {},
   "source": [
    "# 랜덤시드 고정"
   ]
  },
  {
   "cell_type": "code",
   "execution_count": 8,
   "metadata": {},
   "outputs": [],
   "source": [
    "def seed_everything(seed):\n",
    "    random.seed(seed)\n",
    "    os.environ['PYTHONHASHSEED']=str(seed)\n",
    "    np.random.seed(seed)\n",
    "    torch.manual_seed(seed)\n",
    "    torch.cuda.manual_seed(seed)\n",
    "    torch.backends.cudnn.deterministic=True\n",
    "    torch.bachends.cudnn.bechmark = True\n",
    "    \n",
    "    seed_everything(cfg.seed) #seed 고정"
   ]
  },
  {
   "cell_type": "markdown",
   "metadata": {},
   "source": [
    "# 데이터 로드"
   ]
  },
  {
   "cell_type": "code",
   "execution_count": null,
   "metadata": {},
   "outputs": [],
   "source": [
    "from sklearn.utils import shuffle\n",
    "trainset = pd.read_pickle('/home/work/CL/dataset/healthcare/healthcare_train.pickle')\n",
    "testset = pd.read_pickle('/home/work/CL/dataset/healthcare/healthcare_test.pickle')\n",
    "valset = pd.read_pickle('/home/work/CL/dataset/healthcare/healthcare_val.pickle')"
   ]
  },
  {
   "cell_type": "code",
   "execution_count": null,
   "metadata": {},
   "outputs": [],
   "source": [
    "# loss확인 실험"
   ]
  },
  {
   "cell_type": "code",
   "execution_count": 14,
   "metadata": {},
   "outputs": [],
   "source": [
    "df1 = pd.concat([trainset,testset,valset],axis=0)\n",
    "# df1.to_excel('final_all_healthdata.xlsx',index=False)"
   ]
  },
  {
   "cell_type": "code",
   "execution_count": 104,
   "metadata": {},
   "outputs": [
    {
     "data": {
      "text/html": [
       "<div>\n",
       "<style scoped>\n",
       "    .dataframe tbody tr th:only-of-type {\n",
       "        vertical-align: middle;\n",
       "    }\n",
       "\n",
       "    .dataframe tbody tr th {\n",
       "        vertical-align: top;\n",
       "    }\n",
       "\n",
       "    .dataframe thead th {\n",
       "        text-align: right;\n",
       "    }\n",
       "</style>\n",
       "<table border=\"1\" class=\"dataframe\">\n",
       "  <thead>\n",
       "    <tr style=\"text-align: right;\">\n",
       "      <th></th>\n",
       "      <th>clean_text</th>\n",
       "      <th>cos_dis</th>\n",
       "      <th>수도라벨</th>\n",
       "    </tr>\n",
       "  </thead>\n",
       "  <tbody>\n",
       "    <tr>\n",
       "      <th>515</th>\n",
       "      <td>주파수 및 가속도를 독립적 또는 연동으로 조설 가능한 소닉 제너래이터 중제어 핵심 ...</td>\n",
       "      <td>0.842924</td>\n",
       "      <td>5</td>\n",
       "    </tr>\n",
       "    <tr>\n",
       "      <th>822</th>\n",
       "      <td>원격 바이오 레이더 센서 상용 시스템 및 공간융합센서를 활용한 확장형 개인건강관리 ...</td>\n",
       "      <td>0.831936</td>\n",
       "      <td>5</td>\n",
       "    </tr>\n",
       "    <tr>\n",
       "      <th>1560</th>\n",
       "      <td>차년도 단계에서는 단계 차년도에서 완성된 의 보청기 시스템을 임상평가하고 이에 따른...</td>\n",
       "      <td>0.828643</td>\n",
       "      <td>5</td>\n",
       "    </tr>\n",
       "    <tr>\n",
       "      <th>656</th>\n",
       "      <td>제 세부에서는 개인특화 의료지원 데이터웨어하우스화 기술 및 지식 자기 조직화 기술을...</td>\n",
       "      <td>0.827690</td>\n",
       "      <td>5</td>\n",
       "    </tr>\n",
       "    <tr>\n",
       "      <th>895</th>\n",
       "      <td>융합형 초음파 아날로그 디지털 신호처리기 설계를 목표로 초음파 시스템의 범용 회로 ...</td>\n",
       "      <td>0.825808</td>\n",
       "      <td>9</td>\n",
       "    </tr>\n",
       "    <tr>\n",
       "      <th>...</th>\n",
       "      <td>...</td>\n",
       "      <td>...</td>\n",
       "      <td>...</td>\n",
       "    </tr>\n",
       "    <tr>\n",
       "      <th>1823</th>\n",
       "      <td>임플란트 시술시 자가 골 이식을 돕기 위한 기능을 포함한</td>\n",
       "      <td>0.276925</td>\n",
       "      <td>5</td>\n",
       "    </tr>\n",
       "    <tr>\n",
       "      <th>2454</th>\n",
       "      <td>유방암 진단을 위한 세포조직학적 방법을 대체 할 수 있는</td>\n",
       "      <td>0.273220</td>\n",
       "      <td>7</td>\n",
       "    </tr>\n",
       "    <tr>\n",
       "      <th>301</th>\n",
       "      <td>의 용도에 따른 의 개발</td>\n",
       "      <td>0.267426</td>\n",
       "      <td>9</td>\n",
       "    </tr>\n",
       "    <tr>\n",
       "      <th>1502</th>\n",
       "      <td>저압을 이용한 챔버 형태의 하지부정맥 치료기의 개발</td>\n",
       "      <td>0.265826</td>\n",
       "      <td>5</td>\n",
       "    </tr>\n",
       "    <tr>\n",
       "      <th>574</th>\n",
       "      <td>완도 주민의 정신건강과 삶의 질 정도를 알아본다</td>\n",
       "      <td>0.187571</td>\n",
       "      <td>8</td>\n",
       "    </tr>\n",
       "  </tbody>\n",
       "</table>\n",
       "<p>4917 rows × 3 columns</p>\n",
       "</div>"
      ],
      "text/plain": [
       "                                             clean_text   cos_dis  수도라벨\n",
       "515   주파수 및 가속도를 독립적 또는 연동으로 조설 가능한 소닉 제너래이터 중제어 핵심 ...  0.842924     5\n",
       "822   원격 바이오 레이더 센서 상용 시스템 및 공간융합센서를 활용한 확장형 개인건강관리 ...  0.831936     5\n",
       "1560  차년도 단계에서는 단계 차년도에서 완성된 의 보청기 시스템을 임상평가하고 이에 따른...  0.828643     5\n",
       "656   제 세부에서는 개인특화 의료지원 데이터웨어하우스화 기술 및 지식 자기 조직화 기술을...  0.827690     5\n",
       "895   융합형 초음파 아날로그 디지털 신호처리기 설계를 목표로 초음파 시스템의 범용 회로 ...  0.825808     9\n",
       "...                                                 ...       ...   ...\n",
       "1823                    임플란트 시술시 자가 골 이식을 돕기 위한 기능을 포함한  0.276925     5\n",
       "2454                    유방암 진단을 위한 세포조직학적 방법을 대체 할 수 있는  0.273220     7\n",
       "301                                       의 용도에 따른 의 개발  0.267426     9\n",
       "1502                       저압을 이용한 챔버 형태의 하지부정맥 치료기의 개발  0.265826     5\n",
       "574                          완도 주민의 정신건강과 삶의 질 정도를 알아본다  0.187571     8\n",
       "\n",
       "[4917 rows x 3 columns]"
      ]
     },
     "execution_count": 104,
     "metadata": {},
     "output_type": "execute_result"
    }
   ],
   "source": [
    "df1"
   ]
  },
  {
   "cell_type": "code",
   "execution_count": 117,
   "metadata": {},
   "outputs": [
    {
     "data": {
      "text/plain": [
       "0.515"
      ]
     },
     "execution_count": 117,
     "metadata": {},
     "output_type": "execute_result"
    }
   ],
   "source": [
    "(0.84+0.19)/2"
   ]
  },
  {
   "cell_type": "code",
   "execution_count": 122,
   "metadata": {},
   "outputs": [
    {
     "name": "stdout",
     "output_type": "stream",
     "text": [
      "3560\n",
      "1357\n",
      "1357\n",
      "1357\n"
     ]
    }
   ],
   "source": [
    "half_head_df=df1[df1['cos_dis']>0.52]\n",
    "half_tail_df=df1[df1['cos_dis']<0.52]\n",
    "print(len(half_head_df))\n",
    "print(len(half_tail_df))\n",
    "\n",
    "half_head_df=half_head_df.sample(1357)\n",
    "print(len(half_head_df))\n",
    "print(len(half_tail_df))\n"
   ]
  },
  {
   "cell_type": "code",
   "execution_count": 121,
   "metadata": {},
   "outputs": [
    {
     "data": {
      "text/html": [
       "<div>\n",
       "<style scoped>\n",
       "    .dataframe tbody tr th:only-of-type {\n",
       "        vertical-align: middle;\n",
       "    }\n",
       "\n",
       "    .dataframe tbody tr th {\n",
       "        vertical-align: top;\n",
       "    }\n",
       "\n",
       "    .dataframe thead th {\n",
       "        text-align: right;\n",
       "    }\n",
       "</style>\n",
       "<table border=\"1\" class=\"dataframe\">\n",
       "  <thead>\n",
       "    <tr style=\"text-align: right;\">\n",
       "      <th></th>\n",
       "      <th>clean_text</th>\n",
       "      <th>cos_dis</th>\n",
       "      <th>수도라벨</th>\n",
       "    </tr>\n",
       "  </thead>\n",
       "  <tbody>\n",
       "    <tr>\n",
       "      <th>1638</th>\n",
       "      <td>차세대 펜슬빔 양성자치료법의 치료 선량 측정 시스템을 개발\\n 체렌코프선 이용한 펜...</td>\n",
       "      <td>0.603748</td>\n",
       "      <td>9</td>\n",
       "    </tr>\n",
       "    <tr>\n",
       "      <th>1834</th>\n",
       "      <td>센터 역활\\n 선진 기준에 적합한 임상시험용 의약품 생산 및 품질시스템 구축 및 제...</td>\n",
       "      <td>0.620234</td>\n",
       "      <td>7</td>\n",
       "    </tr>\n",
       "    <tr>\n",
       "      <th>1037</th>\n",
       "      <td>심혈관 영상기술은 보건의료산업의 대표적 고부가가치 영역인 의료영상분야에서도 첨단 기...</td>\n",
       "      <td>0.727658</td>\n",
       "      <td>9</td>\n",
       "    </tr>\n",
       "    <tr>\n",
       "      <th>208</th>\n",
       "      <td>류마티스 관절염 신약 개발이 생물학적 치료제 중심으로 이루어지고 있으며 낮은 순응도...</td>\n",
       "      <td>0.646885</td>\n",
       "      <td>8</td>\n",
       "    </tr>\n",
       "    <tr>\n",
       "      <th>117</th>\n",
       "      <td>발굴된 폐암 바이오마커들의 검증 분석 및 통계처리\\n 대규모 임상검증의 완료\\n 검...</td>\n",
       "      <td>0.616810</td>\n",
       "      <td>7</td>\n",
       "    </tr>\n",
       "  </tbody>\n",
       "</table>\n",
       "</div>"
      ],
      "text/plain": [
       "                                             clean_text   cos_dis  수도라벨\n",
       "1638  차세대 펜슬빔 양성자치료법의 치료 선량 측정 시스템을 개발\\n 체렌코프선 이용한 펜...  0.603748     9\n",
       "1834  센터 역활\\n 선진 기준에 적합한 임상시험용 의약품 생산 및 품질시스템 구축 및 제...  0.620234     7\n",
       "1037  심혈관 영상기술은 보건의료산업의 대표적 고부가가치 영역인 의료영상분야에서도 첨단 기...  0.727658     9\n",
       "208   류마티스 관절염 신약 개발이 생물학적 치료제 중심으로 이루어지고 있으며 낮은 순응도...  0.646885     8\n",
       "117   발굴된 폐암 바이오마커들의 검증 분석 및 통계처리\\n 대규모 임상검증의 완료\\n 검...  0.616810     7"
      ]
     },
     "execution_count": 121,
     "metadata": {},
     "output_type": "execute_result"
    }
   ],
   "source": [
    "half_head_df.tail()"
   ]
  },
  {
   "cell_type": "code",
   "execution_count": 120,
   "metadata": {},
   "outputs": [
    {
     "data": {
      "text/html": [
       "<div>\n",
       "<style scoped>\n",
       "    .dataframe tbody tr th:only-of-type {\n",
       "        vertical-align: middle;\n",
       "    }\n",
       "\n",
       "    .dataframe tbody tr th {\n",
       "        vertical-align: top;\n",
       "    }\n",
       "\n",
       "    .dataframe thead th {\n",
       "        text-align: right;\n",
       "    }\n",
       "</style>\n",
       "<table border=\"1\" class=\"dataframe\">\n",
       "  <thead>\n",
       "    <tr style=\"text-align: right;\">\n",
       "      <th></th>\n",
       "      <th>clean_text</th>\n",
       "      <th>cos_dis</th>\n",
       "      <th>수도라벨</th>\n",
       "    </tr>\n",
       "  </thead>\n",
       "  <tbody>\n",
       "    <tr>\n",
       "      <th>1823</th>\n",
       "      <td>임플란트 시술시 자가 골 이식을 돕기 위한 기능을 포함한</td>\n",
       "      <td>0.276925</td>\n",
       "      <td>5</td>\n",
       "    </tr>\n",
       "    <tr>\n",
       "      <th>2454</th>\n",
       "      <td>유방암 진단을 위한 세포조직학적 방법을 대체 할 수 있는</td>\n",
       "      <td>0.273220</td>\n",
       "      <td>7</td>\n",
       "    </tr>\n",
       "    <tr>\n",
       "      <th>301</th>\n",
       "      <td>의 용도에 따른 의 개발</td>\n",
       "      <td>0.267426</td>\n",
       "      <td>9</td>\n",
       "    </tr>\n",
       "    <tr>\n",
       "      <th>1502</th>\n",
       "      <td>저압을 이용한 챔버 형태의 하지부정맥 치료기의 개발</td>\n",
       "      <td>0.265826</td>\n",
       "      <td>5</td>\n",
       "    </tr>\n",
       "    <tr>\n",
       "      <th>574</th>\n",
       "      <td>완도 주민의 정신건강과 삶의 질 정도를 알아본다</td>\n",
       "      <td>0.187571</td>\n",
       "      <td>8</td>\n",
       "    </tr>\n",
       "  </tbody>\n",
       "</table>\n",
       "</div>"
      ],
      "text/plain": [
       "                           clean_text   cos_dis  수도라벨\n",
       "1823  임플란트 시술시 자가 골 이식을 돕기 위한 기능을 포함한  0.276925     5\n",
       "2454  유방암 진단을 위한 세포조직학적 방법을 대체 할 수 있는  0.273220     7\n",
       "301                     의 용도에 따른 의 개발  0.267426     9\n",
       "1502     저압을 이용한 챔버 형태의 하지부정맥 치료기의 개발  0.265826     5\n",
       "574        완도 주민의 정신건강과 삶의 질 정도를 알아본다  0.187571     8"
      ]
     },
     "execution_count": 120,
     "metadata": {},
     "output_type": "execute_result"
    }
   ],
   "source": [
    "half_tail_df.tail()"
   ]
  },
  {
   "cell_type": "code",
   "execution_count": 107,
   "metadata": {},
   "outputs": [],
   "source": [
    "head_df=df1[df1['cos_dis']>0.624473]\n",
    "head_df= head_df.sample(196)\n",
    "\n",
    "median_df=df1[(df1['cos_dis']> 0.406022)&(df1['cos_dis']<0.624473)]\n",
    "median_df=median_df.sample(196)\n",
    "\n",
    "tail_df=df1[df1['cos_dis']< 0.406022]"
   ]
  },
  {
   "cell_type": "code",
   "execution_count": 108,
   "metadata": {},
   "outputs": [
    {
     "name": "stdout",
     "output_type": "stream",
     "text": [
      "196\n",
      "196\n",
      "196\n"
     ]
    }
   ],
   "source": [
    "print(len(head_df))\n",
    "print(len(median_df))\n",
    "print(len(tail_df))"
   ]
  },
  {
   "cell_type": "code",
   "execution_count": 123,
   "metadata": {},
   "outputs": [
    {
     "data": {
      "text/html": [
       "<div>\n",
       "<style scoped>\n",
       "    .dataframe tbody tr th:only-of-type {\n",
       "        vertical-align: middle;\n",
       "    }\n",
       "\n",
       "    .dataframe tbody tr th {\n",
       "        vertical-align: top;\n",
       "    }\n",
       "\n",
       "    .dataframe thead th {\n",
       "        text-align: right;\n",
       "    }\n",
       "</style>\n",
       "<table border=\"1\" class=\"dataframe\">\n",
       "  <thead>\n",
       "    <tr style=\"text-align: right;\">\n",
       "      <th></th>\n",
       "      <th>clean_text</th>\n",
       "      <th>cos_dis</th>\n",
       "      <th>수도라벨</th>\n",
       "    </tr>\n",
       "  </thead>\n",
       "  <tbody>\n",
       "    <tr>\n",
       "      <th>1047</th>\n",
       "      <td>본 연구과제는 소동물에서 기능적 자기공명 추적영상기술과 정량분석법 기술을 개발하여 ...</td>\n",
       "      <td>0.649021</td>\n",
       "      <td>9</td>\n",
       "    </tr>\n",
       "    <tr>\n",
       "      <th>8</th>\n",
       "      <td>확산강조영상은 생체 조직 내 물 분자의 움직임을 비침습적으로 분석할 수 있는 영상 ...</td>\n",
       "      <td>0.654601</td>\n",
       "      <td>8</td>\n",
       "    </tr>\n",
       "    <tr>\n",
       "      <th>879</th>\n",
       "      <td>이온채널 수용체의 길항제 개발을 통한 염증질환 타겟 신약 후보물질 발굴 리드화합물 ...</td>\n",
       "      <td>0.652044</td>\n",
       "      <td>7</td>\n",
       "    </tr>\n",
       "    <tr>\n",
       "      <th>2475</th>\n",
       "      <td>골절환자의 치료적 목적으로 뼈에 직접적으로 견인을 함으로써 손상된 골절의 복위를 가...</td>\n",
       "      <td>0.638143</td>\n",
       "      <td>5</td>\n",
       "    </tr>\n",
       "    <tr>\n",
       "      <th>549</th>\n",
       "      <td>선천골수기능부전증후군 골수형성이상증후군 아밀로이드증의 원인 유전자 변이 발굴 및 검...</td>\n",
       "      <td>0.630066</td>\n",
       "      <td>6</td>\n",
       "    </tr>\n",
       "  </tbody>\n",
       "</table>\n",
       "</div>"
      ],
      "text/plain": [
       "                                             clean_text   cos_dis  수도라벨\n",
       "1047  본 연구과제는 소동물에서 기능적 자기공명 추적영상기술과 정량분석법 기술을 개발하여 ...  0.649021     9\n",
       "8     확산강조영상은 생체 조직 내 물 분자의 움직임을 비침습적으로 분석할 수 있는 영상 ...  0.654601     8\n",
       "879   이온채널 수용체의 길항제 개발을 통한 염증질환 타겟 신약 후보물질 발굴 리드화합물 ...  0.652044     7\n",
       "2475  골절환자의 치료적 목적으로 뼈에 직접적으로 견인을 함으로써 손상된 골절의 복위를 가...  0.638143     5\n",
       "549   선천골수기능부전증후군 골수형성이상증후군 아밀로이드증의 원인 유전자 변이 발굴 및 검...  0.630066     6"
      ]
     },
     "execution_count": 123,
     "metadata": {},
     "output_type": "execute_result"
    }
   ],
   "source": [
    "head_df.tail()"
   ]
  },
  {
   "cell_type": "code",
   "execution_count": 126,
   "metadata": {},
   "outputs": [
    {
     "data": {
      "text/html": [
       "<div>\n",
       "<style scoped>\n",
       "    .dataframe tbody tr th:only-of-type {\n",
       "        vertical-align: middle;\n",
       "    }\n",
       "\n",
       "    .dataframe tbody tr th {\n",
       "        vertical-align: top;\n",
       "    }\n",
       "\n",
       "    .dataframe thead th {\n",
       "        text-align: right;\n",
       "    }\n",
       "</style>\n",
       "<table border=\"1\" class=\"dataframe\">\n",
       "  <thead>\n",
       "    <tr style=\"text-align: right;\">\n",
       "      <th></th>\n",
       "      <th>clean_text</th>\n",
       "      <th>cos_dis</th>\n",
       "      <th>수도라벨</th>\n",
       "    </tr>\n",
       "  </thead>\n",
       "  <tbody>\n",
       "    <tr>\n",
       "      <th>1865</th>\n",
       "      <td>자궁경부상피이형증 면역치료제 개발을 위해 자궁경부상피이형증 환자 대상 안전성 및 치...</td>\n",
       "      <td>0.488831</td>\n",
       "      <td>8</td>\n",
       "    </tr>\n",
       "    <tr>\n",
       "      <th>1781</th>\n",
       "      <td>생체 세포내 가장 많은 가 양이온으로 여러 세포기능에 중요한 역할을 하고 있따 특히...</td>\n",
       "      <td>0.478841</td>\n",
       "      <td>6</td>\n",
       "    </tr>\n",
       "    <tr>\n",
       "      <th>2403</th>\n",
       "      <td>만성적인 과량의 알코올 섭취에 의하여 발병하는 알코올성 간질환은 명확한 발병 기전 ...</td>\n",
       "      <td>0.551743</td>\n",
       "      <td>6</td>\n",
       "    </tr>\n",
       "    <tr>\n",
       "      <th>2715</th>\n",
       "      <td>본 과제는 보안과제로 연구목표 내용을 입력할 수 없습니다</td>\n",
       "      <td>0.451532</td>\n",
       "      <td>5</td>\n",
       "    </tr>\n",
       "    <tr>\n",
       "      <th>44</th>\n",
       "      <td>현재 대부분 수입에 의존하고 있는 과색소침착증 예방 및 치료를 목적으로 하는 신규 ...</td>\n",
       "      <td>0.524604</td>\n",
       "      <td>7</td>\n",
       "    </tr>\n",
       "  </tbody>\n",
       "</table>\n",
       "</div>"
      ],
      "text/plain": [
       "                                             clean_text   cos_dis  수도라벨\n",
       "1865  자궁경부상피이형증 면역치료제 개발을 위해 자궁경부상피이형증 환자 대상 안전성 및 치...  0.488831     8\n",
       "1781  생체 세포내 가장 많은 가 양이온으로 여러 세포기능에 중요한 역할을 하고 있따 특히...  0.478841     6\n",
       "2403  만성적인 과량의 알코올 섭취에 의하여 발병하는 알코올성 간질환은 명확한 발병 기전 ...  0.551743     6\n",
       "2715                    본 과제는 보안과제로 연구목표 내용을 입력할 수 없습니다  0.451532     5\n",
       "44    현재 대부분 수입에 의존하고 있는 과색소침착증 예방 및 치료를 목적으로 하는 신규 ...  0.524604     7"
      ]
     },
     "execution_count": 126,
     "metadata": {},
     "output_type": "execute_result"
    }
   ],
   "source": [
    "median_df.tail()"
   ]
  },
  {
   "cell_type": "code",
   "execution_count": 125,
   "metadata": {},
   "outputs": [
    {
     "data": {
      "text/html": [
       "<div>\n",
       "<style scoped>\n",
       "    .dataframe tbody tr th:only-of-type {\n",
       "        vertical-align: middle;\n",
       "    }\n",
       "\n",
       "    .dataframe tbody tr th {\n",
       "        vertical-align: top;\n",
       "    }\n",
       "\n",
       "    .dataframe thead th {\n",
       "        text-align: right;\n",
       "    }\n",
       "</style>\n",
       "<table border=\"1\" class=\"dataframe\">\n",
       "  <thead>\n",
       "    <tr style=\"text-align: right;\">\n",
       "      <th></th>\n",
       "      <th>clean_text</th>\n",
       "      <th>cos_dis</th>\n",
       "      <th>수도라벨</th>\n",
       "    </tr>\n",
       "  </thead>\n",
       "  <tbody>\n",
       "    <tr>\n",
       "      <th>1823</th>\n",
       "      <td>임플란트 시술시 자가 골 이식을 돕기 위한 기능을 포함한</td>\n",
       "      <td>0.276925</td>\n",
       "      <td>5</td>\n",
       "    </tr>\n",
       "    <tr>\n",
       "      <th>2454</th>\n",
       "      <td>유방암 진단을 위한 세포조직학적 방법을 대체 할 수 있는</td>\n",
       "      <td>0.273220</td>\n",
       "      <td>7</td>\n",
       "    </tr>\n",
       "    <tr>\n",
       "      <th>301</th>\n",
       "      <td>의 용도에 따른 의 개발</td>\n",
       "      <td>0.267426</td>\n",
       "      <td>9</td>\n",
       "    </tr>\n",
       "    <tr>\n",
       "      <th>1502</th>\n",
       "      <td>저압을 이용한 챔버 형태의 하지부정맥 치료기의 개발</td>\n",
       "      <td>0.265826</td>\n",
       "      <td>5</td>\n",
       "    </tr>\n",
       "    <tr>\n",
       "      <th>574</th>\n",
       "      <td>완도 주민의 정신건강과 삶의 질 정도를 알아본다</td>\n",
       "      <td>0.187571</td>\n",
       "      <td>8</td>\n",
       "    </tr>\n",
       "  </tbody>\n",
       "</table>\n",
       "</div>"
      ],
      "text/plain": [
       "                           clean_text   cos_dis  수도라벨\n",
       "1823  임플란트 시술시 자가 골 이식을 돕기 위한 기능을 포함한  0.276925     5\n",
       "2454  유방암 진단을 위한 세포조직학적 방법을 대체 할 수 있는  0.273220     7\n",
       "301                     의 용도에 따른 의 개발  0.267426     9\n",
       "1502     저압을 이용한 챔버 형태의 하지부정맥 치료기의 개발  0.265826     5\n",
       "574        완도 주민의 정신건강과 삶의 질 정도를 알아본다  0.187571     8"
      ]
     },
     "execution_count": 125,
     "metadata": {},
     "output_type": "execute_result"
    }
   ],
   "source": [
    "tail_df.tail()"
   ]
  },
  {
   "cell_type": "code",
   "execution_count": 109,
   "metadata": {},
   "outputs": [
    {
     "name": "stdout",
     "output_type": "stream",
     "text": [
      "196\n",
      "196\n",
      "196\n"
     ]
    }
   ],
   "source": [
    "print(len(head_df))\n",
    "print(len(median_df))\n",
    "print(len(tail_df))"
   ]
  },
  {
   "cell_type": "code",
   "execution_count": 110,
   "metadata": {},
   "outputs": [
    {
     "data": {
      "text/plain": [
       "1639.0"
      ]
     },
     "execution_count": 110,
     "metadata": {},
     "output_type": "execute_result"
    }
   ],
   "source": [
    "4917/3"
   ]
  },
  {
   "cell_type": "code",
   "execution_count": 111,
   "metadata": {},
   "outputs": [],
   "source": [
    "len_head_df = df1[:1639]\n",
    "len_median_df = df1[1640:3279]\n",
    "len_tail_df = df1[3280:]"
   ]
  },
  {
   "cell_type": "code",
   "execution_count": 128,
   "metadata": {},
   "outputs": [
    {
     "data": {
      "text/html": [
       "<div>\n",
       "<style scoped>\n",
       "    .dataframe tbody tr th:only-of-type {\n",
       "        vertical-align: middle;\n",
       "    }\n",
       "\n",
       "    .dataframe tbody tr th {\n",
       "        vertical-align: top;\n",
       "    }\n",
       "\n",
       "    .dataframe thead th {\n",
       "        text-align: right;\n",
       "    }\n",
       "</style>\n",
       "<table border=\"1\" class=\"dataframe\">\n",
       "  <thead>\n",
       "    <tr style=\"text-align: right;\">\n",
       "      <th></th>\n",
       "      <th>clean_text</th>\n",
       "      <th>cos_dis</th>\n",
       "      <th>수도라벨</th>\n",
       "    </tr>\n",
       "  </thead>\n",
       "  <tbody>\n",
       "    <tr>\n",
       "      <th>205</th>\n",
       "      <td>스마트 시계 프로토타입 개발\\n 인터넷 서비스 포털 구축</td>\n",
       "      <td>0.621221</td>\n",
       "      <td>5</td>\n",
       "    </tr>\n",
       "    <tr>\n",
       "      <th>1695</th>\n",
       "      <td>양산단계의 시제품 개발 양산 공정 개발 전임상 및 의료기기 인증 획득\\n 양산단계의...</td>\n",
       "      <td>0.621177</td>\n",
       "      <td>9</td>\n",
       "    </tr>\n",
       "    <tr>\n",
       "      <th>1014</th>\n",
       "      <td>복강경 수술 기구에 있어서 엔드 툴이 여러 방향으로 회전할 수 있도록 다관절 구조를...</td>\n",
       "      <td>0.621152</td>\n",
       "      <td>9</td>\n",
       "    </tr>\n",
       "    <tr>\n",
       "      <th>2225</th>\n",
       "      <td>가 소형 분자 유전 진단 기기 및 감염성 질환 클라미디아균검사 키트 개발\\n\\n나 ...</td>\n",
       "      <td>0.621131</td>\n",
       "      <td>9</td>\n",
       "    </tr>\n",
       "    <tr>\n",
       "      <th>0</th>\n",
       "      <td>해상도복원기반 고해상도 재구성기법 개발\\n영역 분할 감쇠지도 완성과 임상 평가를 통...</td>\n",
       "      <td>0.620944</td>\n",
       "      <td>9</td>\n",
       "    </tr>\n",
       "  </tbody>\n",
       "</table>\n",
       "</div>"
      ],
      "text/plain": [
       "                                             clean_text   cos_dis  수도라벨\n",
       "205                     스마트 시계 프로토타입 개발\\n 인터넷 서비스 포털 구축  0.621221     5\n",
       "1695  양산단계의 시제품 개발 양산 공정 개발 전임상 및 의료기기 인증 획득\\n 양산단계의...  0.621177     9\n",
       "1014  복강경 수술 기구에 있어서 엔드 툴이 여러 방향으로 회전할 수 있도록 다관절 구조를...  0.621152     9\n",
       "2225  가 소형 분자 유전 진단 기기 및 감염성 질환 클라미디아균검사 키트 개발\\n\\n나 ...  0.621131     9\n",
       "0     해상도복원기반 고해상도 재구성기법 개발\\n영역 분할 감쇠지도 완성과 임상 평가를 통...  0.620944     9"
      ]
     },
     "execution_count": 128,
     "metadata": {},
     "output_type": "execute_result"
    }
   ],
   "source": [
    "len_head_df.tail()"
   ]
  },
  {
   "cell_type": "code",
   "execution_count": 129,
   "metadata": {},
   "outputs": [
    {
     "data": {
      "text/html": [
       "<div>\n",
       "<style scoped>\n",
       "    .dataframe tbody tr th:only-of-type {\n",
       "        vertical-align: middle;\n",
       "    }\n",
       "\n",
       "    .dataframe tbody tr th {\n",
       "        vertical-align: top;\n",
       "    }\n",
       "\n",
       "    .dataframe thead th {\n",
       "        text-align: right;\n",
       "    }\n",
       "</style>\n",
       "<table border=\"1\" class=\"dataframe\">\n",
       "  <thead>\n",
       "    <tr style=\"text-align: right;\">\n",
       "      <th></th>\n",
       "      <th>clean_text</th>\n",
       "      <th>cos_dis</th>\n",
       "      <th>수도라벨</th>\n",
       "    </tr>\n",
       "  </thead>\n",
       "  <tbody>\n",
       "    <tr>\n",
       "      <th>384</th>\n",
       "      <td>자외선차단제로서 허가 인증과 상품화 및 자외선차단제의 광안정화 효과 시너지 효과 및...</td>\n",
       "      <td>0.536205</td>\n",
       "      <td>7</td>\n",
       "    </tr>\n",
       "    <tr>\n",
       "      <th>886</th>\n",
       "      <td>본 연구는 의 활성 조절을 타깃으로 한 비펩타이드성 억제제 개발을 목표로 한다 기질...</td>\n",
       "      <td>0.536160</td>\n",
       "      <td>7</td>\n",
       "    </tr>\n",
       "    <tr>\n",
       "      <th>2614</th>\n",
       "      <td>췌장베타세포의 인슐린분비 장애는 당뇨병의 중요한 병태생리임 베타세포의 아연수송체인 ...</td>\n",
       "      <td>0.536040</td>\n",
       "      <td>8</td>\n",
       "    </tr>\n",
       "    <tr>\n",
       "      <th>1905</th>\n",
       "      <td>말라리아 기생충 집단에서 말라리아 치료약에 대한 내성이 진화하는 과정에 있어서 개체...</td>\n",
       "      <td>0.536021</td>\n",
       "      <td>7</td>\n",
       "    </tr>\n",
       "    <tr>\n",
       "      <th>778</th>\n",
       "      <td>골다공증 또는 골절의 위험이 있는 한국 폐경여성을 예측하고 골흡수 억제제제 치료에 ...</td>\n",
       "      <td>0.535940</td>\n",
       "      <td>8</td>\n",
       "    </tr>\n",
       "  </tbody>\n",
       "</table>\n",
       "</div>"
      ],
      "text/plain": [
       "                                             clean_text   cos_dis  수도라벨\n",
       "384   자외선차단제로서 허가 인증과 상품화 및 자외선차단제의 광안정화 효과 시너지 효과 및...  0.536205     7\n",
       "886   본 연구는 의 활성 조절을 타깃으로 한 비펩타이드성 억제제 개발을 목표로 한다 기질...  0.536160     7\n",
       "2614  췌장베타세포의 인슐린분비 장애는 당뇨병의 중요한 병태생리임 베타세포의 아연수송체인 ...  0.536040     8\n",
       "1905  말라리아 기생충 집단에서 말라리아 치료약에 대한 내성이 진화하는 과정에 있어서 개체...  0.536021     7\n",
       "778   골다공증 또는 골절의 위험이 있는 한국 폐경여성을 예측하고 골흡수 억제제제 치료에 ...  0.535940     8"
      ]
     },
     "execution_count": 129,
     "metadata": {},
     "output_type": "execute_result"
    }
   ],
   "source": [
    "\n",
    "len_median_df.tail()"
   ]
  },
  {
   "cell_type": "code",
   "execution_count": 130,
   "metadata": {},
   "outputs": [
    {
     "data": {
      "text/html": [
       "<div>\n",
       "<style scoped>\n",
       "    .dataframe tbody tr th:only-of-type {\n",
       "        vertical-align: middle;\n",
       "    }\n",
       "\n",
       "    .dataframe tbody tr th {\n",
       "        vertical-align: top;\n",
       "    }\n",
       "\n",
       "    .dataframe thead th {\n",
       "        text-align: right;\n",
       "    }\n",
       "</style>\n",
       "<table border=\"1\" class=\"dataframe\">\n",
       "  <thead>\n",
       "    <tr style=\"text-align: right;\">\n",
       "      <th></th>\n",
       "      <th>clean_text</th>\n",
       "      <th>cos_dis</th>\n",
       "      <th>수도라벨</th>\n",
       "    </tr>\n",
       "  </thead>\n",
       "  <tbody>\n",
       "    <tr>\n",
       "      <th>1823</th>\n",
       "      <td>임플란트 시술시 자가 골 이식을 돕기 위한 기능을 포함한</td>\n",
       "      <td>0.276925</td>\n",
       "      <td>5</td>\n",
       "    </tr>\n",
       "    <tr>\n",
       "      <th>2454</th>\n",
       "      <td>유방암 진단을 위한 세포조직학적 방법을 대체 할 수 있는</td>\n",
       "      <td>0.273220</td>\n",
       "      <td>7</td>\n",
       "    </tr>\n",
       "    <tr>\n",
       "      <th>301</th>\n",
       "      <td>의 용도에 따른 의 개발</td>\n",
       "      <td>0.267426</td>\n",
       "      <td>9</td>\n",
       "    </tr>\n",
       "    <tr>\n",
       "      <th>1502</th>\n",
       "      <td>저압을 이용한 챔버 형태의 하지부정맥 치료기의 개발</td>\n",
       "      <td>0.265826</td>\n",
       "      <td>5</td>\n",
       "    </tr>\n",
       "    <tr>\n",
       "      <th>574</th>\n",
       "      <td>완도 주민의 정신건강과 삶의 질 정도를 알아본다</td>\n",
       "      <td>0.187571</td>\n",
       "      <td>8</td>\n",
       "    </tr>\n",
       "  </tbody>\n",
       "</table>\n",
       "</div>"
      ],
      "text/plain": [
       "                           clean_text   cos_dis  수도라벨\n",
       "1823  임플란트 시술시 자가 골 이식을 돕기 위한 기능을 포함한  0.276925     5\n",
       "2454  유방암 진단을 위한 세포조직학적 방법을 대체 할 수 있는  0.273220     7\n",
       "301                     의 용도에 따른 의 개발  0.267426     9\n",
       "1502     저압을 이용한 챔버 형태의 하지부정맥 치료기의 개발  0.265826     5\n",
       "574        완도 주민의 정신건강과 삶의 질 정도를 알아본다  0.187571     8"
      ]
     },
     "execution_count": 130,
     "metadata": {},
     "output_type": "execute_result"
    }
   ],
   "source": [
    "\n",
    "len_tail_df.tail()"
   ]
  },
  {
   "cell_type": "code",
   "execution_count": 114,
   "metadata": {},
   "outputs": [],
   "source": [
    "half_head_df_data = CustomDataset(data=list([str(i) for i in half_head_df['clean_text'].values.copy()].copy()),\n",
    "                           labels= list(half_head_df['수도라벨'].copy()),\n",
    "                           tokenizer= tokenizer,\n",
    "                           source_len= cfg.source_len)\n",
    "\n",
    "half_head_df_loader = DataLoader(half_head_df_data, batch_size=cfg.batch_size, shuffle=False,num_workers=0)\n",
    "\n",
    "half_tail_df_data = CustomDataset(data=list([str(i) for i in half_tail_df['clean_text'].values.copy()].copy()),\n",
    "                           labels= list(half_tail_df['수도라벨'].copy()),\n",
    "                           tokenizer= tokenizer,\n",
    "                           source_len= cfg.source_len)\n",
    "\n",
    "half_tail_df_loader = DataLoader(half_tail_df_data, batch_size=cfg.batch_size, shuffle=False,num_workers=0)\n",
    "\n",
    "head_df_data = CustomDataset(data=list([str(i) for i in head_df['clean_text'].values.copy()].copy()),\n",
    "                           labels= list(head_df['수도라벨'].copy()),\n",
    "                           tokenizer= tokenizer,\n",
    "                           source_len= cfg.source_len)\n",
    "\n",
    "head_df_loader = DataLoader(head_df_data, batch_size=cfg.batch_size, shuffle=False,num_workers=0)\n",
    "\n",
    "\n",
    "median_df_data = CustomDataset(data=list([str(i) for i in median_df['clean_text'].values.copy()].copy()),\n",
    "                           labels= list(median_df['수도라벨'].copy()),\n",
    "                           tokenizer= tokenizer,\n",
    "                           source_len= cfg.source_len)\n",
    "\n",
    "median_df_loader = DataLoader(median_df_data, batch_size=cfg.batch_size, shuffle=False,num_workers=0)\n",
    "\n",
    "tail_df_data = CustomDataset(data=list([str(i) for i in tail_df['clean_text'].values.copy()].copy()),\n",
    "                           labels= list(tail_df['수도라벨'].copy()),\n",
    "                           tokenizer= tokenizer,\n",
    "                           source_len= cfg.source_len)\n",
    "\n",
    "tail_df_loader = DataLoader(tail_df_data, batch_size=cfg.batch_size, shuffle=False,num_workers=0)\n",
    "\n",
    "len_head_df_data = CustomDataset(data=list([str(i) for i in len_head_df['clean_text'].values.copy()].copy()),\n",
    "                           labels= list(len_head_df['수도라벨'].copy()),\n",
    "                           tokenizer= tokenizer,\n",
    "                           source_len= cfg.source_len)\n",
    "\n",
    "len_head_df_loader = DataLoader(len_head_df_data, batch_size=cfg.batch_size, shuffle=False,num_workers=0)\n",
    "\n",
    "\n",
    "len_median_df_data = CustomDataset(data=list([str(i) for i in len_median_df['clean_text'].values.copy()].copy()),\n",
    "                           labels= list(len_median_df['수도라벨'].copy()),\n",
    "                           tokenizer= tokenizer,\n",
    "                           source_len= cfg.source_len)\n",
    "\n",
    "len_median_df_loader = DataLoader(len_median_df_data, batch_size=cfg.batch_size, shuffle=False,num_workers=0)\n",
    "\n",
    "len_tail_df_data = CustomDataset(data=list([str(i) for i in len_tail_df['clean_text'].values.copy()].copy()),\n",
    "                           labels= list(len_tail_df['수도라벨'].copy()),\n",
    "                           tokenizer= tokenizer,\n",
    "                           source_len= cfg.source_len)\n",
    "\n",
    "len_tail_df_loader = DataLoader(len_tail_df_data, batch_size=cfg.batch_size, shuffle=False,num_workers=0)"
   ]
  },
  {
   "cell_type": "code",
   "execution_count": 115,
   "metadata": {},
   "outputs": [
    {
     "name": "stderr",
     "output_type": "stream",
     "text": [
      "85it [00:10,  7.93it/s]\n"
     ]
    },
    {
     "name": "stdout",
     "output_type": "stream",
     "text": [
      "test_84_stepLoss:6.225254457137164\n",
      "test_84_stepacc:0.0\n",
      "half_head : (6.225254457137164, 0.0)\n"
     ]
    },
    {
     "name": "stderr",
     "output_type": "stream",
     "text": [
      "85it [00:10,  8.00it/s]\n"
     ]
    },
    {
     "name": "stdout",
     "output_type": "stream",
     "text": [
      "test_84_stepLoss:5.9613289496477915\n",
      "test_84_stepacc:0.0\n",
      "half_tail : (5.9613289496477915, 0.0)\n"
     ]
    },
    {
     "name": "stderr",
     "output_type": "stream",
     "text": [
      "13it [00:01,  8.35it/s]\n"
     ]
    },
    {
     "name": "stdout",
     "output_type": "stream",
     "text": [
      "test_12_stepLoss:6.328651758340689\n",
      "test_12_stepacc:0.0\n",
      "head : (6.328651758340689, 0.0)\n"
     ]
    },
    {
     "name": "stderr",
     "output_type": "stream",
     "text": [
      "13it [00:01,  8.40it/s]\n"
     ]
    },
    {
     "name": "stdout",
     "output_type": "stream",
     "text": [
      "test_12_stepLoss:6.08212713094858\n",
      "test_12_stepacc:0.0\n",
      "median : (6.08212713094858, 0.0)\n"
     ]
    },
    {
     "name": "stderr",
     "output_type": "stream",
     "text": [
      "13it [00:01,  8.49it/s]\n"
     ]
    },
    {
     "name": "stdout",
     "output_type": "stream",
     "text": [
      "test_12_stepLoss:5.868907708388108\n",
      "test_12_stepacc:0.0\n",
      "tail : (5.868907708388108, 0.0)\n"
     ]
    },
    {
     "name": "stderr",
     "output_type": "stream",
     "text": [
      "103it [00:13,  7.89it/s]\n"
     ]
    },
    {
     "name": "stdout",
     "output_type": "stream",
     "text": [
      "test_102_stepLoss:6.359982907193379\n",
      "test_102_stepacc:0.0\n",
      "len_head : (6.359982907193379, 0.0)\n"
     ]
    },
    {
     "name": "stderr",
     "output_type": "stream",
     "text": [
      "103it [00:13,  7.90it/s]\n"
     ]
    },
    {
     "name": "stdout",
     "output_type": "stream",
     "text": [
      "test_102_stepLoss:6.134177087580116\n",
      "test_102_stepacc:0.0\n",
      "len_median : (6.134177087580116, 0.0)\n"
     ]
    },
    {
     "name": "stderr",
     "output_type": "stream",
     "text": [
      "103it [00:12,  7.94it/s]"
     ]
    },
    {
     "name": "stdout",
     "output_type": "stream",
     "text": [
      "test_102_stepLoss:5.973406439846002\n",
      "test_102_stepacc:0.0\n",
      "len_tail : (5.973406439846002, 0.0)\n"
     ]
    },
    {
     "name": "stderr",
     "output_type": "stream",
     "text": [
      "\n"
     ]
    }
   ],
   "source": [
    "from transformers import AutoModelForSequenceClassification, AutoTokenizer\n",
    "model = AutoModelForSequenceClassification.from_pretrained(cfg.model_path, num_labels=cfg.num_labels, output_hidden_states=False).cuda()\n",
    "tokenizer = AutoTokenizer.from_pretrained(cfg.model_path)\n",
    "\n",
    "model.resize_token_embeddings(len(tokenizer))\n",
    "model\n",
    "\n",
    "model_state_dict = torch.load(\"/home/work/CL/final_ictmodel/ict5epoch.pt\", map_location=device)\n",
    "model.load_state_dict(model_state_dict)\n",
    "\n",
    "\n",
    "print('half_head :',infer(model=model,loader=half_head_df_loader))\n",
    "print('half_tail :',infer(model=model,loader=half_tail_df_loader))\n",
    "\n",
    "print('head :',infer(model=model,loader=head_df_loader))\n",
    "print('median :',infer(model=model,loader=median_df_loader))\n",
    "print('tail :',infer(model=model,loader=tail_df_loader))\n",
    "\n",
    "print('len_head :',infer(model=model,loader=len_head_df_loader))\n",
    "print('len_median :',infer(model=model,loader=len_median_df_loader))\n",
    "print('len_tail :',infer(model=model,loader=len_tail_df_loader))\n",
    "\n"
   ]
  },
  {
   "cell_type": "markdown",
   "metadata": {},
   "source": [
    "# 토크나이저와 모델 정의"
   ]
  },
  {
   "cell_type": "code",
   "execution_count": 60,
   "metadata": {},
   "outputs": [
    {
     "data": {
      "application/vnd.jupyter.widget-view+json": {
       "model_id": "82bcb9984b034b2a966bdce6765dadba",
       "version_major": 2,
       "version_minor": 0
      },
      "text/plain": [
       "Downloading (…)lve/main/config.json:   0%|          | 0.00/547 [00:00<?, ?B/s]"
      ]
     },
     "metadata": {},
     "output_type": "display_data"
    },
    {
     "data": {
      "application/vnd.jupyter.widget-view+json": {
       "model_id": "931312ba0479437586eb75bf742e3480",
       "version_major": 2,
       "version_minor": 0
      },
      "text/plain": [
       "Downloading model.safetensors:   0%|          | 0.00/1.35G [00:00<?, ?B/s]"
      ]
     },
     "metadata": {},
     "output_type": "display_data"
    },
    {
     "data": {
      "application/vnd.jupyter.widget-view+json": {
       "model_id": "081b55fe67fa44b8b3169e57002a45ec",
       "version_major": 2,
       "version_minor": 0
      },
      "text/plain": [
       "Downloading (…)okenizer_config.json:   0%|          | 0.00/375 [00:00<?, ?B/s]"
      ]
     },
     "metadata": {},
     "output_type": "display_data"
    },
    {
     "data": {
      "application/vnd.jupyter.widget-view+json": {
       "model_id": "56e31da3afee463098034480f6bc4a4b",
       "version_major": 2,
       "version_minor": 0
      },
      "text/plain": [
       "Downloading (…)solve/main/vocab.txt:   0%|          | 0.00/248k [00:00<?, ?B/s]"
      ]
     },
     "metadata": {},
     "output_type": "display_data"
    },
    {
     "data": {
      "application/vnd.jupyter.widget-view+json": {
       "model_id": "89c1dc9835344b49b5aa67bf6c49ede6",
       "version_major": 2,
       "version_minor": 0
      },
      "text/plain": [
       "Downloading (…)/main/tokenizer.json:   0%|          | 0.00/752k [00:00<?, ?B/s]"
      ]
     },
     "metadata": {},
     "output_type": "display_data"
    },
    {
     "data": {
      "application/vnd.jupyter.widget-view+json": {
       "model_id": "9b8f9989dbdf42ac8d807e7679f85d17",
       "version_major": 2,
       "version_minor": 0
      },
      "text/plain": [
       "Downloading (…)cial_tokens_map.json:   0%|          | 0.00/173 [00:00<?, ?B/s]"
      ]
     },
     "metadata": {},
     "output_type": "display_data"
    },
    {
     "data": {
      "text/plain": [
       "<All keys matched successfully>"
      ]
     },
     "execution_count": 60,
     "metadata": {},
     "output_type": "execute_result"
    }
   ],
   "source": [
    "from transformers import AutoModelForSequenceClassification, AutoTokenizer, get_linear_schedule_with_warmup, set_seed\n",
    "\n",
    "model = AutoModelForSequenceClassification.from_pretrained(cfg.model_path, num_labels=cfg.num_labels, output_hidden_states=False).cuda()\n",
    "tokenizer = AutoTokenizer.from_pretrained(cfg.model_path)\n",
    "\n",
    "model.resize_token_embeddings(len(tokenizer))\n",
    "model\n",
    "\n",
    "model_state_dict = torch.load(\"/home/work/CL/final_ictmodel/ict5epoch.pt\", map_location=device)\n",
    "model.load_state_dict(model_state_dict)\n",
    "# model = torch.nn.DataParallel(model)\n",
    "# model = get_peft_model(model, peft_config).to(device)\n",
    "\n",
    "# model.print_trainable_parameters()\n",
    "# model\n"
   ]
  },
  {
   "cell_type": "markdown",
   "metadata": {},
   "source": [
    "# 커스텀 데이터셋"
   ]
  },
  {
   "cell_type": "code",
   "execution_count": 61,
   "metadata": {},
   "outputs": [],
   "source": [
    "class CustomDataset(Dataset):\n",
    "    \n",
    "    def __init__(self, data, labels, tokenizer, source_len) :\n",
    "    # 내가 필요한 것들을 가져와서 선처리\n",
    "        self.data = data.copy()\n",
    "        self.labels = labels.copy()\n",
    "        self.tokenizer = tokenizer\n",
    "        self.source_len = source_len\n",
    "    \n",
    "    def __getitem__(self, index) :\n",
    "    # 데이터 셋에서 한 개의 데이터를 가져오는 함수 정의\n",
    "    \n",
    "        text = self.data[index]\n",
    "        inputs = self.tokenizer(text,max_length=self.source_len,padding='max_length',truncation=True, return_tensors='pt')\n",
    "        # inputs = self.tokenizer.batch_encode_plus([text], max_length= self.source_len, truncation=True, padding='max_length',return_tensors='pt')\n",
    "        label = self.labels[index]\n",
    "        \n",
    "        input_ids = inputs['input_ids'].squeeze()\n",
    "        attention_mask = inputs['attention_mask'].squeeze()\n",
    "        token_type_ids = inputs['token_type_ids'].squeeze()\n",
    "        \n",
    "        \n",
    "        \n",
    "    \n",
    "        # input_ids = inputs['input_ids'][0]\n",
    "        # attention_mask = inputs['attention_mask'][0]\n",
    "        # token_type_ids = inputs['token_type_ids'][0]\n",
    "        \n",
    "        # return input_ids, attention_mask, token_type_ids, label\n",
    "        \n",
    "        inputs_dict = {\n",
    "            'input_ids' : input_ids.to(device, dtype = torch.long),\n",
    "            'attention_mask' : attention_mask.to(device, dtype = torch.long),\n",
    "            'token_type_ids': token_type_ids.to(device, dtype = torch.long),\n",
    "        }\n",
    "        label = torch.tensor(label).to(device, dtype = torch.long)\n",
    "        \n",
    "        \n",
    "        return inputs_dict, label\n",
    "    \n",
    "    def __len__(self) :\n",
    "    # 데이터 셋의 길이\n",
    "        return len(self.data)    "
   ]
  },
  {
   "cell_type": "code",
   "execution_count": 12,
   "metadata": {},
   "outputs": [],
   "source": [
    "train_data = CustomDataset(data=list([str(i) for i in trainset['clean_text'].values.copy()].copy()),\n",
    "                           labels= list(trainset['수도라벨'].copy()),\n",
    "                           tokenizer= tokenizer,\n",
    "                           source_len= cfg.source_len)\n",
    "\n",
    "val_data = CustomDataset(data=list([str(i) for i in valset['clean_text'].values.copy()].copy()),\n",
    "                           labels= list(valset['수도라벨'].copy()),\n",
    "                           tokenizer= tokenizer,\n",
    "                           source_len= cfg.source_len)\n",
    "\n",
    "\n",
    "test_data = CustomDataset(data=list([str(i) for i in testset['clean_text'].values.copy()].copy()),\n",
    "                           labels= list(testset['수도라벨'].copy()),\n",
    "                           tokenizer= tokenizer,\n",
    "                           source_len= cfg.source_len)\n",
    "\n",
    "train_loader = DataLoader(train_data, batch_size=cfg.batch_size, shuffle=True,num_workers=0)\n",
    "val_loader = DataLoader(val_data, batch_size=cfg.batch_size, shuffle=False,num_workers=0)\n",
    "test_loader = DataLoader(test_data, batch_size=cfg.batch_size, shuffle=False,num_workers=0)\n"
   ]
  },
  {
   "cell_type": "markdown",
   "metadata": {},
   "source": [
    "# Train, val 정의"
   ]
  },
  {
   "cell_type": "code",
   "execution_count": 63,
   "metadata": {},
   "outputs": [],
   "source": [
    "def train(epoch, model, optimizer, loader):\n",
    "    \n",
    "    model.train()\n",
    "    total_loss, total_accuracy = 0,0\n",
    "    nb_train_steps = 0\n",
    "    for _,(inputs, labels) in enumerate(loader, 0): \n",
    "        #enumerate는 인덱스까지 반환하는 함수(데이터, 스타트번호=0)\n",
    "        outputs = model(**inputs, labels = labels)\n",
    "        loss = outputs.loss\n",
    "        \n",
    "\n",
    "        pred = [logit.argmax().cpu().detach().item() for logit in outputs.logits]\n",
    "        true = [label for label in labels.cpu().numpy()]\n",
    "        acc = accuracy_score(true,pred)\n",
    "        \n",
    "\n",
    "        if _%32 ==0 : #만약 인덱스가 10이 되면\n",
    "            print(f'Epoch : {epoch+1}, train_{_}_step_loss : {loss.item()}')\n",
    "            psuedo_pred = [logit.argmax().item() for logit in outputs.logits]\n",
    "            psuedo_acc = np.sum(np.array(labels.to('cpu'))==np.array(psuedo_pred))/len(labels)\n",
    "            print(f'{epoch+1}_{_}_step_정확도 :{psuedo_acc}')\n",
    "        \n",
    "        loss.backward()\n",
    "        optimizer.step()\n",
    "        optimizer.zero_grad()\n",
    "        \n",
    "        total_loss += loss.item()\n",
    "        total_accuracy += acc\n",
    "        nb_train_steps += 1\n",
    "    \n",
    "\n",
    "    \n",
    "    avg_loss = total_loss/len(loader)\n",
    "    avg_acc = total_accuracy/nb_train_steps\n",
    "    t_test_avg_acc = total_accuracy/len(loader)\n",
    "    print(f'Epoch:{epoch+1}, train_{_}_stepLoss:{avg_loss}')\n",
    "    print(f'Epoch:{epoch+1}, train_{_}_stepacc:{avg_acc}')\n",
    "    print(f'Epoch:{epoch+1}, train_{_}_stepacc:{t_test_avg_acc}')\n",
    "    loss_dic['train_loss'].append(avg_loss)\n",
    "    loss_dic['train_acc'].append(avg_acc)"
   ]
  },
  {
   "cell_type": "code",
   "execution_count": 14,
   "metadata": {},
   "outputs": [],
   "source": [
    "def validate(epoch, model, loader):\n",
    "    \n",
    "    model.eval()\n",
    "    eval_loss, eval_accuracy = 0,0\n",
    "    nb_eval_steps = 0\n",
    "    with torch.no_grad():\n",
    "        for _,(inputs, labels) in enumerate(loader, 0): \n",
    "        #enumerate는 인덱스까지 반환하는 함수(데이터, 스타트번호=0)\n",
    "            outputs = model(**inputs, labels = labels)\n",
    "            loss = outputs.loss\n",
    "            eval_loss += loss.item()\n",
    "\n",
    "            pred = [logit.argmax().cpu().detach().item() for logit in outputs.logits]\n",
    "            true = [label for label in labels.cpu().numpy()]\n",
    "            acc = accuracy_score(true,pred)\n",
    "            eval_accuracy += acc\n",
    "            nb_eval_steps +=1\n",
    "            if _%32 ==0 : #만약 인덱스가 10이 되면\n",
    "                print(f'Epoch : {epoch+1}, val_{_}_step_loss : {loss.item()}')\n",
    "                predicted_class_id = [logit.argmax().item() for logit in outputs.logits]\n",
    "                psuedo_acc = np.sum(np.array(labels.to('cpu'))==np.array(predicted_class_id))/len(labels)\n",
    "                print(f'{epoch+1}_{_}_step_정확도 :{psuedo_acc}')\n",
    "                \n",
    "                \n",
    "    e_avg_loss = eval_loss/len(loader)\n",
    "    e_avg_acc = eval_accuracy/nb_eval_steps\n",
    "    e_test_avg_acc = eval_accuracy/len(loader)\n",
    "    print(f'Epoch:{epoch+1}, val_{_}_stepLoss:{e_avg_loss}')\n",
    "    print(f'Epoch:{epoch+1}, val_{_}_stepacc:{e_avg_acc}')\n",
    "    print(f'Epoch:{epoch+1}, val_{_}_stepacc:{e_test_avg_acc}')\n",
    "\n",
    "    loss_dic['validation_loss'].append(e_avg_loss)\n",
    "    loss_dic['val_acc'].append(e_avg_acc)                \n",
    "    loss_dic['epoch'].append(epoch+1)\n",
    "\n",
    "    early_stopping(e_avg_loss, model)\n",
    "    return e_avg_loss, e_test_avg_acc\n",
    "    \n",
    "\n",
    "\n"
   ]
  },
  {
   "cell_type": "code",
   "execution_count": 64,
   "metadata": {},
   "outputs": [],
   "source": [
    "\n",
    "def infer(model, loader):\n",
    "    \n",
    "    model.eval()\n",
    "    test_loss, test_accuracy = 0,0\n",
    "    result_dic = {'prediction':[], 'label':[]}\n",
    "    with torch.no_grad():\n",
    "        for _,(inputs, labels) in tqdm(enumerate(loader, 0)): \n",
    "        #enumerate는 인덱스까지 반환하는 함수(데이터, 스타트번호=0)\n",
    "            outputs = model(**inputs, labels = labels)\n",
    "            loss = outputs.loss\n",
    "            test_loss += loss.item()\n",
    "\n",
    "            pred = [logit.argmax().cpu().detach().item() for logit in outputs.logits]\n",
    "            true = [label for label in labels.cpu().numpy()]\n",
    "            result_dic['prediction'].append(pred)\n",
    "            result_dic['label'].append(true)                \n",
    "\n",
    "            acc = accuracy_score(true,pred)\n",
    "            test_accuracy += acc\n",
    "        \n",
    "            \n",
    "                \n",
    "    t_avg_loss = test_loss/len(loader)\n",
    "    t_avg_acc = test_accuracy/len(loader)\n",
    "    print(f'test_{_}_stepLoss:{t_avg_loss}')\n",
    "    print(f'test_{_}_stepacc:{t_avg_acc}')\n",
    "\n",
    "    \n",
    "    return t_avg_loss, t_avg_acc\n",
    "    \n",
    "        "
   ]
  },
  {
   "cell_type": "markdown",
   "metadata": {},
   "source": [
    "# RUN"
   ]
  },
  {
   "cell_type": "code",
   "execution_count": 16,
   "metadata": {},
   "outputs": [],
   "source": [
    "optimizer = torch.optim.AdamW(params = model.parameters(), lr=0.000005)\n",
    "lr_scheduler = get_linear_schedule_with_warmup(\n",
    "    optimizer=optimizer,\n",
    "    num_warmup_steps=0.* (len(train_loader) * cfg.epochs),\n",
    "    num_training_steps=(len(train_loader) * cfg.epochs),\n",
    ")"
   ]
  },
  {
   "cell_type": "code",
   "execution_count": 17,
   "metadata": {
    "scrolled": false
   },
   "outputs": [
    {
     "name": "stderr",
     "output_type": "stream",
     "text": [
      "  0%|          | 0/10 [00:00<?, ?it/s]"
     ]
    },
    {
     "name": "stdout",
     "output_type": "stream",
     "text": [
      "Epoch : 1, train_0_step_loss : 5.79521369934082\n",
      "1_0_step_정확도 :0.0\n",
      "Epoch : 1, train_32_step_loss : 1.6336534023284912\n",
      "1_32_step_정확도 :0.25\n",
      "Epoch : 1, train_64_step_loss : 1.140662670135498\n",
      "1_64_step_정확도 :0.625\n",
      "Epoch : 1, train_96_step_loss : 1.0227423906326294\n",
      "1_96_step_정확도 :0.5625\n",
      "Epoch : 1, train_128_step_loss : 0.8331541419029236\n",
      "1_128_step_정확도 :0.625\n",
      "Epoch : 1, train_160_step_loss : 1.0334349870681763\n",
      "1_160_step_정확도 :0.5625\n",
      "Epoch:1, train_184_stepLoss:1.3353642750430752\n",
      "Epoch:1, train_184_stepacc:0.525\n",
      "Epoch:1, train_184_stepacc:0.525\n",
      "Epoch : 1, val_0_step_loss : 0.6215218901634216\n",
      "1_0_step_정확도 :0.8125\n",
      "Epoch : 1, val_32_step_loss : 1.142535924911499\n",
      "1_32_step_정확도 :0.5\n",
      "Epoch:1, val_61_stepLoss:0.8931349698574312\n",
      "Epoch:1, val_61_stepacc:0.6586981566820277\n",
      "Epoch:1, val_61_stepacc:0.6586981566820277\n",
      "Validation loss decreased (inf --> 0.893135).  Saving model ...\n"
     ]
    },
    {
     "name": "stderr",
     "output_type": "stream",
     "text": [
      " 10%|█         | 1/10 [01:28<13:20, 88.91s/it]"
     ]
    },
    {
     "name": "stdout",
     "output_type": "stream",
     "text": [
      "Epoch : 2, train_0_step_loss : 0.4057232141494751\n",
      "2_0_step_정확도 :0.9375\n",
      "Epoch : 2, train_32_step_loss : 0.8695260882377625\n",
      "2_32_step_정확도 :0.6875\n",
      "Epoch : 2, train_64_step_loss : 0.5910740494728088\n",
      "2_64_step_정확도 :0.875\n",
      "Epoch : 2, train_96_step_loss : 1.411769151687622\n",
      "2_96_step_정확도 :0.4375\n",
      "Epoch : 2, train_128_step_loss : 0.47805869579315186\n",
      "2_128_step_정확도 :0.875\n",
      "Epoch : 2, train_160_step_loss : 0.6605532169342041\n",
      "2_160_step_정확도 :0.75\n",
      "Epoch:2, train_184_stepLoss:0.7665808345820453\n",
      "Epoch:2, train_184_stepacc:0.7263513513513513\n",
      "Epoch:2, train_184_stepacc:0.7263513513513513\n",
      "Epoch : 2, val_0_step_loss : 0.4928888976573944\n",
      "2_0_step_정확도 :0.8125\n",
      "Epoch : 2, val_32_step_loss : 1.3221220970153809\n",
      "2_32_step_정확도 :0.5625\n",
      "Epoch:2, val_61_stepLoss:0.8624755644029186\n",
      "Epoch:2, val_61_stepacc:0.690668202764977\n",
      "Epoch:2, val_61_stepacc:0.690668202764977\n",
      "Validation loss decreased (0.893135 --> 0.862476).  Saving model ...\n"
     ]
    },
    {
     "name": "stderr",
     "output_type": "stream",
     "text": [
      " 20%|██        | 2/10 [02:58<11:55, 89.39s/it]"
     ]
    },
    {
     "name": "stdout",
     "output_type": "stream",
     "text": [
      "Epoch : 3, train_0_step_loss : 0.8248904943466187\n",
      "3_0_step_정확도 :0.6875\n",
      "Epoch : 3, train_32_step_loss : 0.8542018532752991\n",
      "3_32_step_정확도 :0.5625\n",
      "Epoch : 3, train_64_step_loss : 0.71419757604599\n",
      "3_64_step_정확도 :0.75\n",
      "Epoch : 3, train_96_step_loss : 0.25640833377838135\n",
      "3_96_step_정확도 :0.9375\n",
      "Epoch : 3, train_128_step_loss : 0.6850477457046509\n",
      "3_128_step_정확도 :0.6875\n",
      "Epoch : 3, train_160_step_loss : 0.8357322812080383\n",
      "3_160_step_정확도 :0.8125\n",
      "Epoch:3, train_184_stepLoss:0.5785332557317373\n",
      "Epoch:3, train_184_stepacc:0.7990990990990992\n",
      "Epoch:3, train_184_stepacc:0.7990990990990992\n",
      "Epoch : 3, val_0_step_loss : 0.49216753244400024\n",
      "3_0_step_정확도 :0.875\n",
      "Epoch : 3, val_32_step_loss : 1.145925760269165\n",
      "3_32_step_정확도 :0.625\n",
      "Epoch:3, val_61_stepLoss:0.8315557200581797\n",
      "Epoch:3, val_61_stepacc:0.7232142857142857\n",
      "Epoch:3, val_61_stepacc:0.7232142857142857\n",
      "Validation loss decreased (0.862476 --> 0.831556).  Saving model ...\n"
     ]
    },
    {
     "name": "stderr",
     "output_type": "stream",
     "text": [
      " 30%|███       | 3/10 [04:28<10:26, 89.53s/it]"
     ]
    },
    {
     "name": "stdout",
     "output_type": "stream",
     "text": [
      "Epoch : 4, train_0_step_loss : 0.24252420663833618\n",
      "4_0_step_정확도 :0.9375\n",
      "Epoch : 4, train_32_step_loss : 0.7423000335693359\n",
      "4_32_step_정확도 :0.8125\n",
      "Epoch : 4, train_64_step_loss : 0.6947985887527466\n",
      "4_64_step_정확도 :0.8125\n",
      "Epoch : 4, train_96_step_loss : 0.10334768891334534\n",
      "4_96_step_정확도 :1.0\n",
      "Epoch : 4, train_128_step_loss : 0.7471470832824707\n",
      "4_128_step_정확도 :0.8125\n",
      "Epoch : 4, train_160_step_loss : 0.25737255811691284\n",
      "4_160_step_정확도 :0.9375\n",
      "Epoch:4, train_184_stepLoss:0.4227571848679233\n",
      "Epoch:4, train_184_stepacc:0.8653153153153154\n",
      "Epoch:4, train_184_stepacc:0.8653153153153154\n",
      "Epoch : 4, val_0_step_loss : 0.4439795911312103\n",
      "4_0_step_정확도 :0.875\n",
      "Epoch : 4, val_32_step_loss : 1.4547860622406006\n",
      "4_32_step_정확도 :0.5625\n",
      "Epoch:4, val_61_stepLoss:0.9150114124340396\n",
      "Epoch:4, val_61_stepacc:0.7158698156682027\n",
      "Epoch:4, val_61_stepacc:0.7158698156682027\n",
      "EarlyStopping counter: 1 out of 3\n"
     ]
    },
    {
     "name": "stderr",
     "output_type": "stream",
     "text": [
      " 40%|████      | 4/10 [05:55<08:50, 88.46s/it]"
     ]
    },
    {
     "name": "stdout",
     "output_type": "stream",
     "text": [
      "Epoch : 5, train_0_step_loss : 0.41034936904907227\n",
      "5_0_step_정확도 :0.875\n",
      "Epoch : 5, train_32_step_loss : 0.32990559935569763\n",
      "5_32_step_정확도 :0.9375\n",
      "Epoch : 5, train_64_step_loss : 0.6991872787475586\n",
      "5_64_step_정확도 :0.75\n",
      "Epoch : 5, train_96_step_loss : 0.18248461186885834\n",
      "5_96_step_정확도 :0.9375\n",
      "Epoch : 5, train_128_step_loss : 0.3495582342147827\n",
      "5_128_step_정확도 :0.875\n",
      "Epoch : 5, train_160_step_loss : 0.22926214337348938\n",
      "5_160_step_정확도 :0.875\n",
      "Epoch:5, train_184_stepLoss:0.30896975325571524\n",
      "Epoch:5, train_184_stepacc:0.9047297297297298\n",
      "Epoch:5, train_184_stepacc:0.9047297297297298\n",
      "Epoch : 5, val_0_step_loss : 0.6817420125007629\n",
      "5_0_step_정확도 :0.8125\n",
      "Epoch : 5, val_32_step_loss : 1.6092549562454224\n",
      "5_32_step_정확도 :0.625\n",
      "Epoch:5, val_61_stepLoss:1.0633018506510603\n",
      "Epoch:5, val_61_stepacc:0.7088133640552995\n",
      "Epoch:5, val_61_stepacc:0.7088133640552995\n",
      "EarlyStopping counter: 2 out of 3\n"
     ]
    },
    {
     "name": "stderr",
     "output_type": "stream",
     "text": [
      " 50%|█████     | 5/10 [07:23<07:22, 88.59s/it]"
     ]
    },
    {
     "name": "stdout",
     "output_type": "stream",
     "text": [
      "Epoch : 6, train_0_step_loss : 0.43077683448791504\n",
      "6_0_step_정확도 :0.9375\n",
      "Epoch : 6, train_32_step_loss : 0.3846164345741272\n",
      "6_32_step_정확도 :0.875\n",
      "Epoch : 6, train_64_step_loss : 0.1293255239725113\n",
      "6_64_step_정확도 :0.9375\n",
      "Epoch : 6, train_96_step_loss : 0.5202475190162659\n",
      "6_96_step_정확도 :0.875\n",
      "Epoch : 6, train_128_step_loss : 0.15657109022140503\n",
      "6_128_step_정확도 :0.9375\n",
      "Epoch : 6, train_160_step_loss : 0.3416067659854889\n",
      "6_160_step_정확도 :0.875\n",
      "Epoch:6, train_184_stepLoss:0.21838798416224686\n",
      "Epoch:6, train_184_stepacc:0.9422297297297297\n",
      "Epoch:6, train_184_stepacc:0.9422297297297297\n",
      "Epoch : 6, val_0_step_loss : 0.8091546893119812\n",
      "6_0_step_정확도 :0.75\n",
      "Epoch : 6, val_32_step_loss : 1.426068902015686\n",
      "6_32_step_정확도 :0.5625\n",
      "Epoch:6, val_61_stepLoss:1.033585452084099\n",
      "Epoch:6, val_61_stepacc:0.7078052995391705\n",
      "Epoch:6, val_61_stepacc:0.7078052995391705\n",
      "EarlyStopping counter: 3 out of 3\n"
     ]
    },
    {
     "name": "stderr",
     "output_type": "stream",
     "text": [
      " 60%|██████    | 6/10 [08:50<05:52, 88.05s/it]"
     ]
    },
    {
     "name": "stdout",
     "output_type": "stream",
     "text": [
      "Epoch : 7, train_0_step_loss : 0.2943074703216553\n",
      "7_0_step_정확도 :0.9375\n",
      "Epoch : 7, train_32_step_loss : 0.3602670133113861\n",
      "7_32_step_정확도 :0.9375\n",
      "Epoch : 7, train_64_step_loss : 0.12220638245344162\n",
      "7_64_step_정확도 :0.9375\n",
      "Epoch : 7, train_96_step_loss : 0.1307567059993744\n",
      "7_96_step_정확도 :0.9375\n",
      "Epoch : 7, train_128_step_loss : 0.19488218426704407\n",
      "7_128_step_정확도 :0.9375\n",
      "Epoch : 7, train_160_step_loss : 0.07780775427818298\n",
      "7_160_step_정확도 :0.9375\n",
      "Epoch:7, train_184_stepLoss:0.168480695814297\n",
      "Epoch:7, train_184_stepacc:0.9554054054054054\n",
      "Epoch:7, train_184_stepacc:0.9554054054054054\n",
      "Epoch : 7, val_0_step_loss : 0.8293514251708984\n",
      "7_0_step_정확도 :0.8125\n",
      "Epoch : 7, val_32_step_loss : 1.6009966135025024\n",
      "7_32_step_정확도 :0.625\n",
      "Epoch:7, val_61_stepLoss:1.0919629417119487\n",
      "Epoch:7, val_61_stepacc:0.7276785714285715\n",
      "Epoch:7, val_61_stepacc:0.7276785714285715\n",
      "EarlyStopping counter: 4 out of 3\n"
     ]
    },
    {
     "name": "stderr",
     "output_type": "stream",
     "text": [
      " 70%|███████   | 7/10 [10:17<04:22, 87.63s/it]"
     ]
    },
    {
     "name": "stdout",
     "output_type": "stream",
     "text": [
      "Epoch : 8, train_0_step_loss : 0.06959397345781326\n",
      "8_0_step_정확도 :1.0\n",
      "Epoch : 8, train_32_step_loss : 0.10705870389938354\n",
      "8_32_step_정확도 :0.9375\n",
      "Epoch : 8, train_64_step_loss : 0.12603524327278137\n",
      "8_64_step_정확도 :1.0\n",
      "Epoch : 8, train_96_step_loss : 0.5102198719978333\n",
      "8_96_step_정확도 :0.8125\n",
      "Epoch : 8, train_128_step_loss : 0.0474562793970108\n",
      "8_128_step_정확도 :1.0\n",
      "Epoch : 8, train_160_step_loss : 0.3127566874027252\n",
      "8_160_step_정확도 :0.9375\n",
      "Epoch:8, train_184_stepLoss:0.13280679365569675\n",
      "Epoch:8, train_184_stepacc:0.9641891891891892\n",
      "Epoch:8, train_184_stepacc:0.9641891891891892\n",
      "Epoch : 8, val_0_step_loss : 0.8003411293029785\n",
      "8_0_step_정확도 :0.8125\n",
      "Epoch : 8, val_32_step_loss : 1.4866173267364502\n",
      "8_32_step_정확도 :0.5625\n",
      "Epoch:8, val_61_stepLoss:1.2487973695801151\n",
      "Epoch:8, val_61_stepacc:0.721918202764977\n",
      "Epoch:8, val_61_stepacc:0.721918202764977\n",
      "EarlyStopping counter: 5 out of 3\n"
     ]
    },
    {
     "name": "stderr",
     "output_type": "stream",
     "text": [
      " 80%|████████  | 8/10 [11:44<02:54, 87.46s/it]"
     ]
    },
    {
     "name": "stdout",
     "output_type": "stream",
     "text": [
      "Epoch : 9, train_0_step_loss : 0.09594529867172241\n",
      "9_0_step_정확도 :0.9375\n",
      "Epoch : 9, train_32_step_loss : 0.06392714381217957\n",
      "9_32_step_정확도 :1.0\n",
      "Epoch : 9, train_64_step_loss : 0.11993914842605591\n",
      "9_64_step_정확도 :0.9375\n",
      "Epoch : 9, train_96_step_loss : 0.23932184278964996\n",
      "9_96_step_정확도 :0.9375\n",
      "Epoch : 9, train_128_step_loss : 0.04951819032430649\n",
      "9_128_step_정확도 :1.0\n",
      "Epoch : 9, train_160_step_loss : 0.018353629857301712\n",
      "9_160_step_정확도 :1.0\n",
      "Epoch:9, train_184_stepLoss:0.10473027249949204\n",
      "Epoch:9, train_184_stepacc:0.9712837837837838\n",
      "Epoch:9, train_184_stepacc:0.9712837837837838\n",
      "Epoch : 9, val_0_step_loss : 0.7613373398780823\n",
      "9_0_step_정확도 :0.875\n",
      "Epoch : 9, val_32_step_loss : 2.0832860469818115\n",
      "9_32_step_정확도 :0.5625\n",
      "Epoch:9, val_61_stepLoss:1.1985410707852533\n",
      "Epoch:9, val_61_stepacc:0.7319988479262672\n",
      "Epoch:9, val_61_stepacc:0.7319988479262672\n",
      "EarlyStopping counter: 6 out of 3\n"
     ]
    },
    {
     "name": "stderr",
     "output_type": "stream",
     "text": [
      " 90%|█████████ | 9/10 [13:11<01:27, 87.26s/it]"
     ]
    },
    {
     "name": "stdout",
     "output_type": "stream",
     "text": [
      "Epoch : 10, train_0_step_loss : 0.023083172738552094\n",
      "10_0_step_정확도 :1.0\n",
      "Epoch : 10, train_32_step_loss : 0.01377736497670412\n",
      "10_32_step_정확도 :1.0\n",
      "Epoch : 10, train_64_step_loss : 0.022064462304115295\n",
      "10_64_step_정확도 :1.0\n",
      "Epoch : 10, train_96_step_loss : 0.016064297407865524\n",
      "10_96_step_정확도 :1.0\n",
      "Epoch : 10, train_128_step_loss : 0.01963553950190544\n",
      "10_128_step_정확도 :1.0\n",
      "Epoch : 10, train_160_step_loss : 0.01295827329158783\n",
      "10_160_step_정확도 :1.0\n",
      "Epoch:10, train_184_stepLoss:0.06948717753528744\n",
      "Epoch:10, train_184_stepacc:0.9831081081081081\n",
      "Epoch:10, train_184_stepacc:0.9831081081081081\n",
      "Epoch : 10, val_0_step_loss : 0.6534675359725952\n",
      "10_0_step_정확도 :0.875\n",
      "Epoch : 10, val_32_step_loss : 1.211094617843628\n",
      "10_32_step_정확도 :0.625\n",
      "Epoch:10, val_61_stepLoss:1.2662665420962917\n",
      "Epoch:10, val_61_stepacc:0.7269585253456221\n",
      "Epoch:10, val_61_stepacc:0.7269585253456221\n",
      "EarlyStopping counter: 7 out of 3\n"
     ]
    },
    {
     "name": "stderr",
     "output_type": "stream",
     "text": [
      "100%|██████████| 10/10 [14:38<00:00, 87.88s/it]\n"
     ]
    }
   ],
   "source": [
    "loss_dic = {'epoch':[],'train_loss':[], 'validation_loss':[],'train_acc':[],'val_acc':[]}\n",
    "early_stopping = EarlyStopping(patience = 3, verbose = True)\n",
    "\n",
    "\n",
    "for epoch in tqdm(range(0,cfg.epochs)):\n",
    "    train(epoch, model, optimizer, train_loader)\n",
    "\n",
    "    lr_scheduler.step()\n",
    "\n",
    "    validate(epoch, model, val_loader)\n",
    "\n",
    "    # if early_stopping.early_stop:\n",
    "    #     break\n",
    "    \n",
    "    torch.save(model, f'/home/work/CL/final_healthmodel/shuffle_{epoch+1}epoch.pt')\n",
    "    \n",
    "    \n",
    "    # index = index + 1\n",
    "df1 = pd.DataFrame(loss_dic)\n",
    "df1.to_excel(f'/home/work/CL/final_healthmodel/shuffle.xlsx', index=False)    \n",
    "\n",
    "    "
   ]
  },
  {
   "cell_type": "code",
   "execution_count": 18,
   "metadata": {},
   "outputs": [
    {
     "data": {
      "text/html": [
       "<div>\n",
       "<style scoped>\n",
       "    .dataframe tbody tr th:only-of-type {\n",
       "        vertical-align: middle;\n",
       "    }\n",
       "\n",
       "    .dataframe tbody tr th {\n",
       "        vertical-align: top;\n",
       "    }\n",
       "\n",
       "    .dataframe thead th {\n",
       "        text-align: right;\n",
       "    }\n",
       "</style>\n",
       "<table border=\"1\" class=\"dataframe\">\n",
       "  <thead>\n",
       "    <tr style=\"text-align: right;\">\n",
       "      <th></th>\n",
       "      <th>epoch</th>\n",
       "      <th>train_loss</th>\n",
       "      <th>validation_loss</th>\n",
       "      <th>train_acc</th>\n",
       "      <th>val_acc</th>\n",
       "    </tr>\n",
       "  </thead>\n",
       "  <tbody>\n",
       "    <tr>\n",
       "      <th>0</th>\n",
       "      <td>1</td>\n",
       "      <td>1.335364</td>\n",
       "      <td>0.893135</td>\n",
       "      <td>0.525000</td>\n",
       "      <td>0.658698</td>\n",
       "    </tr>\n",
       "    <tr>\n",
       "      <th>1</th>\n",
       "      <td>2</td>\n",
       "      <td>0.766581</td>\n",
       "      <td>0.862476</td>\n",
       "      <td>0.726351</td>\n",
       "      <td>0.690668</td>\n",
       "    </tr>\n",
       "    <tr>\n",
       "      <th>2</th>\n",
       "      <td>3</td>\n",
       "      <td>0.578533</td>\n",
       "      <td>0.831556</td>\n",
       "      <td>0.799099</td>\n",
       "      <td>0.723214</td>\n",
       "    </tr>\n",
       "    <tr>\n",
       "      <th>3</th>\n",
       "      <td>4</td>\n",
       "      <td>0.422757</td>\n",
       "      <td>0.915011</td>\n",
       "      <td>0.865315</td>\n",
       "      <td>0.715870</td>\n",
       "    </tr>\n",
       "    <tr>\n",
       "      <th>4</th>\n",
       "      <td>5</td>\n",
       "      <td>0.308970</td>\n",
       "      <td>1.063302</td>\n",
       "      <td>0.904730</td>\n",
       "      <td>0.708813</td>\n",
       "    </tr>\n",
       "    <tr>\n",
       "      <th>5</th>\n",
       "      <td>6</td>\n",
       "      <td>0.218388</td>\n",
       "      <td>1.033585</td>\n",
       "      <td>0.942230</td>\n",
       "      <td>0.707805</td>\n",
       "    </tr>\n",
       "    <tr>\n",
       "      <th>6</th>\n",
       "      <td>7</td>\n",
       "      <td>0.168481</td>\n",
       "      <td>1.091963</td>\n",
       "      <td>0.955405</td>\n",
       "      <td>0.727679</td>\n",
       "    </tr>\n",
       "    <tr>\n",
       "      <th>7</th>\n",
       "      <td>8</td>\n",
       "      <td>0.132807</td>\n",
       "      <td>1.248797</td>\n",
       "      <td>0.964189</td>\n",
       "      <td>0.721918</td>\n",
       "    </tr>\n",
       "    <tr>\n",
       "      <th>8</th>\n",
       "      <td>9</td>\n",
       "      <td>0.104730</td>\n",
       "      <td>1.198541</td>\n",
       "      <td>0.971284</td>\n",
       "      <td>0.731999</td>\n",
       "    </tr>\n",
       "    <tr>\n",
       "      <th>9</th>\n",
       "      <td>10</td>\n",
       "      <td>0.069487</td>\n",
       "      <td>1.266267</td>\n",
       "      <td>0.983108</td>\n",
       "      <td>0.726959</td>\n",
       "    </tr>\n",
       "  </tbody>\n",
       "</table>\n",
       "</div>"
      ],
      "text/plain": [
       "   epoch  train_loss  validation_loss  train_acc   val_acc\n",
       "0      1    1.335364         0.893135   0.525000  0.658698\n",
       "1      2    0.766581         0.862476   0.726351  0.690668\n",
       "2      3    0.578533         0.831556   0.799099  0.723214\n",
       "3      4    0.422757         0.915011   0.865315  0.715870\n",
       "4      5    0.308970         1.063302   0.904730  0.708813\n",
       "5      6    0.218388         1.033585   0.942230  0.707805\n",
       "6      7    0.168481         1.091963   0.955405  0.727679\n",
       "7      8    0.132807         1.248797   0.964189  0.721918\n",
       "8      9    0.104730         1.198541   0.971284  0.731999\n",
       "9     10    0.069487         1.266267   0.983108  0.726959"
      ]
     },
     "execution_count": 18,
     "metadata": {},
     "output_type": "execute_result"
    }
   ],
   "source": [
    "df1"
   ]
  },
  {
   "cell_type": "code",
   "execution_count": 19,
   "metadata": {},
   "outputs": [
    {
     "data": {
      "image/png": "[encoded data removed]",
      "text/plain": [
       "<Figure size 720x576 with 1 Axes>"
      ]
     },
     "metadata": {
      "needs_background": "light"
     },
     "output_type": "display_data"
    }
   ],
   "source": [
    "plt.figure(figsize=(10,8))\n",
    "plt.xlabel('Epoch')\n",
    "plt.ylabel('Loss')\n",
    "plt.plot(df1['epoch'],df1['train_loss'],label='train_loss')\n",
    "plt.plot(df1['epoch'],df1['validation_loss'],label='val_loss')\n",
    "# plt.plot(loss_dic['epoch'],nolora_df['train_loss'],label='no_lora_trainloss')\n",
    "# plt.plot(loss_dic['epoch'],nolora_df['validation_loss'],label='no_lora_valloss')\n",
    "\n",
    "plt.legend()\n",
    "plt.show()"
   ]
  },
  {
   "cell_type": "code",
   "execution_count": 20,
   "metadata": {},
   "outputs": [
    {
     "data": {
      "image/png": "[encoded data removed]",
      "text/plain": [
       "<Figure size 720x576 with 1 Axes>"
      ]
     },
     "metadata": {
      "needs_background": "light"
     },
     "output_type": "display_data"
    }
   ],
   "source": [
    "plt.figure(figsize=(10,8))\n",
    "plt.xlabel('Epoch')\n",
    "plt.ylabel('Accuracy')\n",
    "\n",
    "plt.plot(df1['epoch'],df1['train_acc'],label='train_acc')\n",
    "plt.plot(df1['epoch'],df1['val_acc'],label='val_acc')\n",
    "# plt.plot(loss_dic['epoch'],nolora_df['train_acc'],label='no_lora_train_acc')\n",
    "# plt.plot(loss_dic['epoch'],nolora_df['val_acc'],label='no_lora_acc')\n",
    "plt.legend()\n",
    "plt.show()"
   ]
  },
  {
   "cell_type": "markdown",
   "metadata": {},
   "source": [
    "## 2번 도메인까지 학습한뒤 평가(정렬된거기준)"
   ]
  },
  {
   "cell_type": "code",
   "execution_count": 21,
   "metadata": {},
   "outputs": [
    {
     "name": "stderr",
     "output_type": "stream",
     "text": [
      "62it [00:07,  7.85it/s]\n"
     ]
    },
    {
     "name": "stdout",
     "output_type": "stream",
     "text": [
      "test_61_stepLoss:0.857115789286552\n",
      "test_61_stepacc:0.6784274193548387\n",
      "1 (0.857115789286552, 0.6784274193548387)\n"
     ]
    },
    {
     "name": "stderr",
     "output_type": "stream",
     "text": [
      "62it [00:07,  7.85it/s]\n"
     ]
    },
    {
     "name": "stdout",
     "output_type": "stream",
     "text": [
      "test_61_stepLoss:0.7883053844974887\n",
      "test_61_stepacc:0.7086693548387096\n",
      "2 (0.7883053844974887, 0.7086693548387096)\n"
     ]
    },
    {
     "name": "stderr",
     "output_type": "stream",
     "text": [
      "62it [00:07,  7.84it/s]\n"
     ]
    },
    {
     "name": "stdout",
     "output_type": "stream",
     "text": [
      "test_61_stepLoss:0.7648554477960833\n",
      "test_61_stepacc:0.7247983870967742\n",
      "3 (0.7648554477960833, 0.7247983870967742)\n"
     ]
    },
    {
     "name": "stderr",
     "output_type": "stream",
     "text": [
      "62it [00:07,  7.83it/s]\n"
     ]
    },
    {
     "name": "stdout",
     "output_type": "stream",
     "text": [
      "test_61_stepLoss:0.8234303420589816\n",
      "test_61_stepacc:0.7399193548387096\n",
      "4 (0.8234303420589816, 0.7399193548387096)\n"
     ]
    },
    {
     "name": "stderr",
     "output_type": "stream",
     "text": [
      "62it [00:07,  7.83it/s]\n"
     ]
    },
    {
     "name": "stdout",
     "output_type": "stream",
     "text": [
      "test_61_stepLoss:1.0086720499300188\n",
      "test_61_stepacc:0.7167338709677419\n",
      "5 (1.0086720499300188, 0.7167338709677419)\n"
     ]
    },
    {
     "name": "stderr",
     "output_type": "stream",
     "text": [
      "62it [00:07,  7.86it/s]\n"
     ]
    },
    {
     "name": "stdout",
     "output_type": "stream",
     "text": [
      "test_61_stepLoss:1.0662584929696974\n",
      "test_61_stepacc:0.6955645161290323\n",
      "6 (1.0662584929696974, 0.6955645161290323)\n"
     ]
    },
    {
     "name": "stderr",
     "output_type": "stream",
     "text": [
      "62it [00:07,  7.83it/s]\n"
     ]
    },
    {
     "name": "stdout",
     "output_type": "stream",
     "text": [
      "test_61_stepLoss:1.0489477366809883\n",
      "test_61_stepacc:0.7399193548387096\n",
      "7 (1.0489477366809883, 0.7399193548387096)\n"
     ]
    },
    {
     "name": "stderr",
     "output_type": "stream",
     "text": [
      "62it [00:07,  7.84it/s]\n"
     ]
    },
    {
     "name": "stdout",
     "output_type": "stream",
     "text": [
      "test_61_stepLoss:1.2482278426928866\n",
      "test_61_stepacc:0.7137096774193549\n",
      "8 (1.2482278426928866, 0.7137096774193549)\n"
     ]
    },
    {
     "name": "stderr",
     "output_type": "stream",
     "text": [
      "62it [00:07,  7.82it/s]\n"
     ]
    },
    {
     "name": "stdout",
     "output_type": "stream",
     "text": [
      "test_61_stepLoss:1.2052313457092931\n",
      "test_61_stepacc:0.7258064516129032\n",
      "9 (1.2052313457092931, 0.7258064516129032)\n"
     ]
    },
    {
     "name": "stderr",
     "output_type": "stream",
     "text": [
      "62it [00:07,  7.83it/s]\n"
     ]
    },
    {
     "name": "stdout",
     "output_type": "stream",
     "text": [
      "test_61_stepLoss:1.2998835845820365\n",
      "test_61_stepacc:0.7207661290322581\n",
      "10 (1.2998835845820365, 0.7207661290322581)\n"
     ]
    },
    {
     "ename": "FileNotFoundError",
     "evalue": "[Errno 2] No such file or directory: '/home/work/CL/final_healthmodel/shuffle_11epoch.pt'",
     "output_type": "error",
     "traceback": [
      "\u001b[0;31m---------------------------------------------------------------------------\u001b[0m",
      "\u001b[0;31mFileNotFoundError\u001b[0m                         Traceback (most recent call last)",
      "Cell \u001b[0;32mIn[21], line 6\u001b[0m\n\u001b[1;32m      4\u001b[0m \u001b[39mfor\u001b[39;00m i \u001b[39min\u001b[39;00m \u001b[39mrange\u001b[39m(\u001b[39m20\u001b[39m) :\n\u001b[1;32m      5\u001b[0m     save_path \u001b[39m=\u001b[39m \u001b[39mf\u001b[39m\u001b[39m\"\u001b[39m\u001b[39m/home/work/CL/final_healthmodel/shuffle_\u001b[39m\u001b[39m{\u001b[39;00mi\u001b[39m+\u001b[39m\u001b[39m1\u001b[39m\u001b[39m}\u001b[39;00m\u001b[39mepoch.pt\u001b[39m\u001b[39m\"\u001b[39m\n\u001b[0;32m----> 6\u001b[0m     model \u001b[39m=\u001b[39m torch\u001b[39m.\u001b[39;49mload(save_path)\n\u001b[1;32m      8\u001b[0m     \u001b[39mprint\u001b[39m(i\u001b[39m+\u001b[39m\u001b[39m1\u001b[39m,infer(model\u001b[39m=\u001b[39mmodel,loader\u001b[39m=\u001b[39mtest_loader))\n",
      "File \u001b[0;32m/usr/local/lib/python3.8/dist-packages/torch/serialization.py:776\u001b[0m, in \u001b[0;36mload\u001b[0;34m(f, map_location, pickle_module, weights_only, **pickle_load_args)\u001b[0m\n\u001b[1;32m    773\u001b[0m \u001b[39mif\u001b[39;00m \u001b[39m'\u001b[39m\u001b[39mencoding\u001b[39m\u001b[39m'\u001b[39m \u001b[39mnot\u001b[39;00m \u001b[39min\u001b[39;00m pickle_load_args\u001b[39m.\u001b[39mkeys():\n\u001b[1;32m    774\u001b[0m     pickle_load_args[\u001b[39m'\u001b[39m\u001b[39mencoding\u001b[39m\u001b[39m'\u001b[39m] \u001b[39m=\u001b[39m \u001b[39m'\u001b[39m\u001b[39mutf-8\u001b[39m\u001b[39m'\u001b[39m\n\u001b[0;32m--> 776\u001b[0m \u001b[39mwith\u001b[39;00m _open_file_like(f, \u001b[39m'\u001b[39;49m\u001b[39mrb\u001b[39;49m\u001b[39m'\u001b[39;49m) \u001b[39mas\u001b[39;00m opened_file:\n\u001b[1;32m    777\u001b[0m     \u001b[39mif\u001b[39;00m _is_zipfile(opened_file):\n\u001b[1;32m    778\u001b[0m         \u001b[39m# The zipfile reader is going to advance the current file position.\u001b[39;00m\n\u001b[1;32m    779\u001b[0m         \u001b[39m# If we want to actually tail call to torch.jit.load, we need to\u001b[39;00m\n\u001b[1;32m    780\u001b[0m         \u001b[39m# reset back to the original position.\u001b[39;00m\n\u001b[1;32m    781\u001b[0m         orig_position \u001b[39m=\u001b[39m opened_file\u001b[39m.\u001b[39mtell()\n",
      "File \u001b[0;32m/usr/local/lib/python3.8/dist-packages/torch/serialization.py:270\u001b[0m, in \u001b[0;36m_open_file_like\u001b[0;34m(name_or_buffer, mode)\u001b[0m\n\u001b[1;32m    268\u001b[0m \u001b[39mdef\u001b[39;00m \u001b[39m_open_file_like\u001b[39m(name_or_buffer, mode):\n\u001b[1;32m    269\u001b[0m     \u001b[39mif\u001b[39;00m _is_path(name_or_buffer):\n\u001b[0;32m--> 270\u001b[0m         \u001b[39mreturn\u001b[39;00m _open_file(name_or_buffer, mode)\n\u001b[1;32m    271\u001b[0m     \u001b[39melse\u001b[39;00m:\n\u001b[1;32m    272\u001b[0m         \u001b[39mif\u001b[39;00m \u001b[39m'\u001b[39m\u001b[39mw\u001b[39m\u001b[39m'\u001b[39m \u001b[39min\u001b[39;00m mode:\n",
      "File \u001b[0;32m/usr/local/lib/python3.8/dist-packages/torch/serialization.py:251\u001b[0m, in \u001b[0;36m_open_file.__init__\u001b[0;34m(self, name, mode)\u001b[0m\n\u001b[1;32m    250\u001b[0m \u001b[39mdef\u001b[39;00m \u001b[39m__init__\u001b[39m(\u001b[39mself\u001b[39m, name, mode):\n\u001b[0;32m--> 251\u001b[0m     \u001b[39msuper\u001b[39m()\u001b[39m.\u001b[39m\u001b[39m__init__\u001b[39m(\u001b[39mopen\u001b[39;49m(name, mode))\n",
      "\u001b[0;31mFileNotFoundError\u001b[0m: [Errno 2] No such file or directory: '/home/work/CL/final_healthmodel/shuffle_11epoch.pt'"
     ]
    }
   ],
   "source": [
    "from transformers import AutoModelForSequenceClassification, AutoTokenizer\n",
    "tokenizer = AutoTokenizer.from_pretrained(cfg.model_path)\n",
    "\n",
    "for i in range(20) :\n",
    "    save_path = f\"/home/work/CL/final_healthmodel/shuffle_{i+1}epoch.pt\"\n",
    "    model = torch.load(save_path)\n",
    "\n",
    "    print(i+1,infer(model=model,loader=test_loader))\n",
    "\n"
   ]
  }
 ],
 "metadata": {
  "kernelspec": {
   "display_name": "PyTorch 1.14 (NGC 22.12/Python 3.8) on Backend.AI",
   "language": "python",
   "name": "python3"
  },
  "language_info": {
   "codemirror_mode": {
    "name": "ipython",
    "version": 3
   },
   "file_extension": ".py",
   "mimetype": "text/x-python",
   "name": "python",
   "nbconvert_exporter": "python",
   "pygments_lexer": "ipython3",
   "version": "3.8.10"
  },
  "vscode": {
   "interpreter": {
    "hash": "767d51c1340bd893661ea55ea3124f6de3c7a262a8b4abca0554b478b1e2ff90"
   }
  }
 },
 "nbformat": 4,
 "nbformat_minor": 2
}
