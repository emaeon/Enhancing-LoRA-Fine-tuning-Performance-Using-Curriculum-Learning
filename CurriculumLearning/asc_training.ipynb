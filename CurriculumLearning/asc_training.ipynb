{
 "cells": [
  {
   "cell_type": "markdown",
   "metadata": {},
   "source": [
    "# 1. IMPORT"
   ]
  },
  {
   "cell_type": "code",
   "execution_count": 1,
   "metadata": {},
   "outputs": [],
   "source": [
    "#필요한 모듈을 import 합니다.\n",
    "from numba import cuda\n",
    "\n",
    "#이후 초기화 작업을 진행해줍니다.\n",
    "device = cuda.get_current_device()\n",
    "device.reset()"
   ]
  },
  {
   "cell_type": "code",
   "execution_count": 2,
   "metadata": {},
   "outputs": [],
   "source": [
    "import torch, gc\n",
    "gc.collect()\n",
    "torch.cuda.empty_cache()"
   ]
  },
  {
   "cell_type": "code",
   "execution_count": 3,
   "metadata": {},
   "outputs": [],
   "source": [
    "from pytorchtools import EarlyStopping"
   ]
  },
  {
   "cell_type": "code",
   "execution_count": 4,
   "metadata": {},
   "outputs": [
    {
     "name": "stderr",
     "output_type": "stream",
     "text": [
      "/usr/local/lib/python3.8/dist-packages/pandas/core/computation/expressions.py:20: UserWarning: Pandas requires version '2.7.3' or newer of 'numexpr' (version '2.7.0' currently installed).\n",
      "  from pandas.core.computation.check import NUMEXPR_INSTALLED\n"
     ]
    }
   ],
   "source": [
    "import pandas as pd\n",
    "import numpy as np\n",
    "from sklearn.metrics import accuracy_score, f1_score\n",
    "from sklearn.preprocessing import LabelEncoder\n",
    "import random\n",
    "import os\n",
    "\n",
    "import torch\n",
    "from torch import nn\n",
    "import torch.nn.functional as F\n",
    "from torch.utils.data import Dataset, DataLoader\n",
    "from tqdm import tqdm\n",
    "from torch.optim import AdamW\n",
    "\n",
    "import matplotlib as mpl\n",
    "import matplotlib.pyplot as plt\n",
    "\n",
    "from transformers import logging\n",
    "logging.set_verbosity_error()\n",
    "import warnings\n",
    "warnings.filterwarnings(action='ignore')\n"
   ]
  },
  {
   "cell_type": "code",
   "execution_count": 5,
   "metadata": {},
   "outputs": [
    {
     "data": {
      "text/plain": [
       "device(type='cuda')"
      ]
     },
     "execution_count": 5,
     "metadata": {},
     "output_type": "execute_result"
    }
   ],
   "source": [
    "device = torch.device('cuda')if torch.cuda.is_available() else torch.device('cpu')\n",
    "device"
   ]
  },
  {
   "cell_type": "code",
   "execution_count": 6,
   "metadata": {},
   "outputs": [
    {
     "name": "stdout",
     "output_type": "stream",
     "text": [
      "Device: cuda\n",
      "Current cuda device: 0\n",
      "Count of using GPUs: 1\n"
     ]
    }
   ],
   "source": [
    "print('Device:', device)\n",
    "print('Current cuda device:', torch.cuda.current_device())\n",
    "print('Count of using GPUs:', torch.cuda.device_count())"
   ]
  },
  {
   "cell_type": "markdown",
   "metadata": {},
   "source": [
    "# 하이퍼파라미터 설정"
   ]
  },
  {
   "cell_type": "code",
   "execution_count": 7,
   "metadata": {},
   "outputs": [],
   "source": [
    "class config():\n",
    "    def __init__(self):\n",
    "        \n",
    "        self.source_len=128\n",
    "        self.epochs = 10\n",
    "        self.learning_rate=0.000003\n",
    "        self.batch_size=16\n",
    "        self.shuffle = True\n",
    "        self.seed=800\n",
    "        self.num_labels=10\n",
    "        self.data_path= '/home/work/CL/dataset/healthcare/healthcare5000.pickle'\n",
    "        self.model_path = 'klue/roberta-large'\n",
    "        # self.modelsave_path = r'C:\\Users\\user\\OneDrive - KookminUNIV\\바탕 화면\\추가사전학습\\Fine_tuning'\n",
    "        # self.loss_path = r'C:\\Users\\user\\OneDrive - KookminUNIV\\바탕 화면\\추가사전학습\\Fine_tuning'\n",
    "cfg = config()"
   ]
  },
  {
   "cell_type": "markdown",
   "metadata": {},
   "source": [
    "# 랜덤시드 고정"
   ]
  },
  {
   "cell_type": "code",
   "execution_count": 8,
   "metadata": {},
   "outputs": [],
   "source": [
    "def seed_everything(seed):\n",
    "    random.seed(seed)\n",
    "    os.environ['PYTHONHASHSEED']=str(seed)\n",
    "    np.random.seed(seed)\n",
    "    torch.manual_seed(seed)\n",
    "    torch.cuda.manual_seed(seed)\n",
    "    torch.backends.cudnn.deterministic=True\n",
    "    torch.bachends.cudnn.bechmark = True\n",
    "    \n",
    "    seed_everything(cfg.seed) #seed 고정"
   ]
  },
  {
   "cell_type": "markdown",
   "metadata": {},
   "source": [
    "# 데이터 로드"
   ]
  },
  {
   "cell_type": "code",
   "execution_count": 9,
   "metadata": {},
   "outputs": [],
   "source": [
    "# trainset.to_pickle('/home/work/CL/dataset/healthcare/healthcare_train.pickle')\n",
    "# testset.to_pickle('/home/work/CL/dataset/healthcare/healthcare_test.pickle')\n",
    "# valset.to_pickle('/home/work/CL/dataset/healthcare/healthcare_val.pickle')\n",
    "\n",
    "trainset = pd.read_pickle('/home/work/CL/dataset/healthcare/healthcare_train.pickle')\n",
    "testset = pd.read_pickle('/home/work/CL/dataset/healthcare/healthcare_test.pickle')\n",
    "valset = pd.read_pickle('/home/work/CL/dataset/healthcare/healthcare_val.pickle')"
   ]
  },
  {
   "cell_type": "code",
   "execution_count": 10,
   "metadata": {},
   "outputs": [],
   "source": [
    "for i in range(20):\n",
    "    \n",
    "    save_path = f\"/home/work/CL/dataset/healthcare/16_asc{i+1}_combined.csv\"\n",
    "    globals()['trainset{}'.format(i+1)]= pd.read_csv(save_path)"
   ]
  },
  {
   "cell_type": "code",
   "execution_count": 11,
   "metadata": {},
   "outputs": [
    {
     "data": {
      "text/html": [
       "<div>\n",
       "<style scoped>\n",
       "    .dataframe tbody tr th:only-of-type {\n",
       "        vertical-align: middle;\n",
       "    }\n",
       "\n",
       "    .dataframe tbody tr th {\n",
       "        vertical-align: top;\n",
       "    }\n",
       "\n",
       "    .dataframe thead th {\n",
       "        text-align: right;\n",
       "    }\n",
       "</style>\n",
       "<table border=\"1\" class=\"dataframe\">\n",
       "  <thead>\n",
       "    <tr style=\"text-align: right;\">\n",
       "      <th></th>\n",
       "      <th>clean_text</th>\n",
       "      <th>cos_dis</th>\n",
       "      <th>수도라벨</th>\n",
       "    </tr>\n",
       "  </thead>\n",
       "  <tbody>\n",
       "    <tr>\n",
       "      <th>0</th>\n",
       "      <td>나병환자의 피부도말 검사의 염색법과 판독법에 대하여 고찰한다</td>\n",
       "      <td>0.292617</td>\n",
       "      <td>8</td>\n",
       "    </tr>\n",
       "    <tr>\n",
       "      <th>1</th>\n",
       "      <td>기존 유모차 또는 휠체어를 계단 에스컬레이터 및 경사로에서 안전하게 사용할 수 있도...</td>\n",
       "      <td>0.312076</td>\n",
       "      <td>5</td>\n",
       "    </tr>\n",
       "    <tr>\n",
       "      <th>2</th>\n",
       "      <td>전라남도 중고등학생들의 우울 정도와 자살에 대한 실태를 파악하고 어떠한 요소가 영향...</td>\n",
       "      <td>0.293319</td>\n",
       "      <td>8</td>\n",
       "    </tr>\n",
       "    <tr>\n",
       "      <th>3</th>\n",
       "      <td>및 유전자조작생쥐를 이용한 면역관용파괴 및 항암효과분석</td>\n",
       "      <td>0.307755</td>\n",
       "      <td>8</td>\n",
       "    </tr>\n",
       "    <tr>\n",
       "      <th>4</th>\n",
       "      <td>기존의 물리치료 장비는 냉각치료 기능이 없거나 별도의 냉각치료 장비를 구비하여 사용</td>\n",
       "      <td>0.316436</td>\n",
       "      <td>9</td>\n",
       "    </tr>\n",
       "    <tr>\n",
       "      <th>...</th>\n",
       "      <td>...</td>\n",
       "      <td>...</td>\n",
       "      <td>...</td>\n",
       "    </tr>\n",
       "    <tr>\n",
       "      <th>2939</th>\n",
       "      <td>주관기관 메디아나\\n 개발\\n 진단 기능의 측정 모듈 개발\\n 실시간 진단 기능\\n...</td>\n",
       "      <td>0.795272</td>\n",
       "      <td>9</td>\n",
       "    </tr>\n",
       "    <tr>\n",
       "      <th>2940</th>\n",
       "      <td>보급형 질량분석 진단기기 시제품 제작 기술 개발 \\n 아래 사양을 만족하는 질량분석...</td>\n",
       "      <td>0.813591</td>\n",
       "      <td>9</td>\n",
       "    </tr>\n",
       "    <tr>\n",
       "      <th>2941</th>\n",
       "      <td>일회용 내시경 시스템 시제품 제작\\n 및 채널을 구비한 벤딩 경비 내시경 시제품 제...</td>\n",
       "      <td>0.804985</td>\n",
       "      <td>9</td>\n",
       "    </tr>\n",
       "    <tr>\n",
       "      <th>2942</th>\n",
       "      <td>제품의 모듈화표준화를 통한 비용 절감과 사용자의 다양한 니즈를 충족시키고 사용자 중...</td>\n",
       "      <td>0.791470</td>\n",
       "      <td>5</td>\n",
       "    </tr>\n",
       "    <tr>\n",
       "      <th>2943</th>\n",
       "      <td>다양한 감염성 병원균의 신속 정확한 진단을 위한 프로브를 개발하고 이들을 이용한 통...</td>\n",
       "      <td>0.795100</td>\n",
       "      <td>6</td>\n",
       "    </tr>\n",
       "  </tbody>\n",
       "</table>\n",
       "<p>2944 rows × 3 columns</p>\n",
       "</div>"
      ],
      "text/plain": [
       "                                             clean_text   cos_dis  수도라벨\n",
       "0                     나병환자의 피부도말 검사의 염색법과 판독법에 대하여 고찰한다  0.292617     8\n",
       "1     기존 유모차 또는 휠체어를 계단 에스컬레이터 및 경사로에서 안전하게 사용할 수 있도...  0.312076     5\n",
       "2     전라남도 중고등학생들의 우울 정도와 자살에 대한 실태를 파악하고 어떠한 요소가 영향...  0.293319     8\n",
       "3                        및 유전자조작생쥐를 이용한 면역관용파괴 및 항암효과분석  0.307755     8\n",
       "4        기존의 물리치료 장비는 냉각치료 기능이 없거나 별도의 냉각치료 장비를 구비하여 사용  0.316436     9\n",
       "...                                                 ...       ...   ...\n",
       "2939  주관기관 메디아나\\n 개발\\n 진단 기능의 측정 모듈 개발\\n 실시간 진단 기능\\n...  0.795272     9\n",
       "2940  보급형 질량분석 진단기기 시제품 제작 기술 개발 \\n 아래 사양을 만족하는 질량분석...  0.813591     9\n",
       "2941  일회용 내시경 시스템 시제품 제작\\n 및 채널을 구비한 벤딩 경비 내시경 시제품 제...  0.804985     9\n",
       "2942  제품의 모듈화표준화를 통한 비용 절감과 사용자의 다양한 니즈를 충족시키고 사용자 중...  0.791470     5\n",
       "2943  다양한 감염성 병원균의 신속 정확한 진단을 위한 프로브를 개발하고 이들을 이용한 통...  0.795100     6\n",
       "\n",
       "[2944 rows x 3 columns]"
      ]
     },
     "execution_count": 11,
     "metadata": {},
     "output_type": "execute_result"
    }
   ],
   "source": [
    "trainset1"
   ]
  },
  {
   "cell_type": "code",
   "execution_count": 12,
   "metadata": {},
   "outputs": [
    {
     "data": {
      "text/html": [
       "<div>\n",
       "<style scoped>\n",
       "    .dataframe tbody tr th:only-of-type {\n",
       "        vertical-align: middle;\n",
       "    }\n",
       "\n",
       "    .dataframe tbody tr th {\n",
       "        vertical-align: top;\n",
       "    }\n",
       "\n",
       "    .dataframe thead th {\n",
       "        text-align: right;\n",
       "    }\n",
       "</style>\n",
       "<table border=\"1\" class=\"dataframe\">\n",
       "  <thead>\n",
       "    <tr style=\"text-align: right;\">\n",
       "      <th></th>\n",
       "      <th>clean_text</th>\n",
       "      <th>cos_dis</th>\n",
       "      <th>수도라벨</th>\n",
       "    </tr>\n",
       "  </thead>\n",
       "  <tbody>\n",
       "    <tr>\n",
       "      <th>0</th>\n",
       "      <td>조직재생공학연구소는 중점연구소사업을통해손상된뼈치아신경이라는타겟조직을완벽히재생하기위한...</td>\n",
       "      <td>0.323545</td>\n",
       "      <td>7</td>\n",
       "    </tr>\n",
       "    <tr>\n",
       "      <th>1</th>\n",
       "      <td>조현병은 정신과 의사가 치료하는 질환 중에서 가장 이해하기 어려우면서도 비극적인 병...</td>\n",
       "      <td>0.317963</td>\n",
       "      <td>8</td>\n",
       "    </tr>\n",
       "    <tr>\n",
       "      <th>2</th>\n",
       "      <td>및 유전자조작생쥐를 이용한 면역관용파괴 및 항암효과분석</td>\n",
       "      <td>0.307755</td>\n",
       "      <td>8</td>\n",
       "    </tr>\n",
       "    <tr>\n",
       "      <th>3</th>\n",
       "      <td>이 신생혈관형성에 미치는 효과 및 관련 기전 규명</td>\n",
       "      <td>0.298206</td>\n",
       "      <td>6</td>\n",
       "    </tr>\n",
       "    <tr>\n",
       "      <th>4</th>\n",
       "      <td>기존 유모차 또는 휠체어를 계단 에스컬레이터 및 경사로에서 안전하게 사용할 수 있도...</td>\n",
       "      <td>0.312076</td>\n",
       "      <td>5</td>\n",
       "    </tr>\n",
       "    <tr>\n",
       "      <th>...</th>\n",
       "      <td>...</td>\n",
       "      <td>...</td>\n",
       "      <td>...</td>\n",
       "    </tr>\n",
       "    <tr>\n",
       "      <th>2939</th>\n",
       "      <td>현장진료를 위한 융합 지능형 휴대용 초음파 영상 시스템 요소 기술 개발\\n 지능형 ...</td>\n",
       "      <td>0.794468</td>\n",
       "      <td>9</td>\n",
       "    </tr>\n",
       "    <tr>\n",
       "      <th>2940</th>\n",
       "      <td>피부충진 조성물인 조직수복용 재료의 연구개발을 통한 고부가가치화 실현 클린룸 시설과...</td>\n",
       "      <td>0.788493</td>\n",
       "      <td>5</td>\n",
       "    </tr>\n",
       "    <tr>\n",
       "      <th>2941</th>\n",
       "      <td>다양한 감염성 병원균의 신속 정확한 진단을 위한 프로브를 개발하고 이들을 이용한 통...</td>\n",
       "      <td>0.795100</td>\n",
       "      <td>6</td>\n",
       "    </tr>\n",
       "    <tr>\n",
       "      <th>2942</th>\n",
       "      <td>제품의 모듈화표준화를 통한 비용 절감과 사용자의 다양한 니즈를 충족시키고 사용자 중...</td>\n",
       "      <td>0.791470</td>\n",
       "      <td>5</td>\n",
       "    </tr>\n",
       "    <tr>\n",
       "      <th>2943</th>\n",
       "      <td>본 연구에서는 무선인체영역통신 각 전송 계층별 특성과 프로토콜을 분석하고 무선인체영...</td>\n",
       "      <td>0.790297</td>\n",
       "      <td>9</td>\n",
       "    </tr>\n",
       "  </tbody>\n",
       "</table>\n",
       "<p>2944 rows × 3 columns</p>\n",
       "</div>"
      ],
      "text/plain": [
       "                                             clean_text   cos_dis  수도라벨\n",
       "0     조직재생공학연구소는 중점연구소사업을통해손상된뼈치아신경이라는타겟조직을완벽히재생하기위한...  0.323545     7\n",
       "1     조현병은 정신과 의사가 치료하는 질환 중에서 가장 이해하기 어려우면서도 비극적인 병...  0.317963     8\n",
       "2                        및 유전자조작생쥐를 이용한 면역관용파괴 및 항암효과분석  0.307755     8\n",
       "3                           이 신생혈관형성에 미치는 효과 및 관련 기전 규명  0.298206     6\n",
       "4     기존 유모차 또는 휠체어를 계단 에스컬레이터 및 경사로에서 안전하게 사용할 수 있도...  0.312076     5\n",
       "...                                                 ...       ...   ...\n",
       "2939  현장진료를 위한 융합 지능형 휴대용 초음파 영상 시스템 요소 기술 개발\\n 지능형 ...  0.794468     9\n",
       "2940  피부충진 조성물인 조직수복용 재료의 연구개발을 통한 고부가가치화 실현 클린룸 시설과...  0.788493     5\n",
       "2941  다양한 감염성 병원균의 신속 정확한 진단을 위한 프로브를 개발하고 이들을 이용한 통...  0.795100     6\n",
       "2942  제품의 모듈화표준화를 통한 비용 절감과 사용자의 다양한 니즈를 충족시키고 사용자 중...  0.791470     5\n",
       "2943  본 연구에서는 무선인체영역통신 각 전송 계층별 특성과 프로토콜을 분석하고 무선인체영...  0.790297     9\n",
       "\n",
       "[2944 rows x 3 columns]"
      ]
     },
     "execution_count": 12,
     "metadata": {},
     "output_type": "execute_result"
    }
   ],
   "source": [
    "trainset2"
   ]
  },
  {
   "cell_type": "markdown",
   "metadata": {},
   "source": [
    "# 토크나이저와 모델 정의"
   ]
  },
  {
   "cell_type": "code",
   "execution_count": 13,
   "metadata": {},
   "outputs": [
    {
     "data": {
      "text/plain": [
       "<All keys matched successfully>"
      ]
     },
     "execution_count": 13,
     "metadata": {},
     "output_type": "execute_result"
    }
   ],
   "source": [
    "from transformers import AutoModelForSequenceClassification, AutoTokenizer, get_linear_schedule_with_warmup, set_seed\n",
    "\n",
    "model = AutoModelForSequenceClassification.from_pretrained(cfg.model_path, num_labels=cfg.num_labels, output_hidden_states=False).cuda()\n",
    "tokenizer = AutoTokenizer.from_pretrained(cfg.model_path)\n",
    "\n",
    "model.resize_token_embeddings(len(tokenizer))\n",
    "model\n",
    "\n",
    "model_state_dict = torch.load(\"/home/work/CL/final_ictmodel/ict5epoch.pt\", map_location=device)\n",
    "model.load_state_dict(model_state_dict)\n",
    "# model = torch.nn.DataParallel(model)\n",
    "# model = get_peft_model(model, peft_config).to(device)\n",
    "\n",
    "# model.print_trainable_parameters()\n",
    "# model\n"
   ]
  },
  {
   "cell_type": "markdown",
   "metadata": {},
   "source": [
    "# 커스텀 데이터셋"
   ]
  },
  {
   "cell_type": "code",
   "execution_count": 14,
   "metadata": {},
   "outputs": [],
   "source": [
    "class CustomDataset(Dataset):\n",
    "    \n",
    "    def __init__(self, data, labels, tokenizer, source_len) :\n",
    "    # 내가 필요한 것들을 가져와서 선처리\n",
    "        self.data = data.copy()\n",
    "        self.labels = labels.copy()\n",
    "        self.tokenizer = tokenizer\n",
    "        self.source_len = source_len\n",
    "    \n",
    "    def __getitem__(self, index) :\n",
    "    # 데이터 셋에서 한 개의 데이터를 가져오는 함수 정의\n",
    "    \n",
    "        text = self.data[index]\n",
    "        inputs = self.tokenizer(text,max_length=self.source_len,padding='max_length',truncation=True, return_tensors='pt')\n",
    "        # inputs = self.tokenizer.batch_encode_plus([text], max_length= self.source_len, truncation=True, padding='max_length',return_tensors='pt')\n",
    "        label = self.labels[index]\n",
    "        \n",
    "        input_ids = inputs['input_ids'].squeeze()\n",
    "        attention_mask = inputs['attention_mask'].squeeze()\n",
    "        token_type_ids = inputs['token_type_ids'].squeeze()\n",
    "        \n",
    "        \n",
    "        \n",
    "    \n",
    "        # input_ids = inputs['input_ids'][0]\n",
    "        # attention_mask = inputs['attention_mask'][0]\n",
    "        # token_type_ids = inputs['token_type_ids'][0]\n",
    "        \n",
    "        # return input_ids, attention_mask, token_type_ids, label\n",
    "        \n",
    "        inputs_dict = {\n",
    "            'input_ids' : input_ids.to(device, dtype = torch.long),\n",
    "            'attention_mask' : attention_mask.to(device, dtype = torch.long),\n",
    "            'token_type_ids': token_type_ids.to(device, dtype = torch.long),\n",
    "        }\n",
    "        label = torch.tensor(label).to(device, dtype = torch.long)\n",
    "        \n",
    "        \n",
    "        return inputs_dict, label\n",
    "    \n",
    "    def __len__(self) :\n",
    "    # 데이터 셋의 길이\n",
    "        return len(self.data)    "
   ]
  },
  {
   "cell_type": "code",
   "execution_count": 15,
   "metadata": {},
   "outputs": [],
   "source": [
    "import pandas as pd\n",
    "\n",
    "dataframes = []  # 데이터프레임 리스트 초기화\n",
    "\n",
    "for i in range(1, 21):\n",
    "    trainset = globals()[f\"trainset{i}\"]  # 동적으로 변수명을 활용하여 데이터프레임 가져오기\n",
    "    dataframes.append(trainset)  # 데이터프레임 리스트에 추가"
   ]
  },
  {
   "cell_type": "code",
   "execution_count": 16,
   "metadata": {},
   "outputs": [
    {
     "data": {
      "text/plain": [
       "20"
      ]
     },
     "execution_count": 16,
     "metadata": {},
     "output_type": "execute_result"
    }
   ],
   "source": [
    "# 데이터프레임을 데이터셋으로 변환\n",
    "datasets = []\n",
    "for trainset in dataframes:\n",
    "    dataset = CustomDataset(data=list([str(i) for i in trainset['clean_text'].values.copy()].copy()),\n",
    "                            labels=list(trainset['수도라벨'].copy()),\n",
    "                            tokenizer=tokenizer,\n",
    "                            source_len=cfg.source_len)\n",
    "    datasets.append(dataset)\n",
    "\n",
    "# 데이터로더 생성\n",
    "batch_size = 16\n",
    "data_loaders = []\n",
    "for dataset in datasets:\n",
    "    data_loader = DataLoader(dataset, batch_size=cfg.batch_size, shuffle=False,num_workers=0)\n",
    "    data_loaders.append(data_loader)\n",
    "len(data_loaders)\n",
    "# # 데이터로더 사용 예시\n",
    "# for data_loader in data_loaders:\n",
    "#     for batch in data_loader:\n",
    "#         inputs_dict, label = batch\n",
    "#         print(inputs_dict)\n",
    "#         print(label)"
   ]
  },
  {
   "cell_type": "code",
   "execution_count": 17,
   "metadata": {},
   "outputs": [],
   "source": [
    "# train_data = CustomDataset(data=list([str(i) for i in trainset['clean_text'].values.copy()].copy()),\n",
    "#                            labels= list(trainset['수도라벨'].copy()),\n",
    "#                            tokenizer= tokenizer,\n",
    "#                            source_len= cfg.source_len)\n",
    "\n",
    "val_data = CustomDataset(data=list([str(i) for i in valset['clean_text'].values.copy()].copy()),\n",
    "                           labels= list(valset['수도라벨'].copy()),\n",
    "                           tokenizer= tokenizer,\n",
    "                           source_len= cfg.source_len)\n",
    "\n",
    "\n",
    "test_data = CustomDataset(data=list([str(i) for i in testset['clean_text'].values.copy()].copy()),\n",
    "                           labels= list(testset['수도라벨'].copy()),\n",
    "                           tokenizer= tokenizer,\n",
    "                           source_len= cfg.source_len)\n",
    "\n",
    "# train_loader = DataLoader(train_data, batch_size=cfg.batch_size, shuffle=False,num_workers=0)\n",
    "val_loader = DataLoader(val_data, batch_size=cfg.batch_size, shuffle=False,num_workers=0)\n",
    "test_loader = DataLoader(test_data, batch_size=cfg.batch_size, shuffle=False,num_workers=0)\n"
   ]
  },
  {
   "cell_type": "markdown",
   "metadata": {},
   "source": [
    "# Train, val 정의"
   ]
  },
  {
   "cell_type": "code",
   "execution_count": 18,
   "metadata": {},
   "outputs": [],
   "source": [
    "def train(epoch, model, optimizer, loader):\n",
    "    \n",
    "    model.train()\n",
    "    total_loss, total_accuracy = 0,0\n",
    "    nb_train_steps = 0\n",
    "    for _,(inputs, labels) in enumerate(loader, 0): \n",
    "        #enumerate는 인덱스까지 반환하는 함수(데이터, 스타트번호=0)\n",
    "        outputs = model(**inputs, labels = labels)\n",
    "        loss = outputs.loss\n",
    "        \n",
    "\n",
    "        pred = [logit.argmax().cpu().detach().item() for logit in outputs.logits]\n",
    "        true = [label for label in labels.cpu().numpy()]\n",
    "        acc = accuracy_score(true,pred)\n",
    "        \n",
    "\n",
    "        if _%32 ==0 : #만약 인덱스가 10이 되면\n",
    "            print(f'Epoch : {epoch+1}, train_{_}_step_loss : {loss.item()}')\n",
    "            psuedo_pred = [logit.argmax().item() for logit in outputs.logits]\n",
    "            psuedo_acc = np.sum(np.array(labels.to('cpu'))==np.array(psuedo_pred))/len(labels)\n",
    "            print(f'{epoch+1}_{_}_step_정확도 :{psuedo_acc}')\n",
    "        \n",
    "        loss.backward()\n",
    "        optimizer.step()\n",
    "        optimizer.zero_grad()\n",
    "        \n",
    "        total_loss += loss.item()\n",
    "        total_accuracy += acc\n",
    "        nb_train_steps += 1\n",
    "    \n",
    "\n",
    "    \n",
    "    avg_loss = total_loss/len(loader)\n",
    "    avg_acc = total_accuracy/nb_train_steps\n",
    "    t_test_avg_acc = total_accuracy/len(loader)\n",
    "    print(f'Epoch:{epoch+1}, train_{_}_stepLoss:{avg_loss}')\n",
    "    print(f'Epoch:{epoch+1}, train_{_}_stepacc:{avg_acc}')\n",
    "    print(f'Epoch:{epoch+1}, train_{_}_stepacc:{t_test_avg_acc}')\n",
    "    loss_dic['train_loss'].append(avg_loss)\n",
    "    loss_dic['train_acc'].append(avg_acc)"
   ]
  },
  {
   "cell_type": "code",
   "execution_count": 19,
   "metadata": {},
   "outputs": [],
   "source": [
    "def validate(epoch, model, loader):\n",
    "   \n",
    "    model.eval()\n",
    "    eval_loss, eval_accuracy = 0,0\n",
    "    nb_eval_steps = 0\n",
    "    with torch.no_grad():\n",
    "        for _,(inputs, labels) in enumerate(loader, 0): \n",
    "        #enumerate는 인덱스까지 반환하는 함수(데이터, 스타트번호=0)\n",
    "            outputs = model(**inputs, labels = labels)\n",
    "            loss = outputs.loss\n",
    "            eval_loss += loss.item()\n",
    "\n",
    "            pred = [logit.argmax().cpu().detach().item() for logit in outputs.logits]\n",
    "            true = [label for label in labels.cpu().numpy()]\n",
    "            acc = accuracy_score(true,pred)\n",
    "            eval_accuracy += acc\n",
    "            nb_eval_steps +=1\n",
    "            if _%32 ==0 : #만약 인덱스가 10이 되면\n",
    "                print(f'Epoch : {epoch+1}, val_{_}_step_loss : {loss.item()}')\n",
    "                predicted_class_id = [logit.argmax().item() for logit in outputs.logits]\n",
    "                psuedo_acc = np.sum(np.array(labels.to('cpu'))==np.array(predicted_class_id))/len(labels)\n",
    "                print(f'{epoch+1}_{_}_step_정확도 :{psuedo_acc}')\n",
    "                \n",
    "                \n",
    "    e_avg_loss = eval_loss/len(loader)\n",
    "    e_avg_acc = eval_accuracy/nb_eval_steps\n",
    "    e_test_avg_acc = eval_accuracy/len(loader)\n",
    "    print(f'Epoch:{epoch+1}, val_{_}_stepLoss:{e_avg_loss}')\n",
    "    print(f'Epoch:{epoch+1}, val_{_}_stepacc:{e_avg_acc}')\n",
    "    print(f'Epoch:{epoch+1}, val_{_}_stepacc:{e_test_avg_acc}')\n",
    "\n",
    "    loss_dic['validation_loss'].append(e_avg_loss)\n",
    "    loss_dic['val_acc'].append(e_avg_acc)                \n",
    "    loss_dic['epoch'].append(epoch+1)\n",
    "\n",
    "    early_stopping(e_avg_loss, model)\n",
    "    return e_avg_loss, e_test_avg_acc\n",
    "    \n",
    "\n",
    "\n"
   ]
  },
  {
   "cell_type": "code",
   "execution_count": 20,
   "metadata": {},
   "outputs": [],
   "source": [
    "\n",
    "def infer(model, loader):\n",
    "    \n",
    "    model.eval()\n",
    "    test_loss, test_accuracy = 0,0\n",
    "    result_dic = {'prediction':[], 'label':[]}\n",
    "    with torch.no_grad():\n",
    "        for _,(inputs, labels) in tqdm(enumerate(loader, 0)): \n",
    "        #enumerate는 인덱스까지 반환하는 함수(데이터, 스타트번호=0)\n",
    "            outputs = model(**inputs, labels = labels)\n",
    "            loss = outputs.loss\n",
    "            test_loss += loss.item()\n",
    "\n",
    "            pred = [logit.argmax().cpu().detach().item() for logit in outputs.logits]\n",
    "            true = [label for label in labels.cpu().numpy()]\n",
    "            result_dic['prediction'].append(pred)\n",
    "            result_dic['label'].append(true)                \n",
    "\n",
    "            acc = accuracy_score(true,pred)\n",
    "            test_accuracy += acc\n",
    "        \n",
    "            \n",
    "                \n",
    "    t_avg_loss = test_loss/len(loader)\n",
    "    t_avg_acc = test_accuracy/len(loader)\n",
    "    print(f'test_{_}_stepLoss:{t_avg_loss}')\n",
    "    print(f'test_{_}_stepacc:{t_avg_acc}')\n",
    "\n",
    "    \n",
    "    return t_avg_loss, t_avg_acc\n",
    "    \n",
    "        "
   ]
  },
  {
   "cell_type": "markdown",
   "metadata": {},
   "source": [
    "# RUN"
   ]
  },
  {
   "cell_type": "code",
   "execution_count": 21,
   "metadata": {},
   "outputs": [],
   "source": [
    "optimizer = torch.optim.AdamW(params = model.parameters(), lr=0.000003)\n",
    "lr_scheduler = get_linear_schedule_with_warmup(\n",
    "    optimizer=optimizer,\n",
    "    num_warmup_steps=0.* (len(data_loader) * cfg.epochs),\n",
    "    num_training_steps=(len(data_loader) * cfg.epochs),\n",
    ")"
   ]
  },
  {
   "cell_type": "code",
   "execution_count": 22,
   "metadata": {
    "scrolled": false
   },
   "outputs": [
    {
     "name": "stderr",
     "output_type": "stream",
     "text": [
      "  0%|          | 0/10 [00:00<?, ?it/s]"
     ]
    },
    {
     "name": "stdout",
     "output_type": "stream",
     "text": [
      "Epoch : 1, train_0_step_loss : 5.556787014007568\n",
      "1_0_step_정확도 :0.0\n",
      "Epoch : 1, train_32_step_loss : 1.8583732843399048\n",
      "1_32_step_정확도 :0.25\n",
      "Epoch : 1, train_64_step_loss : 1.421168565750122\n",
      "1_64_step_정확도 :0.5\n",
      "Epoch : 1, train_96_step_loss : 1.3149707317352295\n",
      "1_96_step_정확도 :0.4375\n",
      "Epoch : 1, train_128_step_loss : 1.0559780597686768\n",
      "1_128_step_정확도 :0.75\n",
      "Epoch : 1, train_160_step_loss : 1.1158467531204224\n",
      "1_160_step_정확도 :0.4375\n",
      "Epoch:1, train_183_stepLoss:1.5322764546650907\n",
      "Epoch:1, train_183_stepacc:0.45516304347826086\n",
      "Epoch:1, train_183_stepacc:0.45516304347826086\n",
      "Epoch : 1, val_0_step_loss : 0.7662799954414368\n",
      "1_0_step_정확도 :0.6875\n",
      "Epoch : 1, val_32_step_loss : 1.0272501707077026\n",
      "1_32_step_정확도 :0.5625\n",
      "Epoch:1, val_61_stepLoss:0.9655575848394825\n",
      "Epoch:1, val_61_stepacc:0.6442972350230415\n",
      "Epoch:1, val_61_stepacc:0.6442972350230415\n",
      "Validation loss decreased (inf --> 0.965558).  Saving model ...\n"
     ]
    },
    {
     "name": "stderr",
     "output_type": "stream",
     "text": [
      " 10%|█         | 1/10 [01:28<13:19, 88.79s/it]"
     ]
    },
    {
     "name": "stdout",
     "output_type": "stream",
     "text": [
      "Epoch : 2, train_0_step_loss : 1.2596564292907715\n",
      "2_0_step_정확도 :0.5\n",
      "Epoch : 2, train_32_step_loss : 1.0363099575042725\n",
      "2_32_step_정확도 :0.6875\n",
      "Epoch : 2, train_64_step_loss : 0.673973560333252\n",
      "2_64_step_정확도 :0.8125\n",
      "Epoch : 2, train_96_step_loss : 0.9357357025146484\n",
      "2_96_step_정확도 :0.6875\n",
      "Epoch : 2, train_128_step_loss : 0.5326430201530457\n",
      "2_128_step_정확도 :0.75\n",
      "Epoch : 2, train_160_step_loss : 0.7863945960998535\n",
      "2_160_step_정확도 :0.5625\n",
      "Epoch:2, train_183_stepLoss:0.85845330560013\n",
      "Epoch:2, train_183_stepacc:0.6881793478260869\n",
      "Epoch:2, train_183_stepacc:0.6881793478260869\n",
      "Epoch : 2, val_0_step_loss : 0.6156771183013916\n",
      "2_0_step_정확도 :0.75\n",
      "Epoch : 2, val_32_step_loss : 1.0487713813781738\n",
      "2_32_step_정확도 :0.5\n",
      "Epoch:2, val_61_stepLoss:0.8723156755009005\n",
      "Epoch:2, val_61_stepacc:0.6826036866359446\n",
      "Epoch:2, val_61_stepacc:0.6826036866359446\n",
      "Validation loss decreased (0.965558 --> 0.872316).  Saving model ...\n"
     ]
    },
    {
     "name": "stderr",
     "output_type": "stream",
     "text": [
      " 20%|██        | 2/10 [02:59<11:57, 89.66s/it]"
     ]
    },
    {
     "name": "stdout",
     "output_type": "stream",
     "text": [
      "Epoch : 3, train_0_step_loss : 1.0668281316757202\n",
      "3_0_step_정확도 :0.6875\n",
      "Epoch : 3, train_32_step_loss : 0.9112239480018616\n",
      "3_32_step_정확도 :0.75\n",
      "Epoch : 3, train_64_step_loss : 0.4651327133178711\n",
      "3_64_step_정확도 :0.9375\n",
      "Epoch : 3, train_96_step_loss : 0.7756816744804382\n",
      "3_96_step_정확도 :0.75\n",
      "Epoch : 3, train_128_step_loss : 0.3241472840309143\n",
      "3_128_step_정확도 :0.875\n",
      "Epoch : 3, train_160_step_loss : 0.6564969420433044\n",
      "3_160_step_정확도 :0.75\n",
      "Epoch:3, train_183_stepLoss:0.6975592765957117\n",
      "Epoch:3, train_183_stepacc:0.7588315217391305\n",
      "Epoch:3, train_183_stepacc:0.7588315217391305\n",
      "Epoch : 3, val_0_step_loss : 0.5162892937660217\n",
      "3_0_step_정확도 :0.75\n",
      "Epoch : 3, val_32_step_loss : 1.093903660774231\n",
      "3_32_step_정확도 :0.625\n",
      "Epoch:3, val_61_stepLoss:0.8640663972304713\n",
      "Epoch:3, val_61_stepacc:0.6873559907834101\n",
      "Epoch:3, val_61_stepacc:0.6873559907834101\n",
      "Validation loss decreased (0.872316 --> 0.864066).  Saving model ...\n"
     ]
    },
    {
     "name": "stderr",
     "output_type": "stream",
     "text": [
      " 30%|███       | 3/10 [04:30<10:32, 90.41s/it]"
     ]
    },
    {
     "name": "stdout",
     "output_type": "stream",
     "text": [
      "Epoch : 4, train_0_step_loss : 0.6982241868972778\n",
      "4_0_step_정확도 :0.6875\n",
      "Epoch : 4, train_32_step_loss : 0.7206987142562866\n",
      "4_32_step_정확도 :0.75\n",
      "Epoch : 4, train_64_step_loss : 0.32015037536621094\n",
      "4_64_step_정확도 :0.9375\n",
      "Epoch : 4, train_96_step_loss : 0.6282162666320801\n",
      "4_96_step_정확도 :0.8125\n",
      "Epoch : 4, train_128_step_loss : 0.2930987775325775\n",
      "4_128_step_정확도 :0.875\n",
      "Epoch : 4, train_160_step_loss : 0.43658772110939026\n",
      "4_160_step_정확도 :0.875\n",
      "Epoch:4, train_183_stepLoss:0.5530849545384231\n",
      "Epoch:4, train_183_stepacc:0.8199728260869565\n",
      "Epoch:4, train_183_stepacc:0.8199728260869565\n",
      "Epoch : 4, val_0_step_loss : 0.4849478006362915\n",
      "4_0_step_정확도 :0.875\n",
      "Epoch : 4, val_32_step_loss : 1.2371364831924438\n",
      "4_32_step_정확도 :0.5625\n",
      "Epoch:4, val_61_stepLoss:0.895191214257671\n",
      "Epoch:4, val_61_stepacc:0.6923963133640554\n",
      "Epoch:4, val_61_stepacc:0.6923963133640554\n",
      "EarlyStopping counter: 1 out of 3\n"
     ]
    },
    {
     "name": "stderr",
     "output_type": "stream",
     "text": [
      " 40%|████      | 4/10 [05:57<08:54, 89.10s/it]"
     ]
    },
    {
     "name": "stdout",
     "output_type": "stream",
     "text": [
      "Epoch : 5, train_0_step_loss : 0.6985288858413696\n",
      "5_0_step_정확도 :0.75\n",
      "Epoch : 5, train_32_step_loss : 0.5705174803733826\n",
      "5_32_step_정확도 :0.875\n",
      "Epoch : 5, train_64_step_loss : 0.26113924384117126\n",
      "5_64_step_정확도 :0.875\n",
      "Epoch : 5, train_96_step_loss : 0.4208793342113495\n",
      "5_96_step_정확도 :0.8125\n",
      "Epoch : 5, train_128_step_loss : 0.21428567171096802\n",
      "5_128_step_정확도 :0.9375\n",
      "Epoch : 5, train_160_step_loss : 0.21454815566539764\n",
      "5_160_step_정확도 :1.0\n",
      "Epoch:5, train_183_stepLoss:0.4326630369760096\n",
      "Epoch:5, train_183_stepacc:0.8678668478260869\n",
      "Epoch:5, train_183_stepacc:0.8678668478260869\n",
      "Epoch : 5, val_0_step_loss : 0.4740104675292969\n",
      "5_0_step_정확도 :0.875\n",
      "Epoch : 5, val_32_step_loss : 1.4739336967468262\n",
      "5_32_step_정확도 :0.5625\n",
      "Epoch:5, val_61_stepLoss:0.9393327849045876\n",
      "Epoch:5, val_61_stepacc:0.7098214285714285\n",
      "Epoch:5, val_61_stepacc:0.7098214285714285\n",
      "EarlyStopping counter: 2 out of 3\n"
     ]
    },
    {
     "name": "stderr",
     "output_type": "stream",
     "text": [
      " 50%|█████     | 5/10 [07:24<07:22, 88.48s/it]"
     ]
    },
    {
     "name": "stdout",
     "output_type": "stream",
     "text": [
      "Epoch : 6, train_0_step_loss : 0.7126449346542358\n",
      "6_0_step_정확도 :0.8125\n",
      "Epoch : 6, train_32_step_loss : 0.4979018568992615\n",
      "6_32_step_정확도 :0.9375\n",
      "Epoch : 6, train_64_step_loss : 0.28507715463638306\n",
      "6_64_step_정확도 :0.875\n",
      "Epoch : 6, train_96_step_loss : 0.48347312211990356\n",
      "6_96_step_정확도 :0.8125\n",
      "Epoch : 6, train_128_step_loss : 0.08903095871210098\n",
      "6_128_step_정확도 :1.0\n",
      "Epoch : 6, train_160_step_loss : 0.08617179840803146\n",
      "6_160_step_정확도 :1.0\n",
      "Epoch:6, train_183_stepLoss:0.3427009209180656\n",
      "Epoch:6, train_183_stepacc:0.9001358695652174\n",
      "Epoch:6, train_183_stepacc:0.9001358695652174\n",
      "Epoch : 6, val_0_step_loss : 0.5820875763893127\n",
      "6_0_step_정확도 :0.875\n",
      "Epoch : 6, val_32_step_loss : 1.5033987760543823\n",
      "6_32_step_정확도 :0.5\n",
      "Epoch:6, val_61_stepLoss:1.0175544006689903\n",
      "Epoch:6, val_61_stepacc:0.7014688940092166\n",
      "Epoch:6, val_61_stepacc:0.7014688940092166\n",
      "EarlyStopping counter: 3 out of 3\n"
     ]
    },
    {
     "name": "stderr",
     "output_type": "stream",
     "text": [
      " 60%|██████    | 6/10 [08:51<05:51, 87.91s/it]"
     ]
    },
    {
     "name": "stdout",
     "output_type": "stream",
     "text": [
      "Epoch : 7, train_0_step_loss : 0.4049069285392761\n",
      "7_0_step_정확도 :0.8125\n",
      "Epoch : 7, train_32_step_loss : 0.45284998416900635\n",
      "7_32_step_정확도 :0.9375\n",
      "Epoch : 7, train_64_step_loss : 0.26050329208374023\n",
      "7_64_step_정확도 :0.9375\n",
      "Epoch : 7, train_96_step_loss : 0.3357933759689331\n",
      "7_96_step_정확도 :0.9375\n",
      "Epoch : 7, train_128_step_loss : 0.06442555040121078\n",
      "7_128_step_정확도 :1.0\n",
      "Epoch : 7, train_160_step_loss : 0.21870560944080353\n",
      "7_160_step_정확도 :0.875\n",
      "Epoch:7, train_183_stepLoss:0.2676951103216118\n",
      "Epoch:7, train_183_stepacc:0.9249320652173914\n",
      "Epoch:7, train_183_stepacc:0.9249320652173914\n",
      "Epoch : 7, val_0_step_loss : 0.6701026558876038\n",
      "7_0_step_정확도 :0.8125\n",
      "Epoch : 7, val_32_step_loss : 1.4431874752044678\n",
      "7_32_step_정확도 :0.5625\n",
      "Epoch:7, val_61_stepLoss:1.0391775561917214\n",
      "Epoch:7, val_61_stepacc:0.723934331797235\n",
      "Epoch:7, val_61_stepacc:0.723934331797235\n",
      "EarlyStopping counter: 4 out of 3\n"
     ]
    },
    {
     "name": "stderr",
     "output_type": "stream",
     "text": [
      " 70%|███████   | 7/10 [10:18<04:23, 87.69s/it]"
     ]
    },
    {
     "name": "stdout",
     "output_type": "stream",
     "text": [
      "Epoch : 8, train_0_step_loss : 0.23114661872386932\n",
      "8_0_step_정확도 :0.875\n",
      "Epoch : 8, train_32_step_loss : 0.3098161816596985\n",
      "8_32_step_정확도 :0.9375\n",
      "Epoch : 8, train_64_step_loss : 0.11178678274154663\n",
      "8_64_step_정확도 :1.0\n",
      "Epoch : 8, train_96_step_loss : 0.41201886534690857\n",
      "8_96_step_정확도 :0.875\n",
      "Epoch : 8, train_128_step_loss : 0.05184207484126091\n",
      "8_128_step_정확도 :1.0\n",
      "Epoch : 8, train_160_step_loss : 0.0900537297129631\n",
      "8_160_step_정확도 :1.0\n",
      "Epoch:8, train_183_stepLoss:0.21584208049487486\n",
      "Epoch:8, train_183_stepacc:0.9436141304347826\n",
      "Epoch:8, train_183_stepacc:0.9436141304347826\n",
      "Epoch : 8, val_0_step_loss : 0.8522267937660217\n",
      "8_0_step_정확도 :0.8125\n",
      "Epoch : 8, val_32_step_loss : 1.5938746929168701\n",
      "8_32_step_정확도 :0.5\n",
      "Epoch:8, val_61_stepLoss:1.093092015794208\n",
      "Epoch:8, val_61_stepacc:0.7078052995391705\n",
      "Epoch:8, val_61_stepacc:0.7078052995391705\n",
      "EarlyStopping counter: 5 out of 3\n"
     ]
    },
    {
     "name": "stderr",
     "output_type": "stream",
     "text": [
      " 80%|████████  | 8/10 [11:46<02:55, 87.63s/it]"
     ]
    },
    {
     "name": "stdout",
     "output_type": "stream",
     "text": [
      "Epoch : 9, train_0_step_loss : 0.4510708749294281\n",
      "9_0_step_정확도 :0.875\n",
      "Epoch : 9, train_32_step_loss : 0.09065167605876923\n",
      "9_32_step_정확도 :1.0\n",
      "Epoch : 9, train_64_step_loss : 0.1721208691596985\n",
      "9_64_step_정확도 :0.875\n",
      "Epoch : 9, train_96_step_loss : 0.4251973032951355\n",
      "9_96_step_정확도 :0.8125\n",
      "Epoch : 9, train_128_step_loss : 0.04004860669374466\n",
      "9_128_step_정확도 :1.0\n",
      "Epoch : 9, train_160_step_loss : 0.04038216173648834\n",
      "9_160_step_정확도 :1.0\n",
      "Epoch:9, train_183_stepLoss:0.16040533260219608\n",
      "Epoch:9, train_183_stepacc:0.9592391304347826\n",
      "Epoch:9, train_183_stepacc:0.9592391304347826\n",
      "Epoch : 9, val_0_step_loss : 0.7022708654403687\n",
      "9_0_step_정확도 :0.875\n",
      "Epoch : 9, val_32_step_loss : 1.720293402671814\n",
      "9_32_step_정확도 :0.625\n",
      "Epoch:9, val_61_stepLoss:1.1191486865282059\n",
      "Epoch:9, val_61_stepacc:0.7186059907834101\n",
      "Epoch:9, val_61_stepacc:0.7186059907834101\n",
      "EarlyStopping counter: 6 out of 3\n"
     ]
    },
    {
     "name": "stderr",
     "output_type": "stream",
     "text": [
      " 90%|█████████ | 9/10 [13:13<01:27, 87.49s/it]"
     ]
    },
    {
     "name": "stdout",
     "output_type": "stream",
     "text": [
      "Epoch : 10, train_0_step_loss : 0.10674793273210526\n",
      "10_0_step_정확도 :1.0\n",
      "Epoch : 10, train_32_step_loss : 0.08598123490810394\n",
      "10_32_step_정확도 :1.0\n",
      "Epoch : 10, train_64_step_loss : 0.03538649529218674\n",
      "10_64_step_정확도 :1.0\n",
      "Epoch : 10, train_96_step_loss : 0.2312118262052536\n",
      "10_96_step_정확도 :0.9375\n",
      "Epoch : 10, train_128_step_loss : 0.051749370992183685\n",
      "10_128_step_정확도 :1.0\n",
      "Epoch : 10, train_160_step_loss : 0.057033341377973557\n",
      "10_160_step_정확도 :1.0\n",
      "Epoch:10, train_183_stepLoss:0.1394462426415766\n",
      "Epoch:10, train_183_stepacc:0.9619565217391305\n",
      "Epoch:10, train_183_stepacc:0.9619565217391305\n",
      "Epoch : 10, val_0_step_loss : 0.6960678696632385\n",
      "10_0_step_정확도 :0.875\n",
      "Epoch : 10, val_32_step_loss : 1.6472867727279663\n",
      "10_32_step_정확도 :0.5625\n",
      "Epoch:10, val_61_stepLoss:1.1205257052375424\n",
      "Epoch:10, val_61_stepacc:0.7377592165898618\n",
      "Epoch:10, val_61_stepacc:0.7377592165898618\n",
      "EarlyStopping counter: 7 out of 3\n"
     ]
    },
    {
     "name": "stderr",
     "output_type": "stream",
     "text": [
      "100%|██████████| 10/10 [14:40<00:00, 88.05s/it]\n"
     ]
    }
   ],
   "source": [
    "loss_dic = {'epoch':[],'train_loss':[], 'validation_loss':[],'train_acc':[],'val_acc':[]}\n",
    "early_stopping = EarlyStopping(patience = 3, verbose = True)\n",
    "\n",
    "\n",
    "for epoch in tqdm(range(0,cfg.epochs)):\n",
    "    train(epoch, model, optimizer, data_loaders[epoch])\n",
    "    lr_scheduler.step()\n",
    "\n",
    "    validate(epoch, model, val_loader)\n",
    "    \n",
    "    # if early_stopping.early_stop:\n",
    "    #     break\n",
    "    torch.save(model, f'/home/work/CL/final_healthmodel/asc_{epoch+1}epoch.pt')\n",
    "\n",
    "    \n",
    "    \n",
    "\n",
    "df1 = pd.DataFrame(loss_dic)\n",
    "df1.to_excel(f'/home/work/CL/final_healthmodel/asc.xlsx', index=False)\n",
    "    "
   ]
  },
  {
   "cell_type": "code",
   "execution_count": 23,
   "metadata": {},
   "outputs": [
    {
     "data": {
      "text/html": [
       "<div>\n",
       "<style scoped>\n",
       "    .dataframe tbody tr th:only-of-type {\n",
       "        vertical-align: middle;\n",
       "    }\n",
       "\n",
       "    .dataframe tbody tr th {\n",
       "        vertical-align: top;\n",
       "    }\n",
       "\n",
       "    .dataframe thead th {\n",
       "        text-align: right;\n",
       "    }\n",
       "</style>\n",
       "<table border=\"1\" class=\"dataframe\">\n",
       "  <thead>\n",
       "    <tr style=\"text-align: right;\">\n",
       "      <th></th>\n",
       "      <th>epoch</th>\n",
       "      <th>train_loss</th>\n",
       "      <th>validation_loss</th>\n",
       "      <th>train_acc</th>\n",
       "      <th>val_acc</th>\n",
       "    </tr>\n",
       "  </thead>\n",
       "  <tbody>\n",
       "    <tr>\n",
       "      <th>0</th>\n",
       "      <td>1</td>\n",
       "      <td>1.532276</td>\n",
       "      <td>0.965558</td>\n",
       "      <td>0.455163</td>\n",
       "      <td>0.644297</td>\n",
       "    </tr>\n",
       "    <tr>\n",
       "      <th>1</th>\n",
       "      <td>2</td>\n",
       "      <td>0.858453</td>\n",
       "      <td>0.872316</td>\n",
       "      <td>0.688179</td>\n",
       "      <td>0.682604</td>\n",
       "    </tr>\n",
       "    <tr>\n",
       "      <th>2</th>\n",
       "      <td>3</td>\n",
       "      <td>0.697559</td>\n",
       "      <td>0.864066</td>\n",
       "      <td>0.758832</td>\n",
       "      <td>0.687356</td>\n",
       "    </tr>\n",
       "    <tr>\n",
       "      <th>3</th>\n",
       "      <td>4</td>\n",
       "      <td>0.553085</td>\n",
       "      <td>0.895191</td>\n",
       "      <td>0.819973</td>\n",
       "      <td>0.692396</td>\n",
       "    </tr>\n",
       "    <tr>\n",
       "      <th>4</th>\n",
       "      <td>5</td>\n",
       "      <td>0.432663</td>\n",
       "      <td>0.939333</td>\n",
       "      <td>0.867867</td>\n",
       "      <td>0.709821</td>\n",
       "    </tr>\n",
       "    <tr>\n",
       "      <th>5</th>\n",
       "      <td>6</td>\n",
       "      <td>0.342701</td>\n",
       "      <td>1.017554</td>\n",
       "      <td>0.900136</td>\n",
       "      <td>0.701469</td>\n",
       "    </tr>\n",
       "    <tr>\n",
       "      <th>6</th>\n",
       "      <td>7</td>\n",
       "      <td>0.267695</td>\n",
       "      <td>1.039178</td>\n",
       "      <td>0.924932</td>\n",
       "      <td>0.723934</td>\n",
       "    </tr>\n",
       "    <tr>\n",
       "      <th>7</th>\n",
       "      <td>8</td>\n",
       "      <td>0.215842</td>\n",
       "      <td>1.093092</td>\n",
       "      <td>0.943614</td>\n",
       "      <td>0.707805</td>\n",
       "    </tr>\n",
       "    <tr>\n",
       "      <th>8</th>\n",
       "      <td>9</td>\n",
       "      <td>0.160405</td>\n",
       "      <td>1.119149</td>\n",
       "      <td>0.959239</td>\n",
       "      <td>0.718606</td>\n",
       "    </tr>\n",
       "    <tr>\n",
       "      <th>9</th>\n",
       "      <td>10</td>\n",
       "      <td>0.139446</td>\n",
       "      <td>1.120526</td>\n",
       "      <td>0.961957</td>\n",
       "      <td>0.737759</td>\n",
       "    </tr>\n",
       "  </tbody>\n",
       "</table>\n",
       "</div>"
      ],
      "text/plain": [
       "   epoch  train_loss  validation_loss  train_acc   val_acc\n",
       "0      1    1.532276         0.965558   0.455163  0.644297\n",
       "1      2    0.858453         0.872316   0.688179  0.682604\n",
       "2      3    0.697559         0.864066   0.758832  0.687356\n",
       "3      4    0.553085         0.895191   0.819973  0.692396\n",
       "4      5    0.432663         0.939333   0.867867  0.709821\n",
       "5      6    0.342701         1.017554   0.900136  0.701469\n",
       "6      7    0.267695         1.039178   0.924932  0.723934\n",
       "7      8    0.215842         1.093092   0.943614  0.707805\n",
       "8      9    0.160405         1.119149   0.959239  0.718606\n",
       "9     10    0.139446         1.120526   0.961957  0.737759"
      ]
     },
     "execution_count": 23,
     "metadata": {},
     "output_type": "execute_result"
    }
   ],
   "source": [
    "df1"
   ]
  },
  {
   "cell_type": "code",
   "execution_count": 24,
   "metadata": {},
   "outputs": [
    {
     "data": {
      "image/png": "[encoded data removed]",
      "text/plain": [
       "<Figure size 720x576 with 1 Axes>"
      ]
     },
     "metadata": {
      "needs_background": "light"
     },
     "output_type": "display_data"
    }
   ],
   "source": [
    "plt.figure(figsize=(10,8))\n",
    "plt.xlabel('Epoch')\n",
    "plt.ylabel('Loss')\n",
    "plt.plot(df1['epoch'],df1['train_loss'],label='train_loss')\n",
    "plt.plot(df1['epoch'],df1['validation_loss'],label='val_loss')\n",
    "# plt.plot(loss_dic['epoch'],nolora_df['train_loss'],label='no_lora_trainloss')\n",
    "# plt.plot(loss_dic['epoch'],nolora_df['validation_loss'],label='no_lora_valloss')\n",
    "\n",
    "plt.legend()\n",
    "plt.show()"
   ]
  },
  {
   "cell_type": "code",
   "execution_count": 25,
   "metadata": {},
   "outputs": [
    {
     "data": {
      "image/png": "[encoded data removed]",
      "text/plain": [
       "<Figure size 720x576 with 1 Axes>"
      ]
     },
     "metadata": {
      "needs_background": "light"
     },
     "output_type": "display_data"
    }
   ],
   "source": [
    "plt.figure(figsize=(10,8))\n",
    "plt.xlabel('Epoch')\n",
    "plt.ylabel('Accuracy')\n",
    "\n",
    "plt.plot(df1['epoch'],df1['train_acc'],label='train_acc')\n",
    "plt.plot(df1['epoch'],df1['val_acc'],label='val_acc')\n",
    "# plt.plot(loss_dic['epoch'],nolora_df['train_acc'],label='no_lora_train_acc')\n",
    "# plt.plot(loss_dic['epoch'],nolora_df['val_acc'],label='no_lora_acc')\n",
    "plt.legend()\n",
    "plt.show()"
   ]
  },
  {
   "cell_type": "markdown",
   "metadata": {},
   "source": [
    "## 오름차순의 추론\n"
   ]
  },
  {
   "cell_type": "code",
   "execution_count": 26,
   "metadata": {},
   "outputs": [
    {
     "name": "stderr",
     "output_type": "stream",
     "text": [
      "62it [00:07,  7.83it/s]\n"
     ]
    },
    {
     "name": "stdout",
     "output_type": "stream",
     "text": [
      "test_61_stepLoss:0.9115182882355105\n",
      "test_61_stepacc:0.6733870967741935\n",
      "1 (0.9115182882355105, 0.6733870967741935)\n"
     ]
    },
    {
     "name": "stderr",
     "output_type": "stream",
     "text": [
      "62it [00:07,  7.84it/s]\n"
     ]
    },
    {
     "name": "stdout",
     "output_type": "stream",
     "text": [
      "test_61_stepLoss:0.8047334419623497\n",
      "test_61_stepacc:0.7016129032258065\n",
      "2 (0.8047334419623497, 0.7016129032258065)\n"
     ]
    },
    {
     "name": "stderr",
     "output_type": "stream",
     "text": [
      "62it [00:07,  7.79it/s]\n"
     ]
    },
    {
     "name": "stdout",
     "output_type": "stream",
     "text": [
      "test_61_stepLoss:0.7934702132498065\n",
      "test_61_stepacc:0.7127016129032258\n",
      "3 (0.7934702132498065, 0.7127016129032258)\n"
     ]
    },
    {
     "name": "stderr",
     "output_type": "stream",
     "text": [
      "62it [00:07,  7.86it/s]\n"
     ]
    },
    {
     "name": "stdout",
     "output_type": "stream",
     "text": [
      "test_61_stepLoss:0.826463503462653\n",
      "test_61_stepacc:0.7157258064516129\n",
      "4 (0.826463503462653, 0.7157258064516129)\n"
     ]
    },
    {
     "name": "stderr",
     "output_type": "stream",
     "text": [
      "62it [00:07,  7.83it/s]\n"
     ]
    },
    {
     "name": "stdout",
     "output_type": "stream",
     "text": [
      "test_61_stepLoss:0.8692453638199837\n",
      "test_61_stepacc:0.717741935483871\n",
      "5 (0.8692453638199837, 0.717741935483871)\n"
     ]
    },
    {
     "name": "stderr",
     "output_type": "stream",
     "text": [
      "62it [00:07,  7.84it/s]\n"
     ]
    },
    {
     "name": "stdout",
     "output_type": "stream",
     "text": [
      "test_61_stepLoss:0.9609736963625877\n",
      "test_61_stepacc:0.7247983870967742\n",
      "6 (0.9609736963625877, 0.7247983870967742)\n"
     ]
    },
    {
     "name": "stderr",
     "output_type": "stream",
     "text": [
      "62it [00:07,  7.83it/s]\n"
     ]
    },
    {
     "name": "stdout",
     "output_type": "stream",
     "text": [
      "test_61_stepLoss:1.0000694598401747\n",
      "test_61_stepacc:0.7237903225806451\n",
      "7 (1.0000694598401747, 0.7237903225806451)\n"
     ]
    },
    {
     "name": "stderr",
     "output_type": "stream",
     "text": [
      "62it [00:07,  7.86it/s]\n"
     ]
    },
    {
     "name": "stdout",
     "output_type": "stream",
     "text": [
      "test_61_stepLoss:1.0734494016055138\n",
      "test_61_stepacc:0.7217741935483871\n",
      "8 (1.0734494016055138, 0.7217741935483871)\n"
     ]
    },
    {
     "name": "stderr",
     "output_type": "stream",
     "text": [
      "62it [00:07,  7.80it/s]\n"
     ]
    },
    {
     "name": "stdout",
     "output_type": "stream",
     "text": [
      "test_61_stepLoss:1.1496918295179643\n",
      "test_61_stepacc:0.719758064516129\n",
      "9 (1.1496918295179643, 0.719758064516129)\n"
     ]
    },
    {
     "name": "stderr",
     "output_type": "stream",
     "text": [
      "62it [00:07,  7.84it/s]\n"
     ]
    },
    {
     "name": "stdout",
     "output_type": "stream",
     "text": [
      "test_61_stepLoss:1.1162035781289301\n",
      "test_61_stepacc:0.7459677419354839\n",
      "10 (1.1162035781289301, 0.7459677419354839)\n"
     ]
    },
    {
     "ename": "FileNotFoundError",
     "evalue": "[Errno 2] No such file or directory: '/home/work/CL/final_healthmodel/asc_11epoch.pt'",
     "output_type": "error",
     "traceback": [
      "\u001b[0;31m---------------------------------------------------------------------------\u001b[0m",
      "\u001b[0;31mFileNotFoundError\u001b[0m                         Traceback (most recent call last)",
      "Cell \u001b[0;32mIn[26], line 6\u001b[0m\n\u001b[1;32m      4\u001b[0m \u001b[39mfor\u001b[39;00m i \u001b[39min\u001b[39;00m \u001b[39mrange\u001b[39m(\u001b[39m20\u001b[39m) :\n\u001b[1;32m      5\u001b[0m     save_path \u001b[39m=\u001b[39m \u001b[39mf\u001b[39m\u001b[39m\"\u001b[39m\u001b[39m/home/work/CL/final_healthmodel/asc_\u001b[39m\u001b[39m{\u001b[39;00mi\u001b[39m+\u001b[39m\u001b[39m1\u001b[39m\u001b[39m}\u001b[39;00m\u001b[39mepoch.pt\u001b[39m\u001b[39m\"\u001b[39m\n\u001b[0;32m----> 6\u001b[0m     model \u001b[39m=\u001b[39m torch\u001b[39m.\u001b[39;49mload(save_path)\n\u001b[1;32m      8\u001b[0m     \u001b[39mprint\u001b[39m(i\u001b[39m+\u001b[39m\u001b[39m1\u001b[39m,infer(model\u001b[39m=\u001b[39mmodel,loader\u001b[39m=\u001b[39mtest_loader))\n",
      "File \u001b[0;32m/usr/local/lib/python3.8/dist-packages/torch/serialization.py:776\u001b[0m, in \u001b[0;36mload\u001b[0;34m(f, map_location, pickle_module, weights_only, **pickle_load_args)\u001b[0m\n\u001b[1;32m    773\u001b[0m \u001b[39mif\u001b[39;00m \u001b[39m'\u001b[39m\u001b[39mencoding\u001b[39m\u001b[39m'\u001b[39m \u001b[39mnot\u001b[39;00m \u001b[39min\u001b[39;00m pickle_load_args\u001b[39m.\u001b[39mkeys():\n\u001b[1;32m    774\u001b[0m     pickle_load_args[\u001b[39m'\u001b[39m\u001b[39mencoding\u001b[39m\u001b[39m'\u001b[39m] \u001b[39m=\u001b[39m \u001b[39m'\u001b[39m\u001b[39mutf-8\u001b[39m\u001b[39m'\u001b[39m\n\u001b[0;32m--> 776\u001b[0m \u001b[39mwith\u001b[39;00m _open_file_like(f, \u001b[39m'\u001b[39;49m\u001b[39mrb\u001b[39;49m\u001b[39m'\u001b[39;49m) \u001b[39mas\u001b[39;00m opened_file:\n\u001b[1;32m    777\u001b[0m     \u001b[39mif\u001b[39;00m _is_zipfile(opened_file):\n\u001b[1;32m    778\u001b[0m         \u001b[39m# The zipfile reader is going to advance the current file position.\u001b[39;00m\n\u001b[1;32m    779\u001b[0m         \u001b[39m# If we want to actually tail call to torch.jit.load, we need to\u001b[39;00m\n\u001b[1;32m    780\u001b[0m         \u001b[39m# reset back to the original position.\u001b[39;00m\n\u001b[1;32m    781\u001b[0m         orig_position \u001b[39m=\u001b[39m opened_file\u001b[39m.\u001b[39mtell()\n",
      "File \u001b[0;32m/usr/local/lib/python3.8/dist-packages/torch/serialization.py:270\u001b[0m, in \u001b[0;36m_open_file_like\u001b[0;34m(name_or_buffer, mode)\u001b[0m\n\u001b[1;32m    268\u001b[0m \u001b[39mdef\u001b[39;00m \u001b[39m_open_file_like\u001b[39m(name_or_buffer, mode):\n\u001b[1;32m    269\u001b[0m     \u001b[39mif\u001b[39;00m _is_path(name_or_buffer):\n\u001b[0;32m--> 270\u001b[0m         \u001b[39mreturn\u001b[39;00m _open_file(name_or_buffer, mode)\n\u001b[1;32m    271\u001b[0m     \u001b[39melse\u001b[39;00m:\n\u001b[1;32m    272\u001b[0m         \u001b[39mif\u001b[39;00m \u001b[39m'\u001b[39m\u001b[39mw\u001b[39m\u001b[39m'\u001b[39m \u001b[39min\u001b[39;00m mode:\n",
      "File \u001b[0;32m/usr/local/lib/python3.8/dist-packages/torch/serialization.py:251\u001b[0m, in \u001b[0;36m_open_file.__init__\u001b[0;34m(self, name, mode)\u001b[0m\n\u001b[1;32m    250\u001b[0m \u001b[39mdef\u001b[39;00m \u001b[39m__init__\u001b[39m(\u001b[39mself\u001b[39m, name, mode):\n\u001b[0;32m--> 251\u001b[0m     \u001b[39msuper\u001b[39m()\u001b[39m.\u001b[39m\u001b[39m__init__\u001b[39m(\u001b[39mopen\u001b[39;49m(name, mode))\n",
      "\u001b[0;31mFileNotFoundError\u001b[0m: [Errno 2] No such file or directory: '/home/work/CL/final_healthmodel/asc_11epoch.pt'"
     ]
    }
   ],
   "source": [
    "from transformers import AutoModelForSequenceClassification, AutoTokenizer\n",
    "tokenizer = AutoTokenizer.from_pretrained(cfg.model_path)\n",
    "\n",
    "for i in range(20) :\n",
    "    save_path = f\"/home/work/CL/final_healthmodel/asc_{i+1}epoch.pt\"\n",
    "    model = torch.load(save_path)\n",
    "\n",
    "    print(i+1,infer(model=model,loader=test_loader))\n",
    "\n"
   ]
  }
 ],
 "metadata": {
  "kernelspec": {
   "display_name": "PyTorch 1.14 (NGC 22.12/Python 3.8) on Backend.AI",
   "language": "python",
   "name": "python3"
  },
  "language_info": {
   "codemirror_mode": {
    "name": "ipython",
    "version": 3
   },
   "file_extension": ".py",
   "mimetype": "text/x-python",
   "name": "python",
   "nbconvert_exporter": "python",
   "pygments_lexer": "ipython3",
   "version": "3.8.10 (default, Nov 14 2022, 12:59:47) \n[GCC 9.4.0]"
  },
  "vscode": {
   "interpreter": {
    "hash": "767d51c1340bd893661ea55ea3124f6de3c7a262a8b4abca0554b478b1e2ff90"
   }
  }
 },
 "nbformat": 4,
 "nbformat_minor": 2
}
