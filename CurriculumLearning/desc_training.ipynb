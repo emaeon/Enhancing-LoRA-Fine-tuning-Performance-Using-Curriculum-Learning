{
 "cells": [
  {
   "cell_type": "markdown",
   "metadata": {},
   "source": [
    "# 1. IMPORT"
   ]
  },
  {
   "cell_type": "code",
   "execution_count": 1,
   "metadata": {},
   "outputs": [],
   "source": [
    "#필요한 모듈을 import 합니다.\n",
    "from numba import cuda\n",
    "\n",
    "#이후 초기화 작업을 진행해줍니다.\n",
    "device = cuda.get_current_device()\n",
    "device.reset()"
   ]
  },
  {
   "cell_type": "code",
   "execution_count": 2,
   "metadata": {},
   "outputs": [],
   "source": [
    "import torch, gc\n",
    "gc.collect()\n",
    "torch.cuda.empty_cache()"
   ]
  },
  {
   "cell_type": "code",
   "execution_count": 3,
   "metadata": {},
   "outputs": [],
   "source": [
    "from pytorchtools import EarlyStopping"
   ]
  },
  {
   "cell_type": "code",
   "execution_count": 4,
   "metadata": {},
   "outputs": [
    {
     "name": "stderr",
     "output_type": "stream",
     "text": [
      "/usr/local/lib/python3.8/dist-packages/pandas/core/computation/expressions.py:20: UserWarning: Pandas requires version '2.7.3' or newer of 'numexpr' (version '2.7.0' currently installed).\n",
      "  from pandas.core.computation.check import NUMEXPR_INSTALLED\n"
     ]
    }
   ],
   "source": [
    "import pandas as pd\n",
    "import numpy as np\n",
    "from sklearn.metrics import accuracy_score, f1_score\n",
    "from sklearn.preprocessing import LabelEncoder\n",
    "import random\n",
    "import os\n",
    "\n",
    "import torch\n",
    "from torch import nn\n",
    "import torch.nn.functional as F\n",
    "from torch.utils.data import Dataset, DataLoader\n",
    "from tqdm import tqdm\n",
    "from torch.optim import AdamW\n",
    "\n",
    "import matplotlib as mpl\n",
    "import matplotlib.pyplot as plt\n",
    "\n",
    "from transformers import logging\n",
    "logging.set_verbosity_error()\n",
    "import warnings\n",
    "warnings.filterwarnings(action='ignore')\n"
   ]
  },
  {
   "cell_type": "code",
   "execution_count": 5,
   "metadata": {},
   "outputs": [
    {
     "data": {
      "text/plain": [
       "device(type='cuda')"
      ]
     },
     "execution_count": 5,
     "metadata": {},
     "output_type": "execute_result"
    }
   ],
   "source": [
    "device = torch.device('cuda')if torch.cuda.is_available() else torch.device('cpu')\n",
    "device"
   ]
  },
  {
   "cell_type": "code",
   "execution_count": 6,
   "metadata": {},
   "outputs": [
    {
     "name": "stdout",
     "output_type": "stream",
     "text": [
      "Device: cuda\n",
      "Current cuda device: 0\n",
      "Count of using GPUs: 1\n"
     ]
    }
   ],
   "source": [
    "print('Device:', device)\n",
    "print('Current cuda device:', torch.cuda.current_device())\n",
    "print('Count of using GPUs:', torch.cuda.device_count())"
   ]
  },
  {
   "cell_type": "markdown",
   "metadata": {},
   "source": [
    "# 하이퍼파라미터 설정"
   ]
  },
  {
   "cell_type": "code",
   "execution_count": 7,
   "metadata": {},
   "outputs": [
    {
     "data": {
      "text/plain": [
       "'/home/work/CL/largecode2modify'"
      ]
     },
     "execution_count": 7,
     "metadata": {},
     "output_type": "execute_result"
    }
   ],
   "source": [
    "import os\n",
    "os.getcwd()"
   ]
  },
  {
   "cell_type": "code",
   "execution_count": 8,
   "metadata": {},
   "outputs": [],
   "source": [
    "class config():\n",
    "    def __init__(self):\n",
    "        \n",
    "        self.source_len=128\n",
    "        self.epochs = 10\n",
    "        self.learning_rate=0.000005\n",
    "        self.batch_size=16\n",
    "        self.shuffle = True\n",
    "        self.seed=500\n",
    "        self.num_labels=10\n",
    "        self.data_path= '/home/work/CL/dataset/healthcare/healthcare5000.pickle'\n",
    "        self.model_path = 'klue/roberta-large'\n",
    "        # self.modelsave_path = r'C:\\Users\\user\\OneDrive - KookminUNIV\\바탕 화면\\추가사전학습\\Fine_tuning'\n",
    "        # self.loss_path = r'C:\\Users\\user\\OneDrive - KookminUNIV\\바탕 화면\\추가사전학습\\Fine_tuning'\n",
    "cfg = config()"
   ]
  },
  {
   "cell_type": "markdown",
   "metadata": {},
   "source": [
    "# 랜덤시드 고정"
   ]
  },
  {
   "cell_type": "code",
   "execution_count": 9,
   "metadata": {},
   "outputs": [],
   "source": [
    "def seed_everything(seed):\n",
    "    random.seed(seed)\n",
    "    os.environ['PYTHONHASHSEED']=str(seed)\n",
    "    np.random.seed(seed)\n",
    "    torch.manual_seed(seed)\n",
    "    torch.cuda.manual_seed(seed)\n",
    "    torch.backends.cudnn.deterministic=True\n",
    "    torch.bachends.cudnn.bechmark = True\n",
    "    \n",
    "    seed_everything(cfg.seed) #seed 고정"
   ]
  },
  {
   "cell_type": "markdown",
   "metadata": {},
   "source": [
    "# 데이터 로드"
   ]
  },
  {
   "cell_type": "code",
   "execution_count": 10,
   "metadata": {},
   "outputs": [],
   "source": [
    "# trainset.to_pickle('/home/work/CL/dataset/healthcare/healthcare_train.pickle')\n",
    "# testset.to_pickle('/home/work/CL/dataset/healthcare/healthcare_test.pickle')\n",
    "# valset.to_pickle('/home/work/CL/dataset/healthcare/healthcare_val.pickle')\n",
    "\n",
    "trainset = pd.read_pickle('/home/work/CL/dataset/healthcare/healthcare_train.pickle')\n",
    "testset = pd.read_pickle('/home/work/CL/dataset/healthcare/healthcare_test.pickle')\n",
    "valset = pd.read_pickle('/home/work/CL/dataset/healthcare/healthcare_val.pickle')"
   ]
  },
  {
   "cell_type": "code",
   "execution_count": 11,
   "metadata": {},
   "outputs": [
    {
     "data": {
      "text/plain": [
       "8    618\n",
       "7    609\n",
       "9    583\n",
       "6    579\n",
       "5    561\n",
       "Name: 수도라벨, dtype: int64"
      ]
     },
     "execution_count": 11,
     "metadata": {},
     "output_type": "execute_result"
    }
   ],
   "source": [
    "trainset['수도라벨'].value_counts()"
   ]
  },
  {
   "cell_type": "code",
   "execution_count": 12,
   "metadata": {},
   "outputs": [],
   "source": [
    "for i in range(20):\n",
    "    \n",
    "    save_path = f\"/home/work/CL/dataset/healthcare/16_desc{i+1}_combined.csv\"\n",
    "    globals()['trainset{}'.format(i+1)]= pd.read_csv(save_path)"
   ]
  },
  {
   "cell_type": "markdown",
   "metadata": {},
   "source": [
    "# 토크나이저와 모델 정의"
   ]
  },
  {
   "cell_type": "code",
   "execution_count": 13,
   "metadata": {},
   "outputs": [
    {
     "data": {
      "text/plain": [
       "<All keys matched successfully>"
      ]
     },
     "execution_count": 13,
     "metadata": {},
     "output_type": "execute_result"
    }
   ],
   "source": [
    "from transformers import AutoModelForSequenceClassification, AutoTokenizer, get_linear_schedule_with_warmup, set_seed\n",
    "\n",
    "model = AutoModelForSequenceClassification.from_pretrained(cfg.model_path, num_labels=cfg.num_labels, output_hidden_states=False).cuda()\n",
    "tokenizer = AutoTokenizer.from_pretrained(cfg.model_path)\n",
    "\n",
    "model.resize_token_embeddings(len(tokenizer))\n",
    "model\n",
    "\n",
    "model_state_dict = torch.load(\"/home/work/CL/final_ictmodel/ict5epoch.pt\", map_location=device)\n",
    "model.load_state_dict(model_state_dict)\n",
    "# model = torch.nn.DataParallel(model)\n",
    "# model = get_peft_model(model, peft_config).to(device)\n",
    "\n",
    "# model.print_trainable_parameters()\n",
    "# model\n"
   ]
  },
  {
   "cell_type": "markdown",
   "metadata": {},
   "source": [
    "# 커스텀 데이터셋"
   ]
  },
  {
   "cell_type": "code",
   "execution_count": 14,
   "metadata": {},
   "outputs": [],
   "source": [
    "class CustomDataset(Dataset):\n",
    "    \n",
    "    def __init__(self, data, labels, tokenizer, source_len) :\n",
    "    # 내가 필요한 것들을 가져와서 선처리\n",
    "        self.data = data.copy()\n",
    "        self.labels = labels.copy()\n",
    "        self.tokenizer = tokenizer\n",
    "        self.source_len = source_len\n",
    "    \n",
    "    def __getitem__(self, index) :\n",
    "    # 데이터 셋에서 한 개의 데이터를 가져오는 함수 정의\n",
    "    \n",
    "        text = self.data[index]\n",
    "        inputs = self.tokenizer(text,max_length=self.source_len,padding='max_length',truncation=True, return_tensors='pt')\n",
    "        # inputs = self.tokenizer.batch_encode_plus([text], max_length= self.source_len, truncation=True, padding='max_length',return_tensors='pt')\n",
    "        label = self.labels[index]\n",
    "        \n",
    "        input_ids = inputs['input_ids'].squeeze()\n",
    "        attention_mask = inputs['attention_mask'].squeeze()\n",
    "        token_type_ids = inputs['token_type_ids'].squeeze()\n",
    "        \n",
    "        \n",
    "        \n",
    "    \n",
    "        # input_ids = inputs['input_ids'][0]\n",
    "        # attention_mask = inputs['attention_mask'][0]\n",
    "        # token_type_ids = inputs['token_type_ids'][0]\n",
    "        \n",
    "        # return input_ids, attention_mask, token_type_ids, label\n",
    "        \n",
    "        inputs_dict = {\n",
    "            'input_ids' : input_ids.to(device, dtype = torch.long),\n",
    "            'attention_mask' : attention_mask.to(device, dtype = torch.long),\n",
    "            'token_type_ids': token_type_ids.to(device, dtype = torch.long),\n",
    "        }\n",
    "        label = torch.tensor(label).to(device, dtype = torch.long)\n",
    "        \n",
    "        \n",
    "        return inputs_dict, label\n",
    "    \n",
    "    def __len__(self) :\n",
    "    # 데이터 셋의 길이\n",
    "        return len(self.data)    "
   ]
  },
  {
   "cell_type": "code",
   "execution_count": 15,
   "metadata": {},
   "outputs": [],
   "source": [
    "import pandas as pd\n",
    "\n",
    "dataframes = []  # 데이터프레임 리스트 초기화\n",
    "\n",
    "for i in range(1, 21):\n",
    "    trainset = globals()[f\"trainset{i}\"]  # 동적으로 변수명을 활용하여 데이터프레임 가져오기\n",
    "    dataframes.append(trainset)  # 데이터프레임 리스트에 추가"
   ]
  },
  {
   "cell_type": "code",
   "execution_count": 16,
   "metadata": {},
   "outputs": [
    {
     "data": {
      "text/plain": [
       "20"
      ]
     },
     "execution_count": 16,
     "metadata": {},
     "output_type": "execute_result"
    }
   ],
   "source": [
    "# 데이터프레임을 데이터셋으로 변환\n",
    "datasets = []\n",
    "for trainset in dataframes:\n",
    "    dataset = CustomDataset(data=list([str(i) for i in trainset['clean_text'].values.copy()].copy()),\n",
    "                            labels=list(trainset['수도라벨'].copy()),\n",
    "                            tokenizer=tokenizer,\n",
    "                            source_len=cfg.source_len)\n",
    "    datasets.append(dataset)\n",
    "\n",
    "# 데이터로더 생성\n",
    "batch_size = 16\n",
    "data_loaders = []\n",
    "for dataset in datasets:\n",
    "    data_loader = DataLoader(dataset, batch_size=cfg.batch_size, shuffle=False,num_workers=0)\n",
    "    data_loaders.append(data_loader)\n",
    "len(data_loaders)\n",
    "# # 데이터로더 사용 예시\n",
    "# for data_loader in data_loaders:\n",
    "#     for batch in data_loader:\n",
    "#         inputs_dict, label = batch\n",
    "#         print(inputs_dict)\n",
    "#         print(label)"
   ]
  },
  {
   "cell_type": "code",
   "execution_count": 17,
   "metadata": {},
   "outputs": [],
   "source": [
    "# train_data = CustomDataset(data=list([str(i) for i in trainset['clean_text'].values.copy()].copy()),\n",
    "#                            labels= list(trainset['수도라벨'].copy()),\n",
    "#                            tokenizer= tokenizer,\n",
    "#                            source_len= cfg.source_len)\n",
    "\n",
    "val_data = CustomDataset(data=list([str(i) for i in valset['clean_text'].values.copy()].copy()),\n",
    "                           labels= list(valset['수도라벨'].copy()),\n",
    "                           tokenizer= tokenizer,\n",
    "                           source_len= cfg.source_len)\n",
    "\n",
    "\n",
    "test_data = CustomDataset(data=list([str(i) for i in testset['clean_text'].values.copy()].copy()),\n",
    "                           labels= list(testset['수도라벨'].copy()),\n",
    "                           tokenizer= tokenizer,\n",
    "                           source_len= cfg.source_len)\n",
    "\n",
    "# train_loader = DataLoader(train_data, batch_size=cfg.batch_size, shuffle=False,num_workers=0)\n",
    "val_loader = DataLoader(val_data, batch_size=cfg.batch_size, shuffle=False,num_workers=0)\n",
    "test_loader = DataLoader(test_data, batch_size=cfg.batch_size, shuffle=False,num_workers=0)\n"
   ]
  },
  {
   "cell_type": "markdown",
   "metadata": {},
   "source": [
    "# Train, val 정의"
   ]
  },
  {
   "cell_type": "code",
   "execution_count": 18,
   "metadata": {},
   "outputs": [],
   "source": [
    "def train(epoch, model, optimizer, loader):\n",
    "    \n",
    "    model.train()\n",
    "    total_loss, total_accuracy = 0,0\n",
    "    nb_train_steps = 0\n",
    "    for _,(inputs, labels) in enumerate(loader, 0): \n",
    "        #enumerate는 인덱스까지 반환하는 함수(데이터, 스타트번호=0)\n",
    "        outputs = model(**inputs, labels = labels)\n",
    "        loss = outputs.loss\n",
    "        \n",
    "\n",
    "        pred = [logit.argmax().cpu().detach().item() for logit in outputs.logits]\n",
    "        true = [label for label in labels.cpu().numpy()]\n",
    "        acc = accuracy_score(true,pred)\n",
    "        \n",
    "\n",
    "        if _%32 ==0 : #만약 인덱스가 10이 되면\n",
    "            print(f'Epoch : {epoch+1}, train_{_}_step_loss : {loss.item()}')\n",
    "            psuedo_pred = [logit.argmax().item() for logit in outputs.logits]\n",
    "            psuedo_acc = np.sum(np.array(labels.to('cpu'))==np.array(psuedo_pred))/len(labels)\n",
    "            print(f'{epoch+1}_{_}_step_정확도 :{psuedo_acc}')\n",
    "        \n",
    "        loss.backward()\n",
    "        optimizer.step()\n",
    "        optimizer.zero_grad()\n",
    "        \n",
    "        total_loss += loss.item()\n",
    "        total_accuracy += acc\n",
    "        nb_train_steps += 1\n",
    "    \n",
    "\n",
    "    \n",
    "    avg_loss = total_loss/len(loader)\n",
    "    avg_acc = total_accuracy/nb_train_steps\n",
    "    t_test_avg_acc = total_accuracy/len(loader)\n",
    "    print(f'Epoch:{epoch+1}, train_{_}_stepLoss:{avg_loss}')\n",
    "    print(f'Epoch:{epoch+1}, train_{_}_stepacc:{avg_acc}')\n",
    "    print(f'Epoch:{epoch+1}, train_{_}_stepacc:{t_test_avg_acc}')\n",
    "    loss_dic['train_loss'].append(avg_loss)\n",
    "    loss_dic['train_acc'].append(avg_acc)"
   ]
  },
  {
   "cell_type": "code",
   "execution_count": 19,
   "metadata": {},
   "outputs": [],
   "source": [
    "def validate(epoch, model, loader):\n",
    "   \n",
    "    model.eval()\n",
    "    eval_loss, eval_accuracy = 0,0\n",
    "    nb_eval_steps = 0\n",
    "    with torch.no_grad():\n",
    "        for _,(inputs, labels) in enumerate(loader, 0): \n",
    "        #enumerate는 인덱스까지 반환하는 함수(데이터, 스타트번호=0)\n",
    "            outputs = model(**inputs, labels = labels)\n",
    "            loss = outputs.loss\n",
    "            eval_loss += loss.item()\n",
    "\n",
    "            pred = [logit.argmax().cpu().detach().item() for logit in outputs.logits]\n",
    "            true = [label for label in labels.cpu().numpy()]\n",
    "            acc = accuracy_score(true,pred)\n",
    "            eval_accuracy += acc\n",
    "            nb_eval_steps +=1\n",
    "            if _%32 ==0 : #만약 인덱스가 10이 되면\n",
    "                print(f'Epoch : {epoch+1}, val_{_}_step_loss : {loss.item()}')\n",
    "                predicted_class_id = [logit.argmax().item() for logit in outputs.logits]\n",
    "                psuedo_acc = np.sum(np.array(labels.to('cpu'))==np.array(predicted_class_id))/len(labels)\n",
    "                print(f'{epoch+1}_{_}_step_정확도 :{psuedo_acc}')\n",
    "                \n",
    "                \n",
    "    e_avg_loss = eval_loss/len(loader)\n",
    "    e_avg_acc = eval_accuracy/nb_eval_steps\n",
    "    e_test_avg_acc = eval_accuracy/len(loader)\n",
    "    print(f'Epoch:{epoch+1}, val_{_}_stepLoss:{e_avg_loss}')\n",
    "    print(f'Epoch:{epoch+1}, val_{_}_stepacc:{e_avg_acc}')\n",
    "    print(f'Epoch:{epoch+1}, val_{_}_stepacc:{e_test_avg_acc}')\n",
    "\n",
    "    loss_dic['validation_loss'].append(e_avg_loss)\n",
    "    loss_dic['val_acc'].append(e_avg_acc)                \n",
    "    loss_dic['epoch'].append(epoch+1)\n",
    "\n",
    "    early_stopping(e_avg_loss, model)\n",
    "    return e_avg_loss, e_test_avg_acc\n",
    "    \n",
    "\n",
    "\n"
   ]
  },
  {
   "cell_type": "code",
   "execution_count": 20,
   "metadata": {},
   "outputs": [],
   "source": [
    "\n",
    "def infer(model, loader):\n",
    "    \n",
    "    model.eval()\n",
    "    test_loss, test_accuracy = 0,0\n",
    "    result_dic = {'prediction':[], 'label':[]}\n",
    "    with torch.no_grad():\n",
    "        for _,(inputs, labels) in tqdm(enumerate(loader, 0)): \n",
    "        #enumerate는 인덱스까지 반환하는 함수(데이터, 스타트번호=0)\n",
    "            outputs = model(**inputs, labels = labels)\n",
    "            loss = outputs.loss\n",
    "            test_loss += loss.item()\n",
    "\n",
    "            pred = [logit.argmax().cpu().detach().item() for logit in outputs.logits]\n",
    "            true = [label for label in labels.cpu().numpy()]\n",
    "            result_dic['prediction'].append(pred)\n",
    "            result_dic['label'].append(true)                \n",
    "\n",
    "            acc = accuracy_score(true,pred)\n",
    "            test_accuracy += acc\n",
    "        \n",
    "            \n",
    "                \n",
    "    t_avg_loss = test_loss/len(loader)\n",
    "    t_avg_acc = test_accuracy/len(loader)\n",
    "    print(f'test_{_}_stepLoss:{t_avg_loss}')\n",
    "    print(f'test_{_}_stepacc:{t_avg_acc}')\n",
    "\n",
    "    \n",
    "    return t_avg_loss, t_avg_acc\n",
    "    \n",
    "        "
   ]
  },
  {
   "cell_type": "markdown",
   "metadata": {},
   "source": [
    "# RUN"
   ]
  },
  {
   "cell_type": "code",
   "execution_count": 21,
   "metadata": {},
   "outputs": [],
   "source": [
    "optimizer = torch.optim.AdamW(params = model.parameters(), lr=0.000005)\n",
    "lr_scheduler = get_linear_schedule_with_warmup(\n",
    "    optimizer=optimizer,\n",
    "    num_warmup_steps=0.* (len(data_loader) * cfg.epochs),\n",
    "    num_training_steps=(len(data_loader) * cfg.epochs),\n",
    ")"
   ]
  },
  {
   "cell_type": "code",
   "execution_count": 22,
   "metadata": {
    "scrolled": false
   },
   "outputs": [
    {
     "name": "stderr",
     "output_type": "stream",
     "text": [
      "  0%|          | 0/10 [00:00<?, ?it/s]"
     ]
    },
    {
     "name": "stdout",
     "output_type": "stream",
     "text": [
      "Epoch : 1, train_0_step_loss : 6.113699913024902\n",
      "1_0_step_정확도 :0.0\n",
      "Epoch : 1, train_32_step_loss : 1.539410948753357\n",
      "1_32_step_정확도 :0.3125\n",
      "Epoch : 1, train_64_step_loss : 1.50761079788208\n",
      "1_64_step_정확도 :0.1875\n",
      "Epoch : 1, train_96_step_loss : 0.9237905740737915\n",
      "1_96_step_정확도 :0.625\n",
      "Epoch : 1, train_128_step_loss : 0.7455617785453796\n",
      "1_128_step_정확도 :0.875\n",
      "Epoch : 1, train_160_step_loss : 1.080909013748169\n",
      "1_160_step_정확도 :0.6875\n",
      "Epoch:1, train_183_stepLoss:1.4181596296636954\n",
      "Epoch:1, train_183_stepacc:0.492866847826087\n",
      "Epoch:1, train_183_stepacc:0.492866847826087\n",
      "Epoch : 1, val_0_step_loss : 0.5893287062644958\n",
      "1_0_step_정확도 :0.8125\n",
      "Epoch : 1, val_32_step_loss : 1.5356837511062622\n",
      "1_32_step_정확도 :0.5\n",
      "Epoch:1, val_61_stepLoss:0.9504704254288827\n",
      "Epoch:1, val_61_stepacc:0.631192396313364\n",
      "Epoch:1, val_61_stepacc:0.631192396313364\n",
      "Validation loss decreased (inf --> 0.950470).  Saving model ...\n"
     ]
    },
    {
     "name": "stderr",
     "output_type": "stream",
     "text": [
      " 10%|█         | 1/10 [01:30<13:34, 90.55s/it]"
     ]
    },
    {
     "name": "stdout",
     "output_type": "stream",
     "text": [
      "Epoch : 2, train_0_step_loss : 0.9198676347732544\n",
      "2_0_step_정확도 :0.75\n",
      "Epoch : 2, train_32_step_loss : 1.0530788898468018\n",
      "2_32_step_정확도 :0.5625\n",
      "Epoch : 2, train_64_step_loss : 0.9241870045661926\n",
      "2_64_step_정확도 :0.5625\n",
      "Epoch : 2, train_96_step_loss : 0.5094843506813049\n",
      "2_96_step_정확도 :0.8125\n",
      "Epoch : 2, train_128_step_loss : 0.5838605761528015\n",
      "2_128_step_정확도 :0.8125\n",
      "Epoch : 2, train_160_step_loss : 0.8424304723739624\n",
      "2_160_step_정확도 :0.75\n",
      "Epoch:2, train_183_stepLoss:0.809132809062367\n",
      "Epoch:2, train_183_stepacc:0.7010869565217391\n",
      "Epoch:2, train_183_stepacc:0.7010869565217391\n",
      "Epoch : 2, val_0_step_loss : 0.5384502410888672\n",
      "2_0_step_정확도 :0.8125\n",
      "Epoch : 2, val_32_step_loss : 1.4714553356170654\n",
      "2_32_step_정확도 :0.5\n",
      "Epoch:2, val_61_stepLoss:0.9052565203559014\n",
      "Epoch:2, val_61_stepacc:0.6826036866359446\n",
      "Epoch:2, val_61_stepacc:0.6826036866359446\n",
      "Validation loss decreased (0.950470 --> 0.905257).  Saving model ...\n"
     ]
    },
    {
     "name": "stderr",
     "output_type": "stream",
     "text": [
      " 20%|██        | 2/10 [03:00<11:59, 89.99s/it]"
     ]
    },
    {
     "name": "stdout",
     "output_type": "stream",
     "text": [
      "Epoch : 3, train_0_step_loss : 0.5867863297462463\n",
      "3_0_step_정확도 :0.75\n",
      "Epoch : 3, train_32_step_loss : 0.8246089816093445\n",
      "3_32_step_정확도 :0.75\n",
      "Epoch : 3, train_64_step_loss : 0.7880029678344727\n",
      "3_64_step_정확도 :0.5625\n",
      "Epoch : 3, train_96_step_loss : 0.3294336795806885\n",
      "3_96_step_정확도 :0.875\n",
      "Epoch : 3, train_128_step_loss : 0.4979349970817566\n",
      "3_128_step_정확도 :0.8125\n",
      "Epoch : 3, train_160_step_loss : 0.6677520871162415\n",
      "3_160_step_정확도 :0.8125\n",
      "Epoch:3, train_183_stepLoss:0.6120776402885499\n",
      "Epoch:3, train_183_stepacc:0.7815896739130435\n",
      "Epoch:3, train_183_stepacc:0.7815896739130435\n",
      "Epoch : 3, val_0_step_loss : 0.5837879776954651\n",
      "3_0_step_정확도 :0.875\n",
      "Epoch : 3, val_32_step_loss : 1.157016396522522\n",
      "3_32_step_정확도 :0.6875\n",
      "Epoch:3, val_61_stepLoss:0.9712969362735748\n",
      "Epoch:3, val_61_stepacc:0.690668202764977\n",
      "Epoch:3, val_61_stepacc:0.690668202764977\n",
      "EarlyStopping counter: 1 out of 3\n"
     ]
    },
    {
     "name": "stderr",
     "output_type": "stream",
     "text": [
      " 30%|███       | 3/10 [04:27<10:20, 88.69s/it]"
     ]
    },
    {
     "name": "stdout",
     "output_type": "stream",
     "text": [
      "Epoch : 4, train_0_step_loss : 0.3788653612136841\n",
      "4_0_step_정확도 :0.875\n",
      "Epoch : 4, train_32_step_loss : 0.7339625954627991\n",
      "4_32_step_정확도 :0.75\n",
      "Epoch : 4, train_64_step_loss : 0.48915761709213257\n",
      "4_64_step_정확도 :0.875\n",
      "Epoch : 4, train_96_step_loss : 0.20681683719158173\n",
      "4_96_step_정확도 :0.9375\n",
      "Epoch : 4, train_128_step_loss : 0.34804677963256836\n",
      "4_128_step_정확도 :0.875\n",
      "Epoch : 4, train_160_step_loss : 0.47172781825065613\n",
      "4_160_step_정확도 :0.9375\n",
      "Epoch:4, train_183_stepLoss:0.4559054833472423\n",
      "Epoch:4, train_183_stepacc:0.8539402173913043\n",
      "Epoch:4, train_183_stepacc:0.8539402173913043\n",
      "Epoch : 4, val_0_step_loss : 0.615261435508728\n",
      "4_0_step_정확도 :0.875\n",
      "Epoch : 4, val_32_step_loss : 1.5359100103378296\n",
      "4_32_step_정확도 :0.625\n",
      "Epoch:4, val_61_stepLoss:1.0536533041346459\n",
      "Epoch:4, val_61_stepacc:0.6893721198156683\n",
      "Epoch:4, val_61_stepacc:0.6893721198156683\n",
      "EarlyStopping counter: 2 out of 3\n"
     ]
    },
    {
     "name": "stderr",
     "output_type": "stream",
     "text": [
      " 40%|████      | 4/10 [05:54<08:48, 88.07s/it]"
     ]
    },
    {
     "name": "stdout",
     "output_type": "stream",
     "text": [
      "Epoch : 5, train_0_step_loss : 0.39311614632606506\n",
      "5_0_step_정확도 :0.875\n",
      "Epoch : 5, train_32_step_loss : 0.5170649886131287\n",
      "5_32_step_정확도 :0.875\n",
      "Epoch : 5, train_64_step_loss : 0.20967264473438263\n",
      "5_64_step_정확도 :0.875\n",
      "Epoch : 5, train_96_step_loss : 0.17489667236804962\n",
      "5_96_step_정확도 :0.9375\n",
      "Epoch : 5, train_128_step_loss : 0.09584343433380127\n",
      "5_128_step_정확도 :1.0\n",
      "Epoch : 5, train_160_step_loss : 0.4327316880226135\n",
      "5_160_step_정확도 :0.9375\n",
      "Epoch:5, train_183_stepLoss:0.3361862087217362\n",
      "Epoch:5, train_183_stepacc:0.8947010869565217\n",
      "Epoch:5, train_183_stepacc:0.8947010869565217\n",
      "Epoch : 5, val_0_step_loss : 0.819786012172699\n",
      "5_0_step_정확도 :0.8125\n",
      "Epoch : 5, val_32_step_loss : 1.0623105764389038\n",
      "5_32_step_정확도 :0.6875\n",
      "Epoch:5, val_61_stepLoss:1.136742095793447\n",
      "Epoch:5, val_61_stepacc:0.6957085253456221\n",
      "Epoch:5, val_61_stepacc:0.6957085253456221\n",
      "EarlyStopping counter: 3 out of 3\n"
     ]
    },
    {
     "name": "stderr",
     "output_type": "stream",
     "text": [
      " 50%|█████     | 5/10 [07:21<07:17, 87.60s/it]"
     ]
    },
    {
     "name": "stdout",
     "output_type": "stream",
     "text": [
      "Epoch : 6, train_0_step_loss : 0.17708757519721985\n",
      "6_0_step_정확도 :0.9375\n",
      "Epoch : 6, train_32_step_loss : 0.42452389001846313\n",
      "6_32_step_정확도 :0.9375\n",
      "Epoch : 6, train_64_step_loss : 0.13857907056808472\n",
      "6_64_step_정확도 :1.0\n",
      "Epoch : 6, train_96_step_loss : 0.0808487981557846\n",
      "6_96_step_정확도 :1.0\n",
      "Epoch : 6, train_128_step_loss : 0.12437096238136292\n",
      "6_128_step_정확도 :0.9375\n",
      "Epoch : 6, train_160_step_loss : 0.4816315472126007\n",
      "6_160_step_정확도 :0.875\n",
      "Epoch:6, train_183_stepLoss:0.2772317765604543\n",
      "Epoch:6, train_183_stepacc:0.9177989130434783\n",
      "Epoch:6, train_183_stepacc:0.9177989130434783\n",
      "Epoch : 6, val_0_step_loss : 0.7507309913635254\n",
      "6_0_step_정확도 :0.875\n",
      "Epoch : 6, val_32_step_loss : 1.665299654006958\n",
      "6_32_step_정확도 :0.5\n",
      "Epoch:6, val_61_stepLoss:1.261811589041064\n",
      "Epoch:6, val_61_stepacc:0.6883640552995393\n",
      "Epoch:6, val_61_stepacc:0.6883640552995393\n",
      "EarlyStopping counter: 4 out of 3\n"
     ]
    },
    {
     "name": "stderr",
     "output_type": "stream",
     "text": [
      " 60%|██████    | 6/10 [08:47<05:49, 87.32s/it]"
     ]
    },
    {
     "name": "stdout",
     "output_type": "stream",
     "text": [
      "Epoch : 7, train_0_step_loss : 0.05591421574354172\n",
      "7_0_step_정확도 :1.0\n",
      "Epoch : 7, train_32_step_loss : 0.35110628604888916\n",
      "7_32_step_정확도 :0.9375\n",
      "Epoch : 7, train_64_step_loss : 0.09238007664680481\n",
      "7_64_step_정확도 :1.0\n",
      "Epoch : 7, train_96_step_loss : 0.04985097423195839\n",
      "7_96_step_정확도 :1.0\n",
      "Epoch : 7, train_128_step_loss : 0.0468236468732357\n",
      "7_128_step_정확도 :1.0\n",
      "Epoch : 7, train_160_step_loss : 0.6342398524284363\n",
      "7_160_step_정확도 :0.8125\n",
      "Epoch:7, train_183_stepLoss:0.19652456506762817\n",
      "Epoch:7, train_183_stepacc:0.9415760869565217\n",
      "Epoch:7, train_183_stepacc:0.9415760869565217\n",
      "Epoch : 7, val_0_step_loss : 0.7396401166915894\n",
      "7_0_step_정확도 :0.875\n",
      "Epoch : 7, val_32_step_loss : 1.5612092018127441\n",
      "7_32_step_정확도 :0.625\n",
      "Epoch:7, val_61_stepLoss:1.150224360967836\n",
      "Epoch:7, val_61_stepacc:0.7236463133640554\n",
      "Epoch:7, val_61_stepacc:0.7236463133640554\n",
      "EarlyStopping counter: 5 out of 3\n"
     ]
    },
    {
     "name": "stderr",
     "output_type": "stream",
     "text": [
      " 70%|███████   | 7/10 [10:14<04:21, 87.19s/it]"
     ]
    },
    {
     "name": "stdout",
     "output_type": "stream",
     "text": [
      "Epoch : 8, train_0_step_loss : 0.08971171081066132\n",
      "8_0_step_정확도 :1.0\n",
      "Epoch : 8, train_32_step_loss : 0.3803366422653198\n",
      "8_32_step_정확도 :0.9375\n",
      "Epoch : 8, train_64_step_loss : 0.11310108751058578\n",
      "8_64_step_정확도 :0.9375\n",
      "Epoch : 8, train_96_step_loss : 0.07257141917943954\n",
      "8_96_step_정확도 :1.0\n",
      "Epoch : 8, train_128_step_loss : 0.31051892042160034\n",
      "8_128_step_정확도 :0.8125\n",
      "Epoch : 8, train_160_step_loss : 0.38789379596710205\n",
      "8_160_step_정확도 :0.8125\n",
      "Epoch:8, train_183_stepLoss:0.15956371304903016\n",
      "Epoch:8, train_183_stepacc:0.9500679347826086\n",
      "Epoch:8, train_183_stepacc:0.9500679347826086\n",
      "Epoch : 8, val_0_step_loss : 0.9921579360961914\n",
      "8_0_step_정확도 :0.75\n",
      "Epoch : 8, val_32_step_loss : 1.5350751876831055\n",
      "8_32_step_정확도 :0.625\n",
      "Epoch:8, val_61_stepLoss:1.2485344957920812\n",
      "Epoch:8, val_61_stepacc:0.7004608294930876\n",
      "Epoch:8, val_61_stepacc:0.7004608294930876\n",
      "EarlyStopping counter: 6 out of 3\n"
     ]
    },
    {
     "name": "stderr",
     "output_type": "stream",
     "text": [
      " 80%|████████  | 8/10 [11:41<02:54, 87.09s/it]"
     ]
    },
    {
     "name": "stdout",
     "output_type": "stream",
     "text": [
      "Epoch : 9, train_0_step_loss : 0.04097506031394005\n",
      "9_0_step_정확도 :1.0\n",
      "Epoch : 9, train_32_step_loss : 0.3437402844429016\n",
      "9_32_step_정확도 :0.9375\n",
      "Epoch : 9, train_64_step_loss : 0.10988974571228027\n",
      "9_64_step_정확도 :0.9375\n",
      "Epoch : 9, train_96_step_loss : 0.12079201638698578\n",
      "9_96_step_정확도 :0.9375\n",
      "Epoch : 9, train_128_step_loss : 0.07516217976808548\n",
      "9_128_step_정확도 :1.0\n",
      "Epoch : 9, train_160_step_loss : 0.3127824366092682\n",
      "9_160_step_정확도 :0.9375\n",
      "Epoch:9, train_183_stepLoss:0.11433210802446726\n",
      "Epoch:9, train_183_stepacc:0.9670516304347826\n",
      "Epoch:9, train_183_stepacc:0.9670516304347826\n",
      "Epoch : 9, val_0_step_loss : 0.7454526424407959\n",
      "9_0_step_정확도 :0.875\n",
      "Epoch : 9, val_32_step_loss : 1.2910270690917969\n",
      "9_32_step_정확도 :0.625\n",
      "Epoch:9, val_61_stepLoss:1.2495884179107604\n",
      "Epoch:9, val_61_stepacc:0.7246543778801844\n",
      "Epoch:9, val_61_stepacc:0.7246543778801844\n",
      "EarlyStopping counter: 7 out of 3\n"
     ]
    },
    {
     "name": "stderr",
     "output_type": "stream",
     "text": [
      " 90%|█████████ | 9/10 [13:09<01:27, 87.27s/it]"
     ]
    },
    {
     "name": "stdout",
     "output_type": "stream",
     "text": [
      "Epoch : 10, train_0_step_loss : 0.01897609978914261\n",
      "10_0_step_정확도 :1.0\n",
      "Epoch : 10, train_32_step_loss : 0.4390561282634735\n",
      "10_32_step_정확도 :0.875\n",
      "Epoch : 10, train_64_step_loss : 0.01882864162325859\n",
      "10_64_step_정확도 :1.0\n",
      "Epoch : 10, train_96_step_loss : 0.07353178411722183\n",
      "10_96_step_정확도 :0.9375\n",
      "Epoch : 10, train_128_step_loss : 0.01936088502407074\n",
      "10_128_step_정확도 :1.0\n",
      "Epoch : 10, train_160_step_loss : 0.19147951900959015\n",
      "10_160_step_정확도 :0.9375\n",
      "Epoch:10, train_183_stepLoss:0.09095382530991312\n",
      "Epoch:10, train_183_stepacc:0.9714673913043478\n",
      "Epoch:10, train_183_stepacc:0.9714673913043478\n",
      "Epoch : 10, val_0_step_loss : 0.949192225933075\n",
      "10_0_step_정확도 :0.75\n",
      "Epoch : 10, val_32_step_loss : 1.6316978931427002\n",
      "10_32_step_정확도 :0.5625\n",
      "Epoch:10, val_61_stepLoss:1.3410656012354358\n",
      "Epoch:10, val_61_stepacc:0.7165898617511521\n",
      "Epoch:10, val_61_stepacc:0.7165898617511521\n",
      "EarlyStopping counter: 8 out of 3\n"
     ]
    },
    {
     "name": "stderr",
     "output_type": "stream",
     "text": [
      "100%|██████████| 10/10 [14:36<00:00, 87.63s/it]\n"
     ]
    }
   ],
   "source": [
    "loss_dic = {'epoch':[],'train_loss':[], 'validation_loss':[],'train_acc':[],'val_acc':[]}\n",
    "early_stopping = EarlyStopping(patience = 3, verbose = True)\n",
    "\n",
    "\n",
    "for epoch in tqdm(range(0,cfg.epochs)):\n",
    "    train(epoch, model, optimizer, data_loaders[epoch])\n",
    "    lr_scheduler.step()\n",
    "\n",
    "    validate(epoch, model, val_loader)\n",
    "    \n",
    "    # if early_stopping.early_stop:\n",
    "    #     break\n",
    "    torch.save(model, f'/home/work/CL/final_healthmodel/desc_{epoch+1}epoch.pt')\n",
    "\n",
    "    \n",
    "    \n",
    "\n",
    "df1 = pd.DataFrame(loss_dic)\n",
    "df1.to_excel(f'/home/work/CL/final_healthmodel/desc.xlsx', index=False)\n",
    "    "
   ]
  },
  {
   "cell_type": "code",
   "execution_count": 23,
   "metadata": {},
   "outputs": [
    {
     "data": {
      "text/html": [
       "<div>\n",
       "<style scoped>\n",
       "    .dataframe tbody tr th:only-of-type {\n",
       "        vertical-align: middle;\n",
       "    }\n",
       "\n",
       "    .dataframe tbody tr th {\n",
       "        vertical-align: top;\n",
       "    }\n",
       "\n",
       "    .dataframe thead th {\n",
       "        text-align: right;\n",
       "    }\n",
       "</style>\n",
       "<table border=\"1\" class=\"dataframe\">\n",
       "  <thead>\n",
       "    <tr style=\"text-align: right;\">\n",
       "      <th></th>\n",
       "      <th>epoch</th>\n",
       "      <th>train_loss</th>\n",
       "      <th>validation_loss</th>\n",
       "      <th>train_acc</th>\n",
       "      <th>val_acc</th>\n",
       "    </tr>\n",
       "  </thead>\n",
       "  <tbody>\n",
       "    <tr>\n",
       "      <th>0</th>\n",
       "      <td>1</td>\n",
       "      <td>1.418160</td>\n",
       "      <td>0.950470</td>\n",
       "      <td>0.492867</td>\n",
       "      <td>0.631192</td>\n",
       "    </tr>\n",
       "    <tr>\n",
       "      <th>1</th>\n",
       "      <td>2</td>\n",
       "      <td>0.809133</td>\n",
       "      <td>0.905257</td>\n",
       "      <td>0.701087</td>\n",
       "      <td>0.682604</td>\n",
       "    </tr>\n",
       "    <tr>\n",
       "      <th>2</th>\n",
       "      <td>3</td>\n",
       "      <td>0.612078</td>\n",
       "      <td>0.971297</td>\n",
       "      <td>0.781590</td>\n",
       "      <td>0.690668</td>\n",
       "    </tr>\n",
       "    <tr>\n",
       "      <th>3</th>\n",
       "      <td>4</td>\n",
       "      <td>0.455905</td>\n",
       "      <td>1.053653</td>\n",
       "      <td>0.853940</td>\n",
       "      <td>0.689372</td>\n",
       "    </tr>\n",
       "    <tr>\n",
       "      <th>4</th>\n",
       "      <td>5</td>\n",
       "      <td>0.336186</td>\n",
       "      <td>1.136742</td>\n",
       "      <td>0.894701</td>\n",
       "      <td>0.695709</td>\n",
       "    </tr>\n",
       "    <tr>\n",
       "      <th>5</th>\n",
       "      <td>6</td>\n",
       "      <td>0.277232</td>\n",
       "      <td>1.261812</td>\n",
       "      <td>0.917799</td>\n",
       "      <td>0.688364</td>\n",
       "    </tr>\n",
       "    <tr>\n",
       "      <th>6</th>\n",
       "      <td>7</td>\n",
       "      <td>0.196525</td>\n",
       "      <td>1.150224</td>\n",
       "      <td>0.941576</td>\n",
       "      <td>0.723646</td>\n",
       "    </tr>\n",
       "    <tr>\n",
       "      <th>7</th>\n",
       "      <td>8</td>\n",
       "      <td>0.159564</td>\n",
       "      <td>1.248534</td>\n",
       "      <td>0.950068</td>\n",
       "      <td>0.700461</td>\n",
       "    </tr>\n",
       "    <tr>\n",
       "      <th>8</th>\n",
       "      <td>9</td>\n",
       "      <td>0.114332</td>\n",
       "      <td>1.249588</td>\n",
       "      <td>0.967052</td>\n",
       "      <td>0.724654</td>\n",
       "    </tr>\n",
       "    <tr>\n",
       "      <th>9</th>\n",
       "      <td>10</td>\n",
       "      <td>0.090954</td>\n",
       "      <td>1.341066</td>\n",
       "      <td>0.971467</td>\n",
       "      <td>0.716590</td>\n",
       "    </tr>\n",
       "  </tbody>\n",
       "</table>\n",
       "</div>"
      ],
      "text/plain": [
       "   epoch  train_loss  validation_loss  train_acc   val_acc\n",
       "0      1    1.418160         0.950470   0.492867  0.631192\n",
       "1      2    0.809133         0.905257   0.701087  0.682604\n",
       "2      3    0.612078         0.971297   0.781590  0.690668\n",
       "3      4    0.455905         1.053653   0.853940  0.689372\n",
       "4      5    0.336186         1.136742   0.894701  0.695709\n",
       "5      6    0.277232         1.261812   0.917799  0.688364\n",
       "6      7    0.196525         1.150224   0.941576  0.723646\n",
       "7      8    0.159564         1.248534   0.950068  0.700461\n",
       "8      9    0.114332         1.249588   0.967052  0.724654\n",
       "9     10    0.090954         1.341066   0.971467  0.716590"
      ]
     },
     "execution_count": 23,
     "metadata": {},
     "output_type": "execute_result"
    }
   ],
   "source": [
    "df1"
   ]
  },
  {
   "cell_type": "code",
   "execution_count": 24,
   "metadata": {},
   "outputs": [],
   "source": [
    "import pandas as pd\n",
    "import matplotlib as mpl\n",
    "import matplotlib.pyplot as plt"
   ]
  },
  {
   "cell_type": "code",
   "execution_count": 25,
   "metadata": {},
   "outputs": [
    {
     "data": {
      "image/png": "[encoded data removed]",
      "text/plain": [
       "<Figure size 720x576 with 1 Axes>"
      ]
     },
     "metadata": {
      "needs_background": "light"
     },
     "output_type": "display_data"
    }
   ],
   "source": [
    "plt.figure(figsize=(10,8))\n",
    "plt.xlabel('Epoch')\n",
    "plt.ylabel('Loss')\n",
    "plt.plot(loss_dic['epoch'],loss_dic['train_loss'],label='train_loss')\n",
    "plt.plot(loss_dic['epoch'],loss_dic['validation_loss'],label='val_loss')\n",
    "# plt.plot(loss_dic['epoch'],nolora_df['train_loss'],label='no_lora_trainloss')\n",
    "# plt.plot(loss_dic['epoch'],nolora_df['validation_loss'],label='no_lora_valloss')\n",
    "\n",
    "plt.legend()\n",
    "plt.show()"
   ]
  },
  {
   "cell_type": "code",
   "execution_count": 26,
   "metadata": {},
   "outputs": [
    {
     "data": {
      "image/png": "[encoded data removed]",
      "text/plain": [
       "<Figure size 720x576 with 1 Axes>"
      ]
     },
     "metadata": {
      "needs_background": "light"
     },
     "output_type": "display_data"
    }
   ],
   "source": [
    "plt.figure(figsize=(10,8))\n",
    "plt.xlabel('Epoch')\n",
    "plt.ylabel('Accuracy')\n",
    "\n",
    "plt.plot(loss_dic['epoch'],loss_dic['train_acc'],label='train_acc')\n",
    "plt.plot(loss_dic['epoch'],loss_dic['val_acc'],label='val_acc')\n",
    "# plt.plot(loss_dic['epoch'],nolora_df['train_acc'],label='no_lora_train_acc')\n",
    "# plt.plot(loss_dic['epoch'],nolora_df['val_acc'],label='no_lora_acc')\n",
    "plt.legend()\n",
    "plt.show()"
   ]
  },
  {
   "cell_type": "markdown",
   "metadata": {},
   "source": [
    "## 2번 도메인까지 학습한뒤 평가(정렬된거기준)"
   ]
  },
  {
   "cell_type": "markdown",
   "metadata": {},
   "source": [
    "### 1에폭 모델"
   ]
  },
  {
   "cell_type": "code",
   "execution_count": 27,
   "metadata": {},
   "outputs": [
    {
     "name": "stderr",
     "output_type": "stream",
     "text": [
      "62it [00:07,  7.81it/s]\n"
     ]
    },
    {
     "name": "stdout",
     "output_type": "stream",
     "text": [
      "test_61_stepLoss:0.9119860784661385\n",
      "test_61_stepacc:0.6451612903225806\n",
      "1 (0.9119860784661385, 0.6451612903225806)\n"
     ]
    },
    {
     "name": "stderr",
     "output_type": "stream",
     "text": [
      "62it [00:07,  7.85it/s]\n"
     ]
    },
    {
     "name": "stdout",
     "output_type": "stream",
     "text": [
      "test_61_stepLoss:0.8405860477397519\n",
      "test_61_stepacc:0.6834677419354839\n",
      "2 (0.8405860477397519, 0.6834677419354839)\n"
     ]
    },
    {
     "name": "stderr",
     "output_type": "stream",
     "text": [
      "62it [00:07,  7.80it/s]\n"
     ]
    },
    {
     "name": "stdout",
     "output_type": "stream",
     "text": [
      "test_61_stepLoss:0.8969389034375068\n",
      "test_61_stepacc:0.6985887096774194\n",
      "3 (0.8969389034375068, 0.6985887096774194)\n"
     ]
    },
    {
     "name": "stderr",
     "output_type": "stream",
     "text": [
      "62it [00:07,  7.85it/s]\n"
     ]
    },
    {
     "name": "stdout",
     "output_type": "stream",
     "text": [
      "test_61_stepLoss:1.0194476496788762\n",
      "test_61_stepacc:0.6844758064516129\n",
      "4 (1.0194476496788762, 0.6844758064516129)\n"
     ]
    },
    {
     "name": "stderr",
     "output_type": "stream",
     "text": [
      "62it [00:07,  7.85it/s]\n"
     ]
    },
    {
     "name": "stdout",
     "output_type": "stream",
     "text": [
      "test_61_stepLoss:1.1152666778333726\n",
      "test_61_stepacc:0.6814516129032258\n",
      "5 (1.1152666778333726, 0.6814516129032258)\n"
     ]
    },
    {
     "name": "stderr",
     "output_type": "stream",
     "text": [
      "62it [00:07,  7.78it/s]\n"
     ]
    },
    {
     "name": "stdout",
     "output_type": "stream",
     "text": [
      "test_61_stepLoss:1.231787346303463\n",
      "test_61_stepacc:0.6834677419354839\n",
      "6 (1.231787346303463, 0.6834677419354839)\n"
     ]
    },
    {
     "name": "stderr",
     "output_type": "stream",
     "text": [
      "62it [00:08,  7.71it/s]\n"
     ]
    },
    {
     "name": "stdout",
     "output_type": "stream",
     "text": [
      "test_61_stepLoss:1.1250882124708546\n",
      "test_61_stepacc:0.7106854838709677\n",
      "7 (1.1250882124708546, 0.7106854838709677)\n"
     ]
    },
    {
     "name": "stderr",
     "output_type": "stream",
     "text": [
      "62it [00:07,  7.85it/s]\n"
     ]
    },
    {
     "name": "stdout",
     "output_type": "stream",
     "text": [
      "test_61_stepLoss:1.3259658529873817\n",
      "test_61_stepacc:0.6834677419354839\n",
      "8 (1.3259658529873817, 0.6834677419354839)\n"
     ]
    },
    {
     "name": "stderr",
     "output_type": "stream",
     "text": [
      "62it [00:07,  7.83it/s]\n"
     ]
    },
    {
     "name": "stdout",
     "output_type": "stream",
     "text": [
      "test_61_stepLoss:1.311343540587733\n",
      "test_61_stepacc:0.7006048387096774\n",
      "9 (1.311343540587733, 0.7006048387096774)\n"
     ]
    },
    {
     "name": "stderr",
     "output_type": "stream",
     "text": [
      "62it [00:07,  7.82it/s]\n"
     ]
    },
    {
     "name": "stdout",
     "output_type": "stream",
     "text": [
      "test_61_stepLoss:1.318890865772001\n",
      "test_61_stepacc:0.7227822580645161\n",
      "10 (1.318890865772001, 0.7227822580645161)\n"
     ]
    },
    {
     "ename": "FileNotFoundError",
     "evalue": "[Errno 2] No such file or directory: '/home/work/CL/final_healthmodel/desc_11epoch.pt'",
     "output_type": "error",
     "traceback": [
      "\u001b[0;31m---------------------------------------------------------------------------\u001b[0m",
      "\u001b[0;31mFileNotFoundError\u001b[0m                         Traceback (most recent call last)",
      "Cell \u001b[0;32mIn[27], line 6\u001b[0m\n\u001b[1;32m      4\u001b[0m \u001b[39mfor\u001b[39;00m i \u001b[39min\u001b[39;00m \u001b[39mrange\u001b[39m(\u001b[39m20\u001b[39m) :\n\u001b[1;32m      5\u001b[0m     save_path \u001b[39m=\u001b[39m \u001b[39mf\u001b[39m\u001b[39m\"\u001b[39m\u001b[39m/home/work/CL/final_healthmodel/desc_\u001b[39m\u001b[39m{\u001b[39;00mi\u001b[39m+\u001b[39m\u001b[39m1\u001b[39m\u001b[39m}\u001b[39;00m\u001b[39mepoch.pt\u001b[39m\u001b[39m\"\u001b[39m\n\u001b[0;32m----> 6\u001b[0m     model \u001b[39m=\u001b[39m torch\u001b[39m.\u001b[39;49mload(save_path)\n\u001b[1;32m      8\u001b[0m     \u001b[39mprint\u001b[39m(i\u001b[39m+\u001b[39m\u001b[39m1\u001b[39m,infer(model\u001b[39m=\u001b[39mmodel,loader\u001b[39m=\u001b[39mtest_loader))\n",
      "File \u001b[0;32m/usr/local/lib/python3.8/dist-packages/torch/serialization.py:776\u001b[0m, in \u001b[0;36mload\u001b[0;34m(f, map_location, pickle_module, weights_only, **pickle_load_args)\u001b[0m\n\u001b[1;32m    773\u001b[0m \u001b[39mif\u001b[39;00m \u001b[39m'\u001b[39m\u001b[39mencoding\u001b[39m\u001b[39m'\u001b[39m \u001b[39mnot\u001b[39;00m \u001b[39min\u001b[39;00m pickle_load_args\u001b[39m.\u001b[39mkeys():\n\u001b[1;32m    774\u001b[0m     pickle_load_args[\u001b[39m'\u001b[39m\u001b[39mencoding\u001b[39m\u001b[39m'\u001b[39m] \u001b[39m=\u001b[39m \u001b[39m'\u001b[39m\u001b[39mutf-8\u001b[39m\u001b[39m'\u001b[39m\n\u001b[0;32m--> 776\u001b[0m \u001b[39mwith\u001b[39;00m _open_file_like(f, \u001b[39m'\u001b[39;49m\u001b[39mrb\u001b[39;49m\u001b[39m'\u001b[39;49m) \u001b[39mas\u001b[39;00m opened_file:\n\u001b[1;32m    777\u001b[0m     \u001b[39mif\u001b[39;00m _is_zipfile(opened_file):\n\u001b[1;32m    778\u001b[0m         \u001b[39m# The zipfile reader is going to advance the current file position.\u001b[39;00m\n\u001b[1;32m    779\u001b[0m         \u001b[39m# If we want to actually tail call to torch.jit.load, we need to\u001b[39;00m\n\u001b[1;32m    780\u001b[0m         \u001b[39m# reset back to the original position.\u001b[39;00m\n\u001b[1;32m    781\u001b[0m         orig_position \u001b[39m=\u001b[39m opened_file\u001b[39m.\u001b[39mtell()\n",
      "File \u001b[0;32m/usr/local/lib/python3.8/dist-packages/torch/serialization.py:270\u001b[0m, in \u001b[0;36m_open_file_like\u001b[0;34m(name_or_buffer, mode)\u001b[0m\n\u001b[1;32m    268\u001b[0m \u001b[39mdef\u001b[39;00m \u001b[39m_open_file_like\u001b[39m(name_or_buffer, mode):\n\u001b[1;32m    269\u001b[0m     \u001b[39mif\u001b[39;00m _is_path(name_or_buffer):\n\u001b[0;32m--> 270\u001b[0m         \u001b[39mreturn\u001b[39;00m _open_file(name_or_buffer, mode)\n\u001b[1;32m    271\u001b[0m     \u001b[39melse\u001b[39;00m:\n\u001b[1;32m    272\u001b[0m         \u001b[39mif\u001b[39;00m \u001b[39m'\u001b[39m\u001b[39mw\u001b[39m\u001b[39m'\u001b[39m \u001b[39min\u001b[39;00m mode:\n",
      "File \u001b[0;32m/usr/local/lib/python3.8/dist-packages/torch/serialization.py:251\u001b[0m, in \u001b[0;36m_open_file.__init__\u001b[0;34m(self, name, mode)\u001b[0m\n\u001b[1;32m    250\u001b[0m \u001b[39mdef\u001b[39;00m \u001b[39m__init__\u001b[39m(\u001b[39mself\u001b[39m, name, mode):\n\u001b[0;32m--> 251\u001b[0m     \u001b[39msuper\u001b[39m()\u001b[39m.\u001b[39m\u001b[39m__init__\u001b[39m(\u001b[39mopen\u001b[39;49m(name, mode))\n",
      "\u001b[0;31mFileNotFoundError\u001b[0m: [Errno 2] No such file or directory: '/home/work/CL/final_healthmodel/desc_11epoch.pt'"
     ]
    }
   ],
   "source": [
    "from transformers import AutoModelForSequenceClassification, AutoTokenizer\n",
    "tokenizer = AutoTokenizer.from_pretrained(cfg.model_path)\n",
    "\n",
    "for i in range(20) :\n",
    "    save_path = f\"/home/work/CL/final_healthmodel/desc_{i+1}epoch.pt\"\n",
    "    model = torch.load(save_path)\n",
    "\n",
    "    print(i+1,infer(model=model,loader=test_loader))\n",
    "\n"
   ]
  }
 ],
 "metadata": {
  "kernelspec": {
   "display_name": "PyTorch 1.14 (NGC 22.12/Python 3.8) on Backend.AI",
   "language": "python",
   "name": "python3"
  },
  "language_info": {
   "codemirror_mode": {
    "name": "ipython",
    "version": 3
   },
   "file_extension": ".py",
   "mimetype": "text/x-python",
   "name": "python",
   "nbconvert_exporter": "python",
   "pygments_lexer": "ipython3",
   "version": "3.8.10 (default, Nov 14 2022, 12:59:47) \n[GCC 9.4.0]"
  },
  "vscode": {
   "interpreter": {
    "hash": "767d51c1340bd893661ea55ea3124f6de3c7a262a8b4abca0554b478b1e2ff90"
   }
  }
 },
 "nbformat": 4,
 "nbformat_minor": 2
}
